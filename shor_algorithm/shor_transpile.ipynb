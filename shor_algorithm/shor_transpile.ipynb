{
 "cells": [
  {
   "cell_type": "code",
   "execution_count": null,
   "metadata": {},
   "outputs": [],
   "source": [
    "import sys\n",
    "sys.path.insert(0, \"D:/myProjects/AfekaCodeProjects/codeProjects/FinalProject_qiskit/qiskit_algorithm\")\n",
    "from qiskit.tools.visualization import plot_histogram\n",
    "from backend_operation import run_simulator, get_transpiled_circuits_of_circuit, get_fake_backend_list,get_unitary\n",
    "\n",
    "import random\n",
    "import timeit\n",
    "import matplotlib.colors as mcolors\n",
    "from shor_algo_adder_method import *"
   ]
  },
  {
   "cell_type": "code",
   "execution_count": null,
   "metadata": {},
   "outputs": [],
   "source": [
    "fake_backed_name = 'FakeAuckland' #random.sample(get_fake_backend_list(min_qubit=len(experiments[0].qubits), max_qubit=len(experiments[0].qubits) + 10),1)[0][0]"
   ]
  },
  {
   "cell_type": "code",
   "execution_count": null,
   "metadata": {},
   "outputs": [],
   "source": [
    "N = 21\n",
    "a = 13\n",
    "\n",
    "shor = shor_circiut(N, a)\n",
    "\n",
    "# qft_qc = qft(4)"
   ]
  },
  {
   "cell_type": "code",
   "execution_count": null,
   "metadata": {},
   "outputs": [],
   "source": [
    "transpiled_qc_list = get_transpiled_circuits_of_circuit(shor, ['Aer', fake_backed_name], \n",
    "                                                   [None, 'Full_Range'],\n",
    "                                                   optimization_level_list=[0,3])"
   ]
  },
  {
   "cell_type": "code",
   "execution_count": null,
   "metadata": {},
   "outputs": [],
   "source": [
    "plot_histogram({\n",
    "    qc.name : qc.depth()\n",
    "    for qc in transpiled_qc_list\n",
    "})"
   ]
  },
  {
   "cell_type": "code",
   "execution_count": null,
   "metadata": {},
   "outputs": [],
   "source": [
    "transpiled_qc_list[4].draw(fold = -1)"
   ]
  },
  {
   "cell_type": "code",
   "execution_count": null,
   "metadata": {},
   "outputs": [],
   "source": [
    "plot_histogram([run_simulator(qc,shots = 1024).get_counts() for qc in transpiled_qc_list[]], \n",
    "               legend=[qc.name for qc in transpiled_qc_list[]], color=list(random.choices(list(mcolors.get_named_colors_mapping().values()), k = len(transpiled_qc_list[]))),\n",
    "               title=\"Result transpilers\")"
   ]
  }
 ],
 "metadata": {
  "kernelspec": {
   "display_name": "Python 3",
   "language": "python",
   "name": "python3"
  },
  "language_info": {
   "codemirror_mode": {
    "name": "ipython",
    "version": 3
   },
   "file_extension": ".py",
   "mimetype": "text/x-python",
   "name": "python",
   "nbconvert_exporter": "python",
   "pygments_lexer": "ipython3",
   "version": "3.8.9"
  }
 },
 "nbformat": 4,
 "nbformat_minor": 2
}
