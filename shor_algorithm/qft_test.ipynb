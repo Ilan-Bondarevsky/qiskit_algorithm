{
 "cells": [
  {
   "cell_type": "code",
   "execution_count": 2,
   "metadata": {},
   "outputs": [],
   "source": [
    "import numpy as np\n",
    "\n",
    "import math\n",
    "\n",
    "from qiskit import BasicAer, execute\n",
    "from qiskit import QuantumCircuit, ClassicalRegister, QuantumRegister\n",
    "from qiskit.tools.visualization import plot_histogram, plot_bloch_multivector\n",
    "\n"
   ]
  },
  {
   "cell_type": "code",
   "execution_count": 3,
   "metadata": {},
   "outputs": [],
   "source": [
    "\n",
    "def qft(qc):\n",
    "    \"\"\"n-qubit QFT the first n qubits in circ\"\"\"\n",
    "    # qc = QuantumCircuit(n)\n",
    "    n=qc.num_qubits\n",
    "    for j in range(n-1, -1, -1):\n",
    "        qc.h(j)\n",
    "        for m in range(j-1, -1, -1):\n",
    "            qc.cp(np.pi/float(2**(j-m)), j, m, label=f\"{j-m+1}\")\n",
    "        qc.barrier()\n",
    "    # Don't forget the Swaps!\n",
    "    for qubit in range(n//2):\n",
    "        qc.swap(qubit, n-qubit-1)\n",
    "\n",
    "    # print(qc.draw())\n",
    "    # qc.name = \"QFT\"\n",
    "    return qc\n",
    "\n"
   ]
  },
  {
   "cell_type": "code",
   "execution_count": 4,
   "metadata": {},
   "outputs": [
    {
     "data": {
      "text/html": [
       "<pre style=\"word-wrap: normal;white-space: pre;background: #fff0;line-height: 1.1;font-family: &quot;Courier New&quot;,Courier,monospace\">                                                ░                        »\n",
       "q_0: ─────────────────────────────────■─────────░────────────────────────»\n",
       "                                      │         ░                        »\n",
       "q_1: ────────────────────────■────────┼─────────░────────────────■───────»\n",
       "                             │        │         ░                │       »\n",
       "q_2: ───────────────■────────┼────────┼─────────░───────■────────┼───────»\n",
       "                    │        │        │         ░ ┌───┐ │P(π/2)  │P(π/4) »\n",
       "q_3: ──────■────────┼────────┼────────┼─────────░─┤ H ├─■────────■───────»\n",
       "     ┌───┐ │P(π/2)  │P(π/4)  │P(π/8)  │P(π/16)  ░ └───┘ 2        3       »\n",
       "q_4: ┤ H ├─■────────■────────■────────■─────────░────────────────────────»\n",
       "     └───┘ 2        3        4        5         ░                        »\n",
       "c: 5/════════════════════════════════════════════════════════════════════»\n",
       "                                                                         »\n",
       "«               ░                         ░                ░ ┌───┐ ░       \n",
       "«q_0: ─■────────░────────────────■────────░───────■────────░─┤ H ├─░──X────\n",
       "«      │        ░                │        ░ ┌───┐ │P(π/2)  ░ └───┘ ░  │    \n",
       "«q_1: ─┼────────░───────■────────┼────────░─┤ H ├─■────────░───────░──┼──X─\n",
       "«      │        ░ ┌───┐ │P(π/2)  │P(π/4)  ░ └───┘ 2        ░       ░  │  │ \n",
       "«q_2: ─┼────────░─┤ H ├─■────────■────────░────────────────░───────░──┼──┼─\n",
       "«      │P(π/8)  ░ └───┘ 2        3        ░                ░       ░  │  │ \n",
       "«q_3: ─■────────░─────────────────────────░────────────────░───────░──┼──X─\n",
       "«      4        ░                         ░                ░       ░  │    \n",
       "«q_4: ──────────░─────────────────────────░────────────────░───────░──X────\n",
       "«               ░                         ░                ░       ░       \n",
       "«c: 5/═════════════════════════════════════════════════════════════════════\n",
       "«                                                                          </pre>"
      ],
      "text/plain": [
       "                                                ░                        »\n",
       "q_0: ─────────────────────────────────■─────────░────────────────────────»\n",
       "                                      │         ░                        »\n",
       "q_1: ────────────────────────■────────┼─────────░────────────────■───────»\n",
       "                             │        │         ░                │       »\n",
       "q_2: ───────────────■────────┼────────┼─────────░───────■────────┼───────»\n",
       "                    │        │        │         ░ ┌───┐ │P(π/2)  │P(π/4) »\n",
       "q_3: ──────■────────┼────────┼────────┼─────────░─┤ H ├─■────────■───────»\n",
       "     ┌───┐ │P(π/2)  │P(π/4)  │P(π/8)  │P(π/16)  ░ └───┘ 2        3       »\n",
       "q_4: ┤ H ├─■────────■────────■────────■─────────░────────────────────────»\n",
       "     └───┘ 2        3        4        5         ░                        »\n",
       "c: 5/════════════════════════════════════════════════════════════════════»\n",
       "                                                                         »\n",
       "«               ░                         ░                ░ ┌───┐ ░       \n",
       "«q_0: ─■────────░────────────────■────────░───────■────────░─┤ H ├─░──X────\n",
       "«      │        ░                │        ░ ┌───┐ │P(π/2)  ░ └───┘ ░  │    \n",
       "«q_1: ─┼────────░───────■────────┼────────░─┤ H ├─■────────░───────░──┼──X─\n",
       "«      │        ░ ┌───┐ │P(π/2)  │P(π/4)  ░ └───┘ 2        ░       ░  │  │ \n",
       "«q_2: ─┼────────░─┤ H ├─■────────■────────░────────────────░───────░──┼──┼─\n",
       "«      │P(π/8)  ░ └───┘ 2        3        ░                ░       ░  │  │ \n",
       "«q_3: ─■────────░─────────────────────────░────────────────░───────░──┼──X─\n",
       "«      4        ░                         ░                ░       ░  │    \n",
       "«q_4: ──────────░─────────────────────────░────────────────░───────░──X────\n",
       "«               ░                         ░                ░       ░       \n",
       "«c: 5/═════════════════════════════════════════════════════════════════════\n",
       "«                                                                          "
      ]
     },
     "execution_count": 4,
     "metadata": {},
     "output_type": "execute_result"
    }
   ],
   "source": [
    "q = QuantumRegister(5, 'q')\n",
    "c = ClassicalRegister(5, 'c')\n",
    "\n",
    "ft = QuantumCircuit(q, c)\n",
    "\n",
    "qft(ft)\n",
    "\n",
    "ft.draw()"
   ]
  },
  {
   "cell_type": "code",
   "execution_count": 7,
   "metadata": {},
   "outputs": [
    {
     "name": "stderr",
     "output_type": "stream",
     "text": [
      "No measurements in circuit \"circuit-120\", classical register will remain all zeros.\n"
     ]
    },
    {
     "ename": "BasicAerError",
     "evalue": "'qasm_simulator encountered unrecognized operation \"h\"'",
     "output_type": "error",
     "traceback": [
      "\u001b[1;31m---------------------------------------------------------------------------\u001b[0m",
      "\u001b[1;31mBasicAerError\u001b[0m                             Traceback (most recent call last)",
      "Cell \u001b[1;32mIn[7], line 5\u001b[0m\n\u001b[0;32m      3\u001b[0m qc_init \u001b[38;5;241m=\u001b[39m ft\u001b[38;5;241m.\u001b[39mcopy()\n\u001b[0;32m      4\u001b[0m \u001b[38;5;66;03m# qc_init.save_statevector()\u001b[39;00m\n\u001b[1;32m----> 5\u001b[0m statevector \u001b[38;5;241m=\u001b[39m \u001b[43msim\u001b[49m\u001b[38;5;241;43m.\u001b[39;49m\u001b[43mrun\u001b[49m\u001b[43m(\u001b[49m\u001b[43mqc_init\u001b[49m\u001b[43m)\u001b[49m\u001b[38;5;241m.\u001b[39mresult()\u001b[38;5;241m.\u001b[39mget_statevector()\n\u001b[0;32m      6\u001b[0m plot_bloch_multivector(statevector)\n",
      "File \u001b[1;32mc:\\Users\\Shalev\\AppData\\Local\\Programs\\Python\\Python38\\lib\\site-packages\\qiskit\\utils\\deprecation.py:182\u001b[0m, in \u001b[0;36mdeprecate_arg.<locals>.decorator.<locals>.wrapper\u001b[1;34m(*args, **kwargs)\u001b[0m\n\u001b[0;32m    169\u001b[0m \u001b[38;5;129m@functools\u001b[39m\u001b[38;5;241m.\u001b[39mwraps(func)\n\u001b[0;32m    170\u001b[0m \u001b[38;5;28;01mdef\u001b[39;00m \u001b[38;5;21mwrapper\u001b[39m(\u001b[38;5;241m*\u001b[39margs, \u001b[38;5;241m*\u001b[39m\u001b[38;5;241m*\u001b[39mkwargs):\n\u001b[0;32m    171\u001b[0m     _maybe_warn_and_rename_kwarg(\n\u001b[0;32m    172\u001b[0m         args,\n\u001b[0;32m    173\u001b[0m         kwargs,\n\u001b[1;32m   (...)\u001b[0m\n\u001b[0;32m    180\u001b[0m         predicate\u001b[38;5;241m=\u001b[39mpredicate,\n\u001b[0;32m    181\u001b[0m     )\n\u001b[1;32m--> 182\u001b[0m     \u001b[38;5;28;01mreturn\u001b[39;00m \u001b[43mfunc\u001b[49m\u001b[43m(\u001b[49m\u001b[38;5;241;43m*\u001b[39;49m\u001b[43margs\u001b[49m\u001b[43m,\u001b[49m\u001b[43m \u001b[49m\u001b[38;5;241;43m*\u001b[39;49m\u001b[38;5;241;43m*\u001b[39;49m\u001b[43mkwargs\u001b[49m\u001b[43m)\u001b[49m\n",
      "File \u001b[1;32mc:\\Users\\Shalev\\AppData\\Local\\Programs\\Python\\Python38\\lib\\site-packages\\qiskit\\providers\\basicaer\\qasm_simulator.py:424\u001b[0m, in \u001b[0;36mQasmSimulatorPy.run\u001b[1;34m(self, qobj, **backend_options)\u001b[0m\n\u001b[0;32m    422\u001b[0m \u001b[38;5;28mself\u001b[39m\u001b[38;5;241m.\u001b[39m_set_options(qobj_config\u001b[38;5;241m=\u001b[39mqobj_options, backend_options\u001b[38;5;241m=\u001b[39mbackend_options)\n\u001b[0;32m    423\u001b[0m job_id \u001b[38;5;241m=\u001b[39m \u001b[38;5;28mstr\u001b[39m(uuid\u001b[38;5;241m.\u001b[39muuid4())\n\u001b[1;32m--> 424\u001b[0m job \u001b[38;5;241m=\u001b[39m BasicAerJob(\u001b[38;5;28mself\u001b[39m, job_id, \u001b[38;5;28;43mself\u001b[39;49m\u001b[38;5;241;43m.\u001b[39;49m\u001b[43m_run_job\u001b[49m\u001b[43m(\u001b[49m\u001b[43mjob_id\u001b[49m\u001b[43m,\u001b[49m\u001b[43m \u001b[49m\u001b[43mqobj\u001b[49m\u001b[43m)\u001b[49m)\n\u001b[0;32m    425\u001b[0m \u001b[38;5;28;01mreturn\u001b[39;00m job\n",
      "File \u001b[1;32mc:\\Users\\Shalev\\AppData\\Local\\Programs\\Python\\Python38\\lib\\site-packages\\qiskit\\providers\\basicaer\\qasm_simulator.py:444\u001b[0m, in \u001b[0;36mQasmSimulatorPy._run_job\u001b[1;34m(self, job_id, qobj)\u001b[0m\n\u001b[0;32m    442\u001b[0m start \u001b[38;5;241m=\u001b[39m time\u001b[38;5;241m.\u001b[39mtime()\n\u001b[0;32m    443\u001b[0m \u001b[38;5;28;01mfor\u001b[39;00m experiment \u001b[38;5;129;01min\u001b[39;00m qobj\u001b[38;5;241m.\u001b[39mexperiments:\n\u001b[1;32m--> 444\u001b[0m     result_list\u001b[38;5;241m.\u001b[39mappend(\u001b[38;5;28;43mself\u001b[39;49m\u001b[38;5;241;43m.\u001b[39;49m\u001b[43mrun_experiment\u001b[49m\u001b[43m(\u001b[49m\u001b[43mexperiment\u001b[49m\u001b[43m)\u001b[49m)\n\u001b[0;32m    445\u001b[0m end \u001b[38;5;241m=\u001b[39m time\u001b[38;5;241m.\u001b[39mtime()\n\u001b[0;32m    446\u001b[0m result \u001b[38;5;241m=\u001b[39m {\n\u001b[0;32m    447\u001b[0m     \u001b[38;5;124m\"\u001b[39m\u001b[38;5;124mbackend_name\u001b[39m\u001b[38;5;124m\"\u001b[39m: \u001b[38;5;28mself\u001b[39m\u001b[38;5;241m.\u001b[39mname(),\n\u001b[0;32m    448\u001b[0m     \u001b[38;5;124m\"\u001b[39m\u001b[38;5;124mbackend_version\u001b[39m\u001b[38;5;124m\"\u001b[39m: \u001b[38;5;28mself\u001b[39m\u001b[38;5;241m.\u001b[39m_configuration\u001b[38;5;241m.\u001b[39mbackend_version,\n\u001b[1;32m   (...)\u001b[0m\n\u001b[0;32m    455\u001b[0m     \u001b[38;5;124m\"\u001b[39m\u001b[38;5;124mheader\u001b[39m\u001b[38;5;124m\"\u001b[39m: qobj\u001b[38;5;241m.\u001b[39mheader\u001b[38;5;241m.\u001b[39mto_dict(),\n\u001b[0;32m    456\u001b[0m }\n",
      "File \u001b[1;32mc:\\Users\\Shalev\\AppData\\Local\\Programs\\Python\\Python38\\lib\\site-packages\\qiskit\\providers\\basicaer\\qasm_simulator.py:619\u001b[0m, in \u001b[0;36mQasmSimulatorPy.run_experiment\u001b[1;34m(self, experiment)\u001b[0m\n\u001b[0;32m    617\u001b[0m         backend \u001b[38;5;241m=\u001b[39m \u001b[38;5;28mself\u001b[39m\u001b[38;5;241m.\u001b[39mname()\n\u001b[0;32m    618\u001b[0m         err_msg \u001b[38;5;241m=\u001b[39m \u001b[38;5;124m'\u001b[39m\u001b[38;5;132;01m{0}\u001b[39;00m\u001b[38;5;124m encountered unrecognized operation \u001b[39m\u001b[38;5;124m\"\u001b[39m\u001b[38;5;132;01m{1}\u001b[39;00m\u001b[38;5;124m\"\u001b[39m\u001b[38;5;124m'\u001b[39m\n\u001b[1;32m--> 619\u001b[0m         \u001b[38;5;28;01mraise\u001b[39;00m BasicAerError(err_msg\u001b[38;5;241m.\u001b[39mformat(backend, operation\u001b[38;5;241m.\u001b[39mname))\n\u001b[0;32m    621\u001b[0m \u001b[38;5;66;03m# Add final creg data to memory list\u001b[39;00m\n\u001b[0;32m    622\u001b[0m \u001b[38;5;28;01mif\u001b[39;00m \u001b[38;5;28mself\u001b[39m\u001b[38;5;241m.\u001b[39m_number_of_cmembits \u001b[38;5;241m>\u001b[39m \u001b[38;5;241m0\u001b[39m:\n",
      "\u001b[1;31mBasicAerError\u001b[0m: 'qasm_simulator encountered unrecognized operation \"h\"'"
     ]
    }
   ],
   "source": [
    "sim = BasicAer.get_backend('qasm_simulator')\n",
    "\n",
    "qc_init = ft.copy()\n",
    "# qc_init.save_statevector()\n",
    "statevector = sim.run(qc_init).result().get_statevector()\n",
    "plot_bloch_multivector(statevector)"
   ]
  },
  {
   "cell_type": "code",
   "execution_count": null,
   "metadata": {},
   "outputs": [],
   "source": []
  }
 ],
 "metadata": {
  "kernelspec": {
   "display_name": "Python 3",
   "language": "python",
   "name": "python3"
  },
  "language_info": {
   "codemirror_mode": {
    "name": "ipython",
    "version": 3
   },
   "file_extension": ".py",
   "mimetype": "text/x-python",
   "name": "python",
   "nbconvert_exporter": "python",
   "pygments_lexer": "ipython3",
   "version": "3.8.9"
  }
 },
 "nbformat": 4,
 "nbformat_minor": 2
}
