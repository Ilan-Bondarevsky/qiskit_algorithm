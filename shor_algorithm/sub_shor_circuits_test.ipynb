{
 "cells": [
  {
   "cell_type": "code",
   "execution_count": 1,
   "metadata": {},
   "outputs": [],
   "source": [
    "\n",
    "import math\n",
    "\n",
    "from qiskit import QuantumCircuit, ClassicalRegister, QuantumRegister, Aer, transpile\n",
    "\n",
    "from qiskit.tools.visualization import plot_histogram, plot_bloch_multivector\n",
    "from shor_algo_adder_method import *\n",
    "from qiskit.circuit.library import DraperQFTAdder\n",
    "\n"
   ]
  },
  {
   "cell_type": "code",
   "execution_count": 5,
   "metadata": {},
   "outputs": [
    {
     "ename": "CircuitError",
     "evalue": "\"Trying to compose with another QuantumCircuit which has more 'in' edges.\"",
     "output_type": "error",
     "traceback": [
      "\u001b[1;31m---------------------------------------------------------------------------\u001b[0m",
      "\u001b[1;31mCircuitError\u001b[0m                              Traceback (most recent call last)",
      "Cell \u001b[1;32mIn[5], line 19\u001b[0m\n\u001b[0;32m     15\u001b[0m set_start_state(main, b, n\u001b[38;5;241m/\u001b[39m\u001b[38;5;241m/\u001b[39m\u001b[38;5;241m2\u001b[39m)\n\u001b[0;32m     18\u001b[0m main\u001b[38;5;241m.\u001b[39mappend(qft(math\u001b[38;5;241m.\u001b[39mceil(n\u001b[38;5;241m/\u001b[39m\u001b[38;5;241m2\u001b[39m), \u001b[38;5;28;01mFalse\u001b[39;00m), \u001b[38;5;28mrange\u001b[39m(n\u001b[38;5;241m/\u001b[39m\u001b[38;5;241m/\u001b[39m\u001b[38;5;241m2\u001b[39m, n))\n\u001b[1;32m---> 19\u001b[0m main \u001b[38;5;241m=\u001b[39m \u001b[43mmain\u001b[49m\u001b[38;5;241;43m.\u001b[39;49m\u001b[43mcompose\u001b[49m\u001b[43m(\u001b[49m\u001b[43madder\u001b[49m\u001b[43m(\u001b[49m\u001b[43mmath\u001b[49m\u001b[38;5;241;43m.\u001b[39;49m\u001b[43mceil\u001b[49m\u001b[43m(\u001b[49m\u001b[43mn\u001b[49m\u001b[38;5;241;43m/\u001b[39;49m\u001b[38;5;241;43m2\u001b[39;49m\u001b[43m)\u001b[49m\u001b[43m,\u001b[49m\u001b[43m \u001b[49m\u001b[43mkind\u001b[49m\u001b[38;5;241;43m=\u001b[39;49m\u001b[38;5;124;43m\"\u001b[39;49m\u001b[38;5;124;43mfixed\u001b[39;49m\u001b[38;5;124;43m\"\u001b[39;49m\u001b[43m)\u001b[49m\u001b[43m,\u001b[49m\u001b[43m \u001b[49m\u001b[43mqubits\u001b[49m\u001b[38;5;241;43m=\u001b[39;49m\u001b[38;5;28;43mrange\u001b[39;49m\u001b[43m(\u001b[49m\u001b[43mn\u001b[49m\u001b[43m)\u001b[49m\u001b[43m)\u001b[49m\n\u001b[0;32m     20\u001b[0m \u001b[38;5;66;03m# main.append(adder(n//2, kind=\"fixed\"), range(n))\u001b[39;00m\n\u001b[0;32m     21\u001b[0m main\u001b[38;5;241m.\u001b[39mappend(qft_dagger(math\u001b[38;5;241m.\u001b[39mceil(n\u001b[38;5;241m/\u001b[39m\u001b[38;5;241m2\u001b[39m), \u001b[38;5;28;01mFalse\u001b[39;00m), \u001b[38;5;28mrange\u001b[39m(n\u001b[38;5;241m/\u001b[39m\u001b[38;5;241m/\u001b[39m\u001b[38;5;241m2\u001b[39m, n))\n",
      "File \u001b[1;32mc:\\Users\\Shalev\\AppData\\Local\\Programs\\Python\\Python38\\lib\\site-packages\\qiskit\\circuit\\quantumcircuit.py:925\u001b[0m, in \u001b[0;36mQuantumCircuit.compose\u001b[1;34m(self, other, qubits, clbits, front, inplace, wrap)\u001b[0m\n\u001b[0;32m    922\u001b[0m     \u001b[38;5;28;01mreturn\u001b[39;00m dest\n\u001b[0;32m    924\u001b[0m \u001b[38;5;28;01mif\u001b[39;00m other\u001b[38;5;241m.\u001b[39mnum_qubits \u001b[38;5;241m>\u001b[39m dest\u001b[38;5;241m.\u001b[39mnum_qubits \u001b[38;5;129;01mor\u001b[39;00m other\u001b[38;5;241m.\u001b[39mnum_clbits \u001b[38;5;241m>\u001b[39m dest\u001b[38;5;241m.\u001b[39mnum_clbits:\n\u001b[1;32m--> 925\u001b[0m     \u001b[38;5;28;01mraise\u001b[39;00m CircuitError(\n\u001b[0;32m    926\u001b[0m         \u001b[38;5;124m\"\u001b[39m\u001b[38;5;124mTrying to compose with another QuantumCircuit which has more \u001b[39m\u001b[38;5;124m'\u001b[39m\u001b[38;5;124min\u001b[39m\u001b[38;5;124m'\u001b[39m\u001b[38;5;124m edges.\u001b[39m\u001b[38;5;124m\"\u001b[39m\n\u001b[0;32m    927\u001b[0m     )\n\u001b[0;32m    929\u001b[0m \u001b[38;5;66;03m# number of qubits and clbits must match number in circuit or None\u001b[39;00m\n\u001b[0;32m    930\u001b[0m edge_map: \u001b[38;5;28mdict\u001b[39m[Qubit \u001b[38;5;241m|\u001b[39m Clbit, Qubit \u001b[38;5;241m|\u001b[39m Clbit] \u001b[38;5;241m=\u001b[39m {}\n",
      "\u001b[1;31mCircuitError\u001b[0m: \"Trying to compose with another QuantumCircuit which has more 'in' edges.\""
     ]
    }
   ],
   "source": [
    "n = 8\n",
    "q = QuantumRegister(n, 'q')\n",
    "c = ClassicalRegister(math.ceil(n/2), 'c')\n",
    "\n",
    "thiers = QuantumCircuit(q, c)\n",
    "main = QuantumCircuit(q, c)\n",
    "\n",
    "a = 7\n",
    "b = 6\n",
    "\n",
    "set_start_state(thiers, a, 0)\n",
    "set_start_state(thiers, b, n//2)\n",
    "\n",
    "set_start_state(main, a, 0)\n",
    "set_start_state(main, b, n//2)\n",
    "\n",
    "\n",
    "main.append(qft(math.ceil(n/2), False), range(n//2, n))\n",
    "main = main.compose(adder(n//2, kind=\"fixed\"), qubits=range(n))\n",
    "# main.append(adder(n//2, kind=\"fixed\"), range(n))\n",
    "main.append(qft_dagger(math.ceil(n/2), False), range(n//2, n))\n",
    "\n",
    "thiers = thiers.compose(DraperQFTAdder(n//2, kind=\"fixed\").decompose(), range(n))\n",
    "# thiers.append(DraperQFTAdder(n//2, kind=\"fixed\"), range(n))\n",
    "\n",
    "thiers.measure(range(n//2, n), range(math.ceil(n/2)))\n",
    "main.measure(range(n//2, n), range(math.ceil(n/2)))\n",
    "\n",
    "main.draw(\"mpl\")"
   ]
  },
  {
   "cell_type": "code",
   "execution_count": null,
   "metadata": {},
   "outputs": [],
   "source": [
    "b = 12\n",
    "a = 15\n",
    "n = 4\n",
    "\n",
    "q = QuantumRegister(n, 'q')\n",
    "c = ClassicalRegister(n, 'c')\n",
    "classic_a = QuantumCircuit(q, c)\n",
    "\n",
    "set_start_state(classic_a, b, 0)\n",
    "\n",
    "classic_a.append(qft(n, False), range(n))\n",
    "classic_a = classic_a.compose(adder_classic_a(n, a, kind=\"fixed\"), range(n))\n",
    "classic_a.append(qft_dagger(n, False), range(n))\n",
    "\n",
    "classic_a.measure(range(n), range(n))\n",
    "\n",
    "classic_a.draw('mpl')\n"
   ]
  },
  {
   "cell_type": "code",
   "execution_count": null,
   "metadata": {},
   "outputs": [],
   "source": [
    "main.draw('mpl')"
   ]
  },
  {
   "cell_type": "code",
   "execution_count": null,
   "metadata": {},
   "outputs": [],
   "source": [
    "sim = Aer.get_backend(\"aer_simulator\")\n",
    "qc_init = ft.copy()\n",
    "qc_init.save_statevector()\n",
    "statevector = sim.run(qc_init).result().get_statevector()\n",
    "plot_bloch_multivector(statevector)"
   ]
  },
  {
   "cell_type": "code",
   "execution_count": null,
   "metadata": {},
   "outputs": [],
   "source": [
    "aer_sim = Aer.get_backend('aer_simulator')\n",
    "t_thiers = transpile(thiers, aer_sim)\n",
    "t_main = transpile(main, aer_sim)\n",
    "t_classic = transpile(classic_a, aer_sim)\n",
    "\n",
    "\n",
    "counts_thiers = aer_sim.run(t_thiers).result().get_counts()\n",
    "count_main = aer_sim.run(t_main).result().get_counts()\n",
    "count_cls = aer_sim.run(t_classic).result().get_counts()\n",
    "plot_histogram([count_main, counts_thiers, count_cls], legend=[\"main\", \"thiers\", \"cls\"])"
   ]
  },
  {
   "cell_type": "code",
   "execution_count": null,
   "metadata": {},
   "outputs": [],
   "source": [
    "n = 5\n",
    "q = QuantumRegister(n, 'q')\n",
    "c = ClassicalRegister(math.ceil(n/2), 'c')\n",
    "\n",
    "subtract = QuantumCircuit(q, c)\n",
    "\n",
    "q = QuantumRegister(math.ceil(n/2), 'q')\n",
    "c = ClassicalRegister(math.ceil(n/2), 'c')\n",
    "\n",
    "subtract2 = QuantumCircuit(q, c)\n",
    "\n",
    "a = 1\n",
    "b = 3\n",
    "\n",
    "set_start_state(subtract, a, 0)\n",
    "set_start_state(subtract, b, n//2)\n",
    "\n",
    "set_start_state(subtract2, b, 0)\n",
    "\n",
    "\n",
    "subtract.append(qft(math.ceil(n/2), False), range(n//2, n))\n",
    "# main = main.compose(adder(n//2, kind=\"half\"), qubits=range(n))\n",
    "# subtract = subtract.compose(adder(n//2, kind=\"half\").inverse(), range(n))\n",
    "subtract.append(subtracter(n//2), range(n))\n",
    "subtract.append(qft_dagger(math.ceil(n/2), False), range(n//2, n))\n",
    "\n",
    "subtract2.append(qft(math.ceil(n/2), False), range(math.ceil(n/2)))\n",
    "# main = main.compose(adder(n//2, kind=\"half\"), qubits=range(n))\n",
    "# subtract = subtract.compose(adder(n//2, kind=\"half\").inverse(), range(n))\n",
    "subtract2.append(subtracter_classic_a(n//2, a), range(math.ceil(n/2)))\n",
    "subtract2.append(qft_dagger(math.ceil(n/2), False), range(math.ceil(n/2)))\n",
    "\n",
    "# thiers = thiers.compose(DraperQFTAdder(n//2, kind=\"half\").decompose(), range(n))\n",
    "\n",
    "subtract.measure(range(n//2, n), range(math.ceil(n/2)))\n",
    "subtract2.measure(range(math.ceil(n/2)), range(math.ceil(n/2)))\n",
    "\n",
    "subtract.draw(\"mpl\")"
   ]
  },
  {
   "cell_type": "code",
   "execution_count": null,
   "metadata": {},
   "outputs": [],
   "source": [
    "subtract2.draw(\"mpl\")"
   ]
  },
  {
   "cell_type": "code",
   "execution_count": null,
   "metadata": {},
   "outputs": [],
   "source": [
    "aer_sim = Aer.get_backend('aer_simulator')\n",
    "t_subtract = transpile(subtract, aer_sim)\n",
    "t_subtract2 = transpile(subtract2, aer_sim)\n",
    "\n",
    "counts_subtract = aer_sim.run(t_subtract).result().get_counts()\n",
    "counts_subtract2 = aer_sim.run(t_subtract2).result().get_counts()\n",
    "plot_histogram([counts_subtract, counts_subtract2], legend=[\"draper\", \"a inside\"])"
   ]
  },
  {
   "cell_type": "code",
   "execution_count": null,
   "metadata": {},
   "outputs": [],
   "source": [
    "n = 4\n",
    "N = 11\n",
    "\n",
    "a = 2\n",
    "b = 0\n",
    "x = 6\n",
    "\n",
    "a_mod_n = QuantumCircuit(2*n + 4, n+1)\n",
    "\n",
    "a_mod_n.h(0)\n",
    "set_start_state(a_mod_n, x, 1)\n",
    "set_start_state(a_mod_n, b, n+2)\n",
    "\n",
    "\n",
    "# a_mod_n = a_mod_n.compose(add_mod_n(a, N), range(n+3))\n",
    "a_mod_n = a_mod_n.compose(U(N, a, 1).decompose(), range(2*n + 4))\n",
    "# a_mod_n = a_mod_n.compose(c_mult_a_mod_n(a, N), range(2*n + 4))\n",
    "\n",
    "a_mod_n.measure(range(1, n+2), range(n+1))\n",
    "a_mod_n.draw('mpl', fold=-1)"
   ]
  },
  {
   "cell_type": "code",
   "execution_count": null,
   "metadata": {},
   "outputs": [],
   "source": [
    "n = 4\n",
    "N = 11\n",
    "\n",
    "a = 4\n",
    "x = 3\n",
    "b = 2\n",
    "\n",
    "ax_mod_n = QuantumCircuit(2*n + 4, n+1)\n",
    "ax_mod_n.x(0)\n",
    "set_start_state(ax_mod_n, x, 1)\n",
    "set_start_state(ax_mod_n, b, n+2)\n",
    "\n",
    "\n",
    "# ax_mod_n = ax_mod_n.compose(c_mult_a_mod_n(a, N), range(2*n + 4))\n",
    "ax_mod_n.append(c_mult_a_mod_n(a, N), range(2*n + 4))\n",
    "\n",
    "ax_mod_n.measure(range(n+2, 2*n+3), range(n+1))\n",
    "ax_mod_n.draw('mpl', fold=-1)"
   ]
  },
  {
   "cell_type": "code",
   "execution_count": null,
   "metadata": {},
   "outputs": [],
   "source": [
    "aer_sim = Aer.get_backend('aer_simulator')\n",
    "t_subtract = transpile(ax_mod_n, aer_sim)\n",
    "\n",
    "counts_subtract = aer_sim.run(t_subtract).result().get_counts()\n",
    "plot_histogram(counts_subtract)"
   ]
  }
 ],
 "metadata": {
  "kernelspec": {
   "display_name": "Python 3",
   "language": "python",
   "name": "python3"
  },
  "language_info": {
   "codemirror_mode": {
    "name": "ipython",
    "version": 3
   },
   "file_extension": ".py",
   "mimetype": "text/x-python",
   "name": "python",
   "nbconvert_exporter": "python",
   "pygments_lexer": "ipython3",
   "version": "3.8.9"
  }
 },
 "nbformat": 4,
 "nbformat_minor": 2
}
