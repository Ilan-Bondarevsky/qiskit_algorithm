{
 "cells": [
  {
   "cell_type": "code",
   "execution_count": null,
   "metadata": {},
   "outputs": [],
   "source": [
    "\n",
    "import math\n",
    "\n",
    "from qiskit import QuantumCircuit, ClassicalRegister, QuantumRegister, Aer, transpile\n",
    "\n",
    "from qiskit.tools.visualization import plot_histogram, plot_bloch_multivector\n",
    "from shor_algo_adder_method import *\n",
    "from qiskit.circuit.library import DraperQFTAdder\n",
    "\n"
   ]
  },
  {
   "cell_type": "code",
   "execution_count": null,
   "metadata": {},
   "outputs": [],
   "source": [
    "n = 8\n",
    "q = QuantumRegister(n, 'q')\n",
    "c = ClassicalRegister(math.ceil(n/2), 'c')\n",
    "\n",
    "thiers = QuantumCircuit(q, c)\n",
    "main = QuantumCircuit(q, c)\n",
    "\n",
    "a = 15\n",
    "b = 12\n",
    "\n",
    "set_start_state(thiers, a, 0)\n",
    "set_start_state(thiers, b, n//2)\n",
    "\n",
    "set_start_state(main, a, 0)\n",
    "set_start_state(main, b, n//2)\n",
    "\n",
    "\n",
    "main.append(qft(math.ceil(n/2), False), range(n//2, n))\n",
    "main = main.compose(adder(n//2, kind=\"fixed\"), qubits=range(n))\n",
    "# main.append(adder(n//2, kind=\"fixed\"), range(n))\n",
    "main.append(qft_dagger(math.ceil(n/2), False), range(n//2, n))\n",
    "\n",
    "thiers = thiers.compose(DraperQFTAdder(n//2, kind=\"fixed\").decompose(), range(n))\n",
    "# thiers.append(DraperQFTAdder(n//2, kind=\"fixed\"), range(n))\n",
    "\n",
    "thiers.measure(range(n//2, n), range(math.ceil(n/2)))\n",
    "main.measure(range(n//2, n), range(math.ceil(n/2)))\n",
    "\n",
    "thiers.draw(\"mpl\")"
   ]
  },
  {
   "cell_type": "code",
   "execution_count": null,
   "metadata": {},
   "outputs": [],
   "source": [
    "b = 12\n",
    "a = 15\n",
    "n = 4\n",
    "\n",
    "q = QuantumRegister(n, 'q')\n",
    "c = ClassicalRegister(n, 'c')\n",
    "classic_a = QuantumCircuit(q, c)\n",
    "\n",
    "set_start_state(classic_a, b, 0)\n",
    "\n",
    "classic_a.append(qft(n, False), range(n))\n",
    "classic_a = classic_a.compose(adder_classic_a(n, a, kind=\"fixed\"), range(n))\n",
    "classic_a.append(qft_dagger(n, False), range(n))\n",
    "\n",
    "classic_a.measure(range(n), range(n))\n",
    "\n",
    "classic_a.draw('mpl')\n"
   ]
  },
  {
   "cell_type": "code",
   "execution_count": null,
   "metadata": {},
   "outputs": [],
   "source": [
    "main.draw('mpl')"
   ]
  },
  {
   "cell_type": "code",
   "execution_count": null,
   "metadata": {},
   "outputs": [],
   "source": [
    "sim = Aer.get_backend(\"aer_simulator\")\n",
    "qc_init = ft.copy()\n",
    "qc_init.save_statevector()\n",
    "statevector = sim.run(qc_init).result().get_statevector()\n",
    "plot_bloch_multivector(statevector)"
   ]
  },
  {
   "cell_type": "code",
   "execution_count": null,
   "metadata": {},
   "outputs": [],
   "source": [
    "aer_sim = Aer.get_backend('aer_simulator')\n",
    "t_thiers = transpile(thiers, aer_sim)\n",
    "t_main = transpile(main, aer_sim)\n",
    "t_classic = transpile(classic_a, aer_sim)\n",
    "\n",
    "\n",
    "counts_thiers = aer_sim.run(t_thiers).result().get_counts()\n",
    "count_main = aer_sim.run(t_main).result().get_counts()\n",
    "count_cls = aer_sim.run(t_classic).result().get_counts()\n",
    "plot_histogram([count_main, counts_thiers, count_cls], legend=[\"main\", \"thiers\", \"cls\"])"
   ]
  },
  {
   "cell_type": "code",
   "execution_count": null,
   "metadata": {},
   "outputs": [],
   "source": [
    "n = 5\n",
    "q = QuantumRegister(n, 'q')\n",
    "c = ClassicalRegister(math.ceil(n/2), 'c')\n",
    "\n",
    "subtract = QuantumCircuit(q, c)\n",
    "\n",
    "q = QuantumRegister(math.ceil(n/2), 'q')\n",
    "c = ClassicalRegister(math.ceil(n/2), 'c')\n",
    "\n",
    "subtract2 = QuantumCircuit(q, c)\n",
    "\n",
    "a = 1\n",
    "b = 3\n",
    "\n",
    "set_start_state(subtract, a, 0)\n",
    "set_start_state(subtract, b, n//2)\n",
    "\n",
    "set_start_state(subtract2, b, 0)\n",
    "\n",
    "\n",
    "subtract.append(qft(math.ceil(n/2), False), range(n//2, n))\n",
    "# main = main.compose(adder(n//2, kind=\"half\"), qubits=range(n))\n",
    "# subtract = subtract.compose(adder(n//2, kind=\"half\").inverse(), range(n))\n",
    "subtract.append(subtracter(n//2), range(n))\n",
    "subtract.append(qft_dagger(math.ceil(n/2), False), range(n//2, n))\n",
    "\n",
    "subtract2.append(qft(math.ceil(n/2), False), range(math.ceil(n/2)))\n",
    "# main = main.compose(adder(n//2, kind=\"half\"), qubits=range(n))\n",
    "# subtract = subtract.compose(adder(n//2, kind=\"half\").inverse(), range(n))\n",
    "subtract2.append(subtracter_classic_a(n//2, a), range(math.ceil(n/2)))\n",
    "subtract2.append(qft_dagger(math.ceil(n/2), False), range(math.ceil(n/2)))\n",
    "\n",
    "# thiers = thiers.compose(DraperQFTAdder(n//2, kind=\"half\").decompose(), range(n))\n",
    "\n",
    "subtract.measure(range(n//2, n), range(math.ceil(n/2)))\n",
    "subtract2.measure(range(math.ceil(n/2)), range(math.ceil(n/2)))\n",
    "\n",
    "subtract.draw(\"mpl\")"
   ]
  },
  {
   "cell_type": "code",
   "execution_count": null,
   "metadata": {},
   "outputs": [],
   "source": [
    "subtract2.draw(\"mpl\")"
   ]
  },
  {
   "cell_type": "code",
   "execution_count": null,
   "metadata": {},
   "outputs": [],
   "source": [
    "aer_sim = Aer.get_backend('aer_simulator')\n",
    "t_subtract = transpile(subtract, aer_sim)\n",
    "t_subtract2 = transpile(subtract2, aer_sim)\n",
    "\n",
    "counts_subtract = aer_sim.run(t_subtract).result().get_counts()\n",
    "counts_subtract2 = aer_sim.run(t_subtract2).result().get_counts()\n",
    "plot_histogram([counts_subtract, counts_subtract2], legend=[\"draper\", \"a inside\"])"
   ]
  },
  {
   "cell_type": "code",
   "execution_count": null,
   "metadata": {},
   "outputs": [],
   "source": [
    "n = 4\n",
    "N = 11\n",
    "\n",
    "a = 2\n",
    "b = 0\n",
    "x = 6\n",
    "\n",
    "a_mod_n = QuantumCircuit(2*n + 4, n+1)\n",
    "\n",
    "a_mod_n.h(0)\n",
    "set_start_state(a_mod_n, x, 1)\n",
    "set_start_state(a_mod_n, b, n+2)\n",
    "\n",
    "\n",
    "# a_mod_n = a_mod_n.compose(add_mod_n(a, N), range(n+3))\n",
    "a_mod_n = a_mod_n.compose(U(N, a, 1).decompose(), range(2*n + 4))\n",
    "# a_mod_n = a_mod_n.compose(c_mult_a_mod_n(a, N), range(2*n + 4))\n",
    "\n",
    "a_mod_n.measure(range(1, n+2), range(n+1))\n",
    "a_mod_n.draw('mpl', fold=-1)"
   ]
  },
  {
   "cell_type": "code",
   "execution_count": null,
   "metadata": {},
   "outputs": [],
   "source": [
    "n = 4\n",
    "N = 11\n",
    "\n",
    "a = 4\n",
    "x = 3\n",
    "b = 2\n",
    "\n",
    "ax_mod_n = QuantumCircuit(2*n + 4, n+1)\n",
    "ax_mod_n.x(0)\n",
    "set_start_state(ax_mod_n, x, 1)\n",
    "set_start_state(ax_mod_n, b, n+2)\n",
    "\n",
    "\n",
    "# ax_mod_n = ax_mod_n.compose(c_mult_a_mod_n(a, N), range(2*n + 4))\n",
    "ax_mod_n.append(c_mult_a_mod_n(a, N), range(2*n + 4))\n",
    "\n",
    "ax_mod_n.measure(range(n+2, 2*n+3), range(n+1))\n",
    "ax_mod_n.draw('mpl', fold=-1)"
   ]
  },
  {
   "cell_type": "code",
   "execution_count": null,
   "metadata": {},
   "outputs": [],
   "source": [
    "aer_sim = Aer.get_backend('aer_simulator')\n",
    "t_subtract = transpile(ax_mod_n, aer_sim)\n",
    "\n",
    "counts_subtract = aer_sim.run(t_subtract).result().get_counts()\n",
    "plot_histogram(counts_subtract)"
   ]
  }
 ],
 "metadata": {
  "kernelspec": {
   "display_name": "Python 3",
   "language": "python",
   "name": "python3"
  },
  "language_info": {
   "codemirror_mode": {
    "name": "ipython",
    "version": 3
   },
   "file_extension": ".py",
   "mimetype": "text/x-python",
   "name": "python",
   "nbconvert_exporter": "python",
   "pygments_lexer": "ipython3",
   "version": "3.8.9"
  }
 },
 "nbformat": 4,
 "nbformat_minor": 2
}
