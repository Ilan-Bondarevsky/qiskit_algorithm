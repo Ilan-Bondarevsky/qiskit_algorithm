{
 "cells": [
  {
   "cell_type": "code",
   "execution_count": 2,
   "metadata": {},
   "outputs": [],
   "source": [
    "import sys\n",
    "import os\n",
    "current_dir = os.getcwd()\n",
    "sys.path.append(os.path.dirname(os.path.abspath(current_dir)))\n",
    "from Grover.grover_num_list_cirq import find_num, find_num_list\n",
    "from Backend.fake_backend import FakeBackend\n",
    "from Backend.backend import Backend\n",
    "from Backend.ibm_backend import IBM_backend\n",
    "\n",
    "from Result.result import ResultData\n",
    "\n",
    "from qiskit.visualization import plot_histogram, plot_coupling_map\n",
    "from qiskit import transpile\n",
    "from qiskit.transpiler.passes import RemoveBarriers\n",
    "\n",
    "from itertools import permutations\n",
    "\n",
    "from SaveData.save_data_to_file import CSVWriter\n",
    "import time"
   ]
  },
  {
   "cell_type": "code",
   "execution_count": 3,
   "metadata": {},
   "outputs": [],
   "source": [
    "draw_circuit = False"
   ]
  },
  {
   "cell_type": "code",
   "execution_count": 4,
   "metadata": {},
   "outputs": [
    {
     "name": "stdout",
     "output_type": "stream",
     "text": [
      "Number of Grover circuits : 1\n",
      "Circuit Depth is : 36\n"
     ]
    }
   ],
   "source": [
    "# Sample of Finding a number in a list Grover circuit\n",
    "winner_list = [4]\n",
    "num_array = [0, 5, 7, 4]\n",
    "find_num_in_data = find_num_list()\n",
    "find_num_in_data.build_iteration(winner_list=winner_list, num_array=num_array, block_diagram=False, default_value=0)\n",
    "find_num_in_data.create_grover(num_solutions=1, prep_value=[], block_diagram=False)\n",
    "cur_experiments = find_num_in_data.measure_qc\n",
    "print(f\"Number of Grover circuits : {len(cur_experiments)}\")\n",
    "print(f\"Circuit Depth is : {cur_experiments[0].depth()}\")\n",
    "cur_experiments[0].draw('mpl') if draw_circuit else None"
   ]
  },
  {
   "cell_type": "code",
   "execution_count": 5,
   "metadata": {},
   "outputs": [
    {
     "name": "stdout",
     "output_type": "stream",
     "text": [
      "Number of Grover circuits : 1\n",
      "Circuit Depth is : 26\n"
     ]
    }
   ],
   "source": [
    "# Sample of Find Number Grover Circuit\n",
    "find_num_in_world_obj =  find_num()\n",
    "winner_list = [6]\n",
    "num_array = []\n",
    "find_num_in_world_obj.build_iteration(winner_num_list=[6], circuit_nqubits=3, block_diagram=False)\n",
    "find_num_in_world_obj.create_grover(num_solutions=1, prep_value=[], block_diagram=False)\n",
    "cur_experiments = find_num_in_world_obj.measure_qc\n",
    "print(f\"Number of Grover circuits : {len(cur_experiments)}\")\n",
    "print(f\"Circuit Depth is : {cur_experiments[0].depth()}\")\n",
    "cur_experiments[0].draw('mpl') if draw_circuit else None"
   ]
  },
  {
   "cell_type": "code",
   "execution_count": 6,
   "metadata": {},
   "outputs": [
    {
     "data": {
      "text/plain": [
       "['FakeAlgiers',\n",
       " 'FakeAlmaden',\n",
       " 'FakeAlmadenV2',\n",
       " 'FakeArmonk',\n",
       " 'FakeArmonkV2',\n",
       " 'FakeAthens',\n",
       " 'FakeAthensV2',\n",
       " 'FakeAuckland',\n",
       " 'FakeBelem',\n",
       " 'FakeBelemV2',\n",
       " 'FakeBoeblingen',\n",
       " 'FakeBoeblingenV2',\n",
       " 'FakeBogota',\n",
       " 'FakeBogotaV2',\n",
       " 'FakeBrisbane',\n",
       " 'FakeBrooklyn',\n",
       " 'FakeBrooklynV2',\n",
       " 'FakeBurlington',\n",
       " 'FakeBurlingtonV2',\n",
       " 'FakeCairo',\n",
       " 'FakeCairoV2',\n",
       " 'FakeCambridge',\n",
       " 'FakeCambridgeAlternativeBasis',\n",
       " 'FakeCambridgeV2',\n",
       " 'FakeCasablanca',\n",
       " 'FakeCasablancaV2',\n",
       " 'FakeCusco',\n",
       " 'FakeEssex',\n",
       " 'FakeEssexV2',\n",
       " 'FakeFractionalBackend',\n",
       " 'FakeGeneva',\n",
       " 'FakeGuadalupe',\n",
       " 'FakeGuadalupeV2',\n",
       " 'FakeHanoi',\n",
       " 'FakeHanoiV2',\n",
       " 'FakeJakarta',\n",
       " 'FakeJakartaV2',\n",
       " 'FakeJohannesburg',\n",
       " 'FakeJohannesburgV2',\n",
       " 'FakeKawasaki',\n",
       " 'FakeKolkata',\n",
       " 'FakeKolkataV2',\n",
       " 'FakeKyiv',\n",
       " 'FakeKyoto',\n",
       " 'FakeLagos',\n",
       " 'FakeLagosV2',\n",
       " 'FakeLima',\n",
       " 'FakeLimaV2',\n",
       " 'FakeLondon',\n",
       " 'FakeLondonV2',\n",
       " 'FakeManhattan',\n",
       " 'FakeManhattanV2',\n",
       " 'FakeManila',\n",
       " 'FakeManilaV2',\n",
       " 'FakeMelbourne',\n",
       " 'FakeMelbourneV2',\n",
       " 'FakeMontreal',\n",
       " 'FakeMontrealV2',\n",
       " 'FakeMumbai',\n",
       " 'FakeMumbaiV2',\n",
       " 'FakeNairobi',\n",
       " 'FakeNairobiV2',\n",
       " 'FakeOsaka',\n",
       " 'FakeOslo',\n",
       " 'FakeOurense',\n",
       " 'FakeOurenseV2',\n",
       " 'FakeParis',\n",
       " 'FakeParisV2',\n",
       " 'FakePeekskill',\n",
       " 'FakePerth',\n",
       " 'FakePoughkeepsie',\n",
       " 'FakePoughkeepsieV2',\n",
       " 'FakePrague',\n",
       " 'FakeProvider',\n",
       " 'FakeProviderFactory',\n",
       " 'FakeProviderForBackendV2',\n",
       " 'FakeQuebec',\n",
       " 'FakeQuito',\n",
       " 'FakeQuitoV2',\n",
       " 'FakeRochester',\n",
       " 'FakeRochesterV2',\n",
       " 'FakeRome',\n",
       " 'FakeRomeV2',\n",
       " 'FakeRueschlikon',\n",
       " 'FakeSantiago',\n",
       " 'FakeSantiagoV2',\n",
       " 'FakeSherbrooke',\n",
       " 'FakeSingapore',\n",
       " 'FakeSingaporeV2',\n",
       " 'FakeSydney',\n",
       " 'FakeSydneyV2',\n",
       " 'FakeTenerife',\n",
       " 'FakeTokyo',\n",
       " 'FakeTorino',\n",
       " 'FakeToronto',\n",
       " 'FakeTorontoV2',\n",
       " 'FakeValencia',\n",
       " 'FakeValenciaV2',\n",
       " 'FakeVigo',\n",
       " 'FakeVigoV2',\n",
       " 'FakeWashington',\n",
       " 'FakeWashingtonV2',\n",
       " 'FakeYorktown',\n",
       " 'FakeYorktownV2']"
      ]
     },
     "execution_count": 6,
     "metadata": {},
     "output_type": "execute_result"
    }
   ],
   "source": [
    "# Getting the Fake backend List\n",
    "FakeBackend.get_ibm_fake_backend_name_list()"
   ]
  },
  {
   "cell_type": "code",
   "execution_count": 7,
   "metadata": {},
   "outputs": [
    {
     "data": {
      "text/plain": [
       "['fake_algiers',\n",
       " 'fake_almaden',\n",
       " 'fake_auckland',\n",
       " 'fake_boeblingen',\n",
       " 'fake_cairo',\n",
       " 'fake_cambridge',\n",
       " 'fake_geneva',\n",
       " 'fake_hanoi',\n",
       " 'fake_johannesburg',\n",
       " 'fake_kolkata',\n",
       " 'fake_montreal',\n",
       " 'fake_mumbai',\n",
       " 'fake_paris',\n",
       " 'fake_peekskill',\n",
       " 'fake_poughkeepsie',\n",
       " 'fake_singapore',\n",
       " 'fake_sydney',\n",
       " 'fake_toronto']"
      ]
     },
     "execution_count": 7,
     "metadata": {},
     "output_type": "execute_result"
    }
   ],
   "source": [
    "# Getting the Fake backend List with qubit limits\n",
    "FakeBackend.get_ibm_fake_backend_names_with_limit(20, 30)"
   ]
  },
  {
   "cell_type": "code",
   "execution_count": 8,
   "metadata": {},
   "outputs": [
    {
     "data": {
      "text/plain": [
       "<qiskit_ibm_runtime.fake_provider.backends.auckland.fake_auckland.FakeAuckland at 0x1ae7baa02d0>"
      ]
     },
     "execution_count": 8,
     "metadata": {},
     "output_type": "execute_result"
    }
   ],
   "source": [
    "# Get Fake Backend by name\n",
    "FakeBackend.get_ibm_fake_backend('fake_auckland')"
   ]
  },
  {
   "cell_type": "code",
   "execution_count": 9,
   "metadata": {},
   "outputs": [],
   "source": [
    "aer_backend = Backend()"
   ]
  },
  {
   "cell_type": "code",
   "execution_count": 10,
   "metadata": {},
   "outputs": [
    {
     "name": "stdout",
     "output_type": "stream",
     "text": [
      "Trasnpiled circuit depth : 62\n"
     ]
    }
   ],
   "source": [
    "# Using qiskit Transpile with optimaztion level 0 = No opt\n",
    "transpiled_circuit_aer_opt_0 = transpile(cur_experiments[0], aer_backend.get_backend(), optimization_level=0)\n",
    "print(f\"Trasnpiled circuit depth : {transpiled_circuit_aer_opt_0.depth()}\")\n",
    "transpiled_circuit_aer_opt_0.draw('mpl') if draw_circuit else None"
   ]
  },
  {
   "cell_type": "code",
   "execution_count": 11,
   "metadata": {},
   "outputs": [
    {
     "name": "stdout",
     "output_type": "stream",
     "text": [
      "Trasnpiled circuit depth : 50\n"
     ]
    }
   ],
   "source": [
    "# Using qiskit Transpile with optimaztion level 3 = Max opt\n",
    "transpiled_circuit_aer_opt_3 = transpile(cur_experiments[0], aer_backend.get_backend(), optimization_level=3)\n",
    "print(f\"Trasnpiled circuit depth : {transpiled_circuit_aer_opt_3.depth()}\")\n",
    "transpiled_circuit_aer_opt_3.draw('mpl') if draw_circuit else None"
   ]
  },
  {
   "cell_type": "code",
   "execution_count": 13,
   "metadata": {},
   "outputs": [
    {
     "name": "stdout",
     "output_type": "stream",
     "text": [
      "Execution time : 0.004502\n"
     ]
    },
    {
     "data": {
      "image/png": "[encoded data removed]",
      "text/plain": [
       "<Figure size 640x480 with 1 Axes>"
      ]
     },
     "execution_count": 13,
     "metadata": {},
     "output_type": "execute_result"
    }
   ],
   "source": [
    "aer_job = aer_backend.run(transpiled_circuit_aer_opt_0)\n",
    "aer_res = ResultData(aer_job)\n",
    "print(f\"Execution time : {aer_res.get_result_time_taken()}\")\n",
    "plot_histogram(aer_res.get_counts())"
   ]
  },
  {
   "cell_type": "code",
   "execution_count": 14,
   "metadata": {},
   "outputs": [
    {
     "name": "stdout",
     "output_type": "stream",
     "text": [
      "Execution time : 0.0042894\n"
     ]
    },
    {
     "data": {
      "image/png": "[encoded data removed]",
      "text/plain": [
       "<Figure size 640x480 with 1 Axes>"
      ]
     },
     "execution_count": 14,
     "metadata": {},
     "output_type": "execute_result"
    }
   ],
   "source": [
    "aer_job = aer_backend.run(transpiled_circuit_aer_opt_3)\n",
    "aer_res = ResultData(aer_job)\n",
    "print(f\"Execution time : {aer_res.get_result_time_taken()}\")\n",
    "plot_histogram(aer_res.get_counts())"
   ]
  },
  {
   "cell_type": "code",
   "execution_count": 15,
   "metadata": {},
   "outputs": [],
   "source": [
    "generic_backend = Backend(num_qubits=len(cur_experiments[0].qubits))"
   ]
  },
  {
   "cell_type": "code",
   "execution_count": 16,
   "metadata": {},
   "outputs": [
    {
     "name": "stdout",
     "output_type": "stream",
     "text": [
      "Trasnpiled circuit depth : 62\n"
     ]
    }
   ],
   "source": [
    "# Using qiskit Transpile with optimaztion level 0 = No opt\n",
    "transpiled_circuit_generic_opt_0 = transpile(cur_experiments[0], generic_backend.get_backend(), optimization_level=0)\n",
    "print(f\"Trasnpiled circuit depth : {transpiled_circuit_generic_opt_0.depth()}\")\n",
    "transpiled_circuit_generic_opt_0.draw('mpl') if draw_circuit else None"
   ]
  },
  {
   "cell_type": "code",
   "execution_count": 17,
   "metadata": {},
   "outputs": [
    {
     "name": "stdout",
     "output_type": "stream",
     "text": [
      "Trasnpiled circuit depth : 60\n"
     ]
    }
   ],
   "source": [
    "# Using qiskit Transpile with optimaztion level 3 = Max opt\n",
    "transpiled_circuit_generic_opt_3 = transpile(cur_experiments[0], generic_backend.get_backend(), optimization_level=3)\n",
    "print(f\"Trasnpiled circuit depth : {transpiled_circuit_generic_opt_3.depth()}\")\n",
    "transpiled_circuit_generic_opt_3.draw('mpl') if draw_circuit else None"
   ]
  },
  {
   "cell_type": "code",
   "execution_count": 18,
   "metadata": {},
   "outputs": [
    {
     "name": "stdout",
     "output_type": "stream",
     "text": [
      "Execution time : 0.0192815\n"
     ]
    },
    {
     "data": {
      "image/png": "[encoded data removed]",
      "text/plain": [
       "<Figure size 640x480 with 1 Axes>"
      ]
     },
     "execution_count": 18,
     "metadata": {},
     "output_type": "execute_result"
    }
   ],
   "source": [
    "generic_job = generic_backend.run(transpiled_circuit_generic_opt_0)\n",
    "generic_res = ResultData(generic_job)\n",
    "print(f\"Execution time : {generic_res.get_result_time_taken()}\")\n",
    "plot_histogram(generic_res.get_counts())"
   ]
  },
  {
   "cell_type": "code",
   "execution_count": 19,
   "metadata": {},
   "outputs": [
    {
     "name": "stdout",
     "output_type": "stream",
     "text": [
      "Execution time : 0.0140381\n"
     ]
    },
    {
     "data": {
      "image/png": "[encoded data removed]",
      "text/plain": [
       "<Figure size 640x480 with 1 Axes>"
      ]
     },
     "execution_count": 19,
     "metadata": {},
     "output_type": "execute_result"
    }
   ],
   "source": [
    "generic_job = generic_backend.run(transpiled_circuit_generic_opt_3)\n",
    "generic_res = ResultData(generic_job)\n",
    "print(f\"Execution time : {generic_res.get_result_time_taken()}\")\n",
    "plot_histogram(generic_res.get_counts())"
   ]
  },
  {
   "cell_type": "code",
   "execution_count": 20,
   "metadata": {},
   "outputs": [],
   "source": [
    "fake_backend_name = 'fake_auckland'\n",
    "fake_backend = FakeBackend(fake_backend_name)"
   ]
  },
  {
   "cell_type": "code",
   "execution_count": 21,
   "metadata": {},
   "outputs": [
    {
     "name": "stdout",
     "output_type": "stream",
     "text": [
      "Trasnpiled circuit depth : 128\n"
     ]
    }
   ],
   "source": [
    "# Using qiskit Transpile with optimaztion level 0 = No opt\n",
    "transpiled_circuit_fake_opt_0 = transpile(cur_experiments[0], fake_backend.get_backend(), optimization_level=0)\n",
    "print(f\"Trasnpiled circuit depth : {transpiled_circuit_fake_opt_0.depth()}\")\n",
    "transpiled_circuit_fake_opt_0.draw('mpl') if draw_circuit else None"
   ]
  },
  {
   "cell_type": "code",
   "execution_count": 24,
   "metadata": {},
   "outputs": [
    {
     "name": "stdout",
     "output_type": "stream",
     "text": [
      "Trasnpiled circuit depth : 89\n"
     ]
    }
   ],
   "source": [
    "# Using qiskit Transpile with optimaztion level 3 = Max opt\n",
    "transpiled_circuit_fake_opt_3 = transpile(cur_experiments[0], fake_backend.get_backend(), optimization_level=3)\n",
    "print(f\"Trasnpiled circuit depth : {transpiled_circuit_fake_opt_3.depth()}\")\n",
    "transpiled_circuit_fake_opt_3.draw('mpl') if draw_circuit else None"
   ]
  },
  {
   "cell_type": "code",
   "execution_count": 25,
   "metadata": {},
   "outputs": [
    {
     "name": "stdout",
     "output_type": "stream",
     "text": [
      "Execution time : 0.0208254\n"
     ]
    },
    {
     "data": {
      "image/png": "[encoded data removed]",
      "text/plain": [
       "<Figure size 640x480 with 1 Axes>"
      ]
     },
     "execution_count": 25,
     "metadata": {},
     "output_type": "execute_result"
    }
   ],
   "source": [
    "fake_job = fake_backend.run(transpiled_circuit_fake_opt_0)\n",
    "fake_res = ResultData(fake_job)\n",
    "print(f\"Execution time : {fake_res.get_result_time_taken()}\")\n",
    "plot_histogram(fake_res.get_counts())"
   ]
  },
  {
   "cell_type": "code",
   "execution_count": 26,
   "metadata": {},
   "outputs": [
    {
     "name": "stdout",
     "output_type": "stream",
     "text": [
      "Execution time : 0.0054447\n"
     ]
    },
    {
     "data": {
      "image/png": "[encoded data removed]",
      "text/plain": [
       "<Figure size 640x480 with 1 Axes>"
      ]
     },
     "execution_count": 26,
     "metadata": {},
     "output_type": "execute_result"
    }
   ],
   "source": [
    "fake_job = generic_backend.run(transpiled_circuit_fake_opt_3)\n",
    "fake_res = ResultData(fake_job)\n",
    "print(f\"Execution time : {fake_res.get_result_time_taken()}\")\n",
    "plot_histogram(fake_res.get_counts())"
   ]
  },
  {
   "cell_type": "code",
   "execution_count": 10,
   "metadata": {},
   "outputs": [],
   "source": [
    "find_num_obj = find_num()\n",
    "num_qubits = 3\n",
    "experiments = []\n",
    "seed = 42\n",
    "\n",
    "aer_backend = Backend()\n",
    "generic_backend = None # Backend(num_qubits=num_qubits)\n",
    "fake_backend = FakeBackend('fake_auckland')\n",
    "\n",
    "backend_list = [b_end for b_end in [aer_backend, generic_backend, fake_backend] if b_end is not None]\n",
    "\n",
    "input_search_val = []\n",
    "for value in range(2**num_qubits):\n",
    "    if value != 6:\n",
    "        continue\n",
    "    input_search_val.append(value)\n",
    "    find_num_obj.build_iteration(winner_num_list=[value], circuit_nqubits=num_qubits, block_diagram=False)\n",
    "    find_num_obj.create_grover(num_solutions=1, prep_value=[], block_diagram=False)\n",
    "    experiments.append(find_num_obj.measure_qc[0])"
   ]
  },
  {
   "cell_type": "code",
   "execution_count": 11,
   "metadata": {},
   "outputs": [],
   "source": [
    "qc_without_barriar_list = [RemoveBarriers()(qc) for qc in experiments]"
   ]
  },
  {
   "cell_type": "code",
   "execution_count": 12,
   "metadata": {},
   "outputs": [],
   "source": [
    "position_layout_addition = [] # list(permutations([11,16,13], num_qubits))"
   ]
  },
  {
   "cell_type": "code",
   "execution_count": 17,
   "metadata": {},
   "outputs": [
    {
     "name": "stdout",
     "output_type": "stream",
     "text": [
      "Running from index 0 to 100 of position layout\n",
      "\n",
      "Finished circuit with Opt 0 for layout None indexed 0 for current loop for backend aer_simulator in 0.039 Seconds\n",
      "Finished circuit with Opt 3 for layout None indexed 0 for current loop for backend aer_simulator in 0.082 Seconds\n",
      "Finished circuit with Opt 0 for layout (0, 1, 2) indexed 1 for current loop for backend aer_simulator in 0.032 Seconds\n",
      "Finished circuit with Opt 3 for layout (0, 1, 2) indexed 1 for current loop for backend aer_simulator in 0.067 Seconds\n",
      "Finished circuit with Opt 0 for layout (0, 2, 1) indexed 2 for current loop for backend aer_simulator in 0.026 Seconds\n",
      "Finished circuit with Opt 3 for layout (0, 2, 1) indexed 2 for current loop for backend aer_simulator in 0.071 Seconds\n",
      "Finished circuit with Opt 0 for layout (1, 0, 2) indexed 3 for current loop for backend aer_simulator in 0.022 Seconds\n",
      "Finished circuit with Opt 3 for layout (1, 0, 2) indexed 3 for current loop for backend aer_simulator in 0.045 Seconds\n",
      "Finished circuit with Opt 0 for layout (1, 2, 0) indexed 4 for current loop for backend aer_simulator in 0.019 Seconds\n",
      "Finished circuit with Opt 3 for layout (1, 2, 0) indexed 4 for current loop for backend aer_simulator in 0.056 Seconds\n",
      "Finished circuit with Opt 0 for layout (2, 0, 1) indexed 5 for current loop for backend aer_simulator in 0.024 Seconds\n",
      "Finished circuit with Opt 3 for layout (2, 0, 1) indexed 5 for current loop for backend aer_simulator in 0.037 Seconds\n",
      "Finished circuit with Opt 0 for layout (2, 1, 0) indexed 6 for current loop for backend aer_simulator in 0.022 Seconds\n",
      "Finished circuit with Opt 3 for layout (2, 1, 0) indexed 6 for current loop for backend aer_simulator in 0.042 Seconds\n",
      "Finished circuit with Opt 0 for layout (11, 16, 13) indexed 7 for current loop for backend aer_simulator in 0.032 Seconds\n",
      "Finished circuit with Opt 3 for layout (11, 16, 13) indexed 7 for current loop for backend aer_simulator in 0.038 Seconds\n",
      "Finished circuit with Opt 0 for layout (11, 13, 16) indexed 8 for current loop for backend aer_simulator in 0.026 Seconds\n",
      "Finished circuit with Opt 3 for layout (11, 13, 16) indexed 8 for current loop for backend aer_simulator in 0.048 Seconds\n",
      "Finished circuit with Opt 0 for layout (16, 11, 13) indexed 9 for current loop for backend aer_simulator in 0.018 Seconds\n",
      "Finished circuit with Opt 3 for layout (16, 11, 13) indexed 9 for current loop for backend aer_simulator in 0.051 Seconds\n",
      "Finished circuit with Opt 0 for layout (16, 13, 11) indexed 10 for current loop for backend aer_simulator in 0.023 Seconds\n",
      "Finished circuit with Opt 3 for layout (16, 13, 11) indexed 10 for current loop for backend aer_simulator in 0.044 Seconds\n",
      "Finished circuit with Opt 0 for layout (13, 11, 16) indexed 11 for current loop for backend aer_simulator in 0.018 Seconds\n",
      "Finished circuit with Opt 3 for layout (13, 11, 16) indexed 11 for current loop for backend aer_simulator in 0.039 Seconds\n",
      "Finished circuit with Opt 0 for layout (13, 16, 11) indexed 12 for current loop for backend aer_simulator in 0.017 Seconds\n",
      "Finished circuit with Opt 3 for layout (13, 16, 11) indexed 12 for current loop for backend aer_simulator in 0.04 Seconds\n",
      "Finished circuit with Opt 0 for layout None indexed 0 for current loop for backend fake_auckland in 0.166 Seconds\n",
      "Finished circuit with Opt 3 for layout None indexed 0 for current loop for backend fake_auckland in 0.163 Seconds\n",
      "Finished circuit with Opt 0 for layout (0, 1, 2) indexed 1 for current loop for backend fake_auckland in 0.192 Seconds\n",
      "Finished circuit with Opt 3 for layout (0, 1, 2) indexed 1 for current loop for backend fake_auckland in 0.075 Seconds\n",
      "Finished circuit with Opt 0 for layout (0, 2, 1) indexed 2 for current loop for backend fake_auckland in 0.086 Seconds\n",
      "Finished circuit with Opt 3 for layout (0, 2, 1) indexed 2 for current loop for backend fake_auckland in 0.061 Seconds\n",
      "Finished circuit with Opt 0 for layout (1, 0, 2) indexed 3 for current loop for backend fake_auckland in 0.113 Seconds\n",
      "Finished circuit with Opt 3 for layout (1, 0, 2) indexed 3 for current loop for backend fake_auckland in 0.087 Seconds\n",
      "Finished circuit with Opt 0 for layout (1, 2, 0) indexed 4 for current loop for backend fake_auckland in 0.099 Seconds\n",
      "Finished circuit with Opt 3 for layout (1, 2, 0) indexed 4 for current loop for backend fake_auckland in 0.086 Seconds\n",
      "Finished circuit with Opt 0 for layout (2, 0, 1) indexed 5 for current loop for backend fake_auckland in 0.19 Seconds\n",
      "Finished circuit with Opt 3 for layout (2, 0, 1) indexed 5 for current loop for backend fake_auckland in 0.091 Seconds\n",
      "Finished circuit with Opt 0 for layout (2, 1, 0) indexed 6 for current loop for backend fake_auckland in 0.104 Seconds\n",
      "Finished circuit with Opt 3 for layout (2, 1, 0) indexed 6 for current loop for backend fake_auckland in 0.069 Seconds\n",
      "Finished circuit with Opt 0 for layout (11, 16, 13) indexed 7 for current loop for backend fake_auckland in 0.077 Seconds\n",
      "Finished circuit with Opt 3 for layout (11, 16, 13) indexed 7 for current loop for backend fake_auckland in 0.068 Seconds\n",
      "Finished circuit with Opt 0 for layout (11, 13, 16) indexed 8 for current loop for backend fake_auckland in 0.107 Seconds\n",
      "Finished circuit with Opt 3 for layout (11, 13, 16) indexed 8 for current loop for backend fake_auckland in 0.057 Seconds\n",
      "Finished circuit with Opt 0 for layout (16, 11, 13) indexed 9 for current loop for backend fake_auckland in 0.088 Seconds\n",
      "Finished circuit with Opt 3 for layout (16, 11, 13) indexed 9 for current loop for backend fake_auckland in 0.062 Seconds\n",
      "Finished circuit with Opt 0 for layout (16, 13, 11) indexed 10 for current loop for backend fake_auckland in 0.219 Seconds\n",
      "Finished circuit with Opt 3 for layout (16, 13, 11) indexed 10 for current loop for backend fake_auckland in 0.072 Seconds\n",
      "Finished circuit with Opt 0 for layout (13, 11, 16) indexed 11 for current loop for backend fake_auckland in 0.087 Seconds\n",
      "Finished circuit with Opt 3 for layout (13, 11, 16) indexed 11 for current loop for backend fake_auckland in 0.066 Seconds\n",
      "Finished circuit with Opt 0 for layout (13, 16, 11) indexed 12 for current loop for backend fake_auckland in 0.1 Seconds\n",
      "Finished circuit with Opt 3 for layout (13, 16, 11) indexed 12 for current loop for backend fake_auckland in 0.079 Seconds\n",
      "Finished running circuit indexed 0 out of 52 with seed None in 0.01  Seconds\n",
      "Finished running circuit indexed 0 out of 52 with seed 42 in 0.01  Seconds\n",
      "Finished running circuit indexed 1 out of 52 with seed None in 0.01  Seconds\n",
      "Finished running circuit indexed 1 out of 52 with seed 42 in 0.01  Seconds\n",
      "Finished running circuit indexed 2 out of 52 with seed None in 0.01  Seconds\n",
      "Finished running circuit indexed 2 out of 52 with seed 42 in 0.0111  Seconds\n",
      "Finished running circuit indexed 3 out of 52 with seed None in 0.0171  Seconds\n",
      "Finished running circuit indexed 3 out of 52 with seed 42 in 0.0106  Seconds\n",
      "Finished running circuit indexed 4 out of 52 with seed None in 0.0061  Seconds\n",
      "Finished running circuit indexed 4 out of 52 with seed 42 in 0.0175  Seconds\n",
      "Finished running circuit indexed 5 out of 52 with seed None in 0.01  Seconds\n",
      "Finished running circuit indexed 5 out of 52 with seed 42 in 0.01  Seconds\n",
      "Finished running circuit indexed 6 out of 52 with seed None in 0.01  Seconds\n",
      "Finished running circuit indexed 6 out of 52 with seed 42 in 0.01  Seconds\n",
      "Finished running circuit indexed 7 out of 52 with seed None in 0.01  Seconds\n",
      "Finished running circuit indexed 7 out of 52 with seed 42 in 0.01  Seconds\n",
      "Finished running circuit indexed 8 out of 52 with seed None in 0.01  Seconds\n",
      "Finished running circuit indexed 8 out of 52 with seed 42 in 0.0219  Seconds\n",
      "Finished running circuit indexed 9 out of 52 with seed None in 0.0041  Seconds\n",
      "Finished running circuit indexed 9 out of 52 with seed 42 in 0.01  Seconds\n",
      "Finished running circuit indexed 10 out of 52 with seed None in 0.02  Seconds\n",
      "Finished running circuit indexed 10 out of 52 with seed 42 in 0.01  Seconds\n",
      "Finished running circuit indexed 11 out of 52 with seed None in 0.01  Seconds\n",
      "Finished running circuit indexed 11 out of 52 with seed 42 in 0.01  Seconds\n",
      "Finished running circuit indexed 12 out of 52 with seed None in 0.02  Seconds\n",
      "Finished running circuit indexed 12 out of 52 with seed 42 in 0.0175  Seconds\n",
      "Finished running circuit indexed 13 out of 52 with seed None in 0.0101  Seconds\n",
      "Finished running circuit indexed 13 out of 52 with seed 42 in 0.0072  Seconds\n",
      "Finished running circuit indexed 14 out of 52 with seed None in 0.02  Seconds\n",
      "Finished running circuit indexed 14 out of 52 with seed 42 in 0.01  Seconds\n",
      "Finished running circuit indexed 15 out of 52 with seed None in 0.01  Seconds\n",
      "Finished running circuit indexed 15 out of 52 with seed 42 in 0.0144  Seconds\n",
      "Finished running circuit indexed 16 out of 52 with seed None in 0.0173  Seconds\n",
      "Finished running circuit indexed 16 out of 52 with seed 42 in 0.009  Seconds\n",
      "Finished running circuit indexed 17 out of 52 with seed None in 0.0176  Seconds\n",
      "Finished running circuit indexed 17 out of 52 with seed 42 in 0.013  Seconds\n",
      "Finished running circuit indexed 18 out of 52 with seed None in 0.01  Seconds\n",
      "Finished running circuit indexed 18 out of 52 with seed 42 in 0.02  Seconds\n",
      "Finished running circuit indexed 19 out of 52 with seed None in 0.01  Seconds\n",
      "Finished running circuit indexed 19 out of 52 with seed 42 in 0.01  Seconds\n",
      "Finished running circuit indexed 20 out of 52 with seed None in 0.0105  Seconds\n",
      "Finished running circuit indexed 20 out of 52 with seed 42 in 0.02  Seconds\n",
      "Finished running circuit indexed 21 out of 52 with seed None in 0.0101  Seconds\n",
      "Finished running circuit indexed 21 out of 52 with seed 42 in 0.01  Seconds\n",
      "Finished running circuit indexed 22 out of 52 with seed None in 0.0228  Seconds\n",
      "Finished running circuit indexed 22 out of 52 with seed 42 in 0.0121  Seconds\n",
      "Finished running circuit indexed 23 out of 52 with seed None in 0.01  Seconds\n",
      "Finished running circuit indexed 23 out of 52 with seed 42 in 0.0167  Seconds\n",
      "Finished running circuit indexed 24 out of 52 with seed None in 0.01  Seconds\n",
      "Finished running circuit indexed 24 out of 52 with seed 42 in 0.017  Seconds\n",
      "Finished running circuit indexed 25 out of 52 with seed None in 0.01  Seconds\n",
      "Finished running circuit indexed 25 out of 52 with seed 42 in 0.01  Seconds\n",
      "Finished running circuit indexed 26 out of 52 with seed None in 1.4576  Seconds\n",
      "Finished running circuit indexed 26 out of 52 with seed 42 in 0.367  Seconds\n",
      "Finished running circuit indexed 27 out of 52 with seed None in 0.5161  Seconds\n",
      "Finished running circuit indexed 27 out of 52 with seed 42 in 0.5227  Seconds\n",
      "Finished running circuit indexed 28 out of 52 with seed None in 0.5363  Seconds\n",
      "Finished running circuit indexed 28 out of 52 with seed 42 in 0.388  Seconds\n",
      "Finished running circuit indexed 29 out of 52 with seed None in 0.5018  Seconds\n",
      "Finished running circuit indexed 29 out of 52 with seed 42 in 0.5285  Seconds\n",
      "Finished running circuit indexed 30 out of 52 with seed None in 0.4047  Seconds\n",
      "Finished running circuit indexed 30 out of 52 with seed 42 in 0.5351  Seconds\n",
      "Finished running circuit indexed 31 out of 52 with seed None in 0.5168  Seconds\n",
      "Finished running circuit indexed 31 out of 52 with seed 42 in 0.3679  Seconds\n",
      "Finished running circuit indexed 32 out of 52 with seed None in 0.5156  Seconds\n",
      "Finished running circuit indexed 32 out of 52 with seed 42 in 0.5443  Seconds\n",
      "Finished running circuit indexed 33 out of 52 with seed None in 0.3782  Seconds\n",
      "Finished running circuit indexed 33 out of 52 with seed 42 in 0.5354  Seconds\n",
      "Finished running circuit indexed 34 out of 52 with seed None in 0.5349  Seconds\n",
      "Finished running circuit indexed 34 out of 52 with seed 42 in 0.3932  Seconds\n",
      "Finished running circuit indexed 35 out of 52 with seed None in 0.5612  Seconds\n",
      "Finished running circuit indexed 35 out of 52 with seed 42 in 0.6548  Seconds\n",
      "Finished running circuit indexed 36 out of 52 with seed None in 0.411  Seconds\n",
      "Finished running circuit indexed 36 out of 52 with seed 42 in 0.5376  Seconds\n",
      "Finished running circuit indexed 37 out of 52 with seed None in 0.521  Seconds\n",
      "Finished running circuit indexed 37 out of 52 with seed 42 in 0.4326  Seconds\n",
      "Finished running circuit indexed 38 out of 52 with seed None in 0.5128  Seconds\n",
      "Finished running circuit indexed 38 out of 52 with seed 42 in 0.5429  Seconds\n",
      "Finished running circuit indexed 39 out of 52 with seed None in 0.3904  Seconds\n",
      "Finished running circuit indexed 39 out of 52 with seed 42 in 0.5433  Seconds\n",
      "Finished running circuit indexed 40 out of 52 with seed None in 0.514  Seconds\n",
      "Finished running circuit indexed 40 out of 52 with seed 42 in 0.4021  Seconds\n",
      "Finished running circuit indexed 41 out of 52 with seed None in 0.5739  Seconds\n",
      "Finished running circuit indexed 41 out of 52 with seed 42 in 0.5979  Seconds\n",
      "Finished running circuit indexed 42 out of 52 with seed None in 0.4081  Seconds\n",
      "Finished running circuit indexed 42 out of 52 with seed 42 in 0.5626  Seconds\n",
      "Finished running circuit indexed 43 out of 52 with seed None in 0.5235  Seconds\n",
      "Finished running circuit indexed 43 out of 52 with seed 42 in 0.3868  Seconds\n",
      "Finished running circuit indexed 44 out of 52 with seed None in 0.5706  Seconds\n",
      "Finished running circuit indexed 44 out of 52 with seed 42 in 0.6506  Seconds\n",
      "Finished running circuit indexed 45 out of 52 with seed None in 0.4188  Seconds\n",
      "Finished running circuit indexed 45 out of 52 with seed 42 in 0.5675  Seconds\n",
      "Finished running circuit indexed 46 out of 52 with seed None in 0.63  Seconds\n",
      "Finished running circuit indexed 46 out of 52 with seed 42 in 0.3923  Seconds\n",
      "Finished running circuit indexed 47 out of 52 with seed None in 0.5341  Seconds\n",
      "Finished running circuit indexed 47 out of 52 with seed 42 in 0.5955  Seconds\n",
      "Finished running circuit indexed 48 out of 52 with seed None in 0.4272  Seconds\n",
      "Finished running circuit indexed 48 out of 52 with seed 42 in 0.5895  Seconds\n",
      "Finished running circuit indexed 49 out of 52 with seed None in 0.5771  Seconds\n",
      "Finished running circuit indexed 49 out of 52 with seed 42 in 0.3833  Seconds\n",
      "Finished running circuit indexed 50 out of 52 with seed None in 0.623  Seconds\n",
      "Finished running circuit indexed 50 out of 52 with seed 42 in 0.5226  Seconds\n",
      "Finished running circuit indexed 51 out of 52 with seed None in 0.4251  Seconds\n",
      "Finished running circuit indexed 51 out of 52 with seed 42 in 0.545  Seconds\n",
      "Finished running all circuits in 27.7194  Seconds\n",
      "Data saved to ..\\logs\\grover_results_Kinput_search_V6_2024_09_02_10_40_17.csv\n",
      "Finished saving to csv at 0.0183 seconds\n",
      "\n",
      "### Finished all circuits in all configurations in 31.384319305419922 Seconds ###\n"
     ]
    }
   ],
   "source": [
    "length = 10\n",
    "seed = 42\n",
    "total_start_time = time.time()\n",
    "\n",
    "# Running on all circuits without barriars\n",
    "for input_val, cur_qc in zip(input_search_val, qc_without_barriar_list):\n",
    "    input_dict = {'input_search' : input_val}\n",
    "    # Running on all backends\n",
    "    position_layout = [None] + list(permutations(range(cur_qc.num_qubits), cur_qc.num_qubits)) + position_layout_addition\n",
    "    perm_index = 0\n",
    "    # Running on all layouts\n",
    "    # Note : Each length, will save the file to excell\n",
    "    while perm_index < len(position_layout):\n",
    "        qc_transpiled_list = []\n",
    "        cur_perm_list = position_layout[perm_index : perm_index + length]\n",
    "        print(f\"Running from index {perm_index} to {perm_index + length} of position layout\\n\")\n",
    "        for cur_backend in backend_list:\n",
    "            for index, layout in enumerate(cur_perm_list):\n",
    "                # Running on all opt levels\n",
    "                for opt_level in [0,3]:\n",
    "                    start_time = time.time()\n",
    "                    qc_transpiled_list.append(cur_backend.transpile_save_param(qc=cur_qc, optimization_level=opt_level, initial_layout=layout, seed_transpiler=None, \n",
    "                                                                            **input_dict))\n",
    "                    print(f\"Finished circuit with Opt {opt_level} for layout {layout} indexed {index} for current loop for backend {cur_backend.get_backend().name} in {round(time.time() - start_time, 3)} Seconds\")\n",
    "        # Running circuits with seeds\n",
    "        run_start_time = time.time()\n",
    "        qc_run_result = []\n",
    "        data_save = []\n",
    "        for index, qc in enumerate(qc_transpiled_list):\n",
    "            for seed_val in [None, seed]:\n",
    "                start_time = time.time()\n",
    "                qc_result = qc.backend.run(qc.transpiled_qc, shots = 1024, seed_simulator = seed_val)\n",
    "                qc_result = ResultData(qc_result)\n",
    "                qc_result.set_seed(seed_val)\n",
    "                data_save.append([qc, qc_result])\n",
    "                print(f\"Finished running circuit indexed {index} out of {len(qc_transpiled_list)} with seed {seed_val} in {round(time.time() - start_time,4)}  Seconds\")\n",
    "        print(f\"Finished running all circuits in {round(time.time() - run_start_time,4)}  Seconds\")\n",
    "        # Saving file for each circuit\n",
    "        start_time = time.time()\n",
    "        additional_txt = \"\"\n",
    "        for key, value in input_dict.items():\n",
    "            additional_txt = additional_txt + f\"_K{key}_V{value}\"\n",
    "        excel_name = f\"grover_results{additional_txt}.csv\"\n",
    "        save = CSVWriter(file_name=excel_name)\n",
    "        save.save_data(data_save)\n",
    "        print(f\"Finished saving to csv at {round(time.time() - start_time,4)} seconds\\n\")\n",
    "        perm_index = perm_index + length\n",
    "print(f\"### Finished all circuits in all configurations in {time.time() - total_start_time} Seconds ###\")"
   ]
  },
  {
   "cell_type": "code",
   "execution_count": null,
   "metadata": {},
   "outputs": [
    {
     "name": "stdout",
     "output_type": "stream",
     "text": [
      "Data saved to ..\\logs\\grover_results_2024_08_09_22_03_54.csv\n"
     ]
    }
   ],
   "source": [
    "# excel_path = \"../logs\"\n",
    "excel_name = \"grover_results.csv\"\n",
    "\n",
    "save = CSVWriter(file_name=excel_name)\n",
    "\n",
    "data = []\n",
    "for qc_transpile, res_data, res_data_seed in zip(qc_transpiled_list, qc_resultData, qc_resultData_seed):\n",
    "    data.append([qc_transpile, res_data])  \n",
    "    data.append([qc_transpile, res_data_seed])  \n",
    "\n",
    "save.save_data(data)"
   ]
  }
 ],
 "metadata": {
  "kernelspec": {
   "display_name": "Python 3",
   "language": "python",
   "name": "python3"
  },
  "language_info": {
   "codemirror_mode": {
    "name": "ipython",
    "version": 3
   },
   "file_extension": ".py",
   "mimetype": "text/x-python",
   "name": "python",
   "nbconvert_exporter": "python",
   "pygments_lexer": "ipython3",
   "version": "3.11.9"
  }
 },
 "nbformat": 4,
 "nbformat_minor": 2
}
