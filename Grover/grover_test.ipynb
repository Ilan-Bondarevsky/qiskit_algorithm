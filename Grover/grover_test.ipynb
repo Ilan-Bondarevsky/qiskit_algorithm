{
 "cells": [
  {
   "cell_type": "code",
   "execution_count": 3,
   "metadata": {},
   "outputs": [],
   "source": [
    "import sys\n",
    "import os\n",
    "current_dir = os.getcwd()\n",
    "sys.path.append(os.path.dirname(os.path.abspath(current_dir)))\n",
    "from Grover.grover_num_list_cirq import find_num, find_num_list\n",
    "from Backend.fake_backend import FakeBackend\n",
    "from Backend.backend import Backend\n",
    "from Backend.ibm_backend import IBM_backend\n",
    "\n",
    "from Result.result import ResultData\n",
    "\n",
    "from qiskit.visualization import plot_histogram, plot_coupling_map\n",
    "from backend_operation import run_simulator, get_transpiled_circuits_of_circuit, get_fake_backend_list,get_unitary, get_fake_backend, get_fake_backend_list\n",
    "from qiskit import transpile\n",
    "import qiskit.providers.fake_provider\n",
    "from qiskit_ibm_provider import IBMProvider\n",
    "from qiskit.transpiler.passes import RemoveBarriers\n",
    "\n",
    "from itertools import permutations\n",
    "\n",
    "from SaveData.save_data_to_file import CSVWriter\n",
    "import time"
   ]
  },
  {
   "cell_type": "code",
   "execution_count": 4,
   "metadata": {},
   "outputs": [],
   "source": [
    "draw_circuit = False"
   ]
  },
  {
   "cell_type": "code",
   "execution_count": 36,
   "metadata": {},
   "outputs": [
    {
     "name": "stdout",
     "output_type": "stream",
     "text": [
      "Number of Grover circuits : 1\n",
      "Circuit Depth is : 356\n"
     ]
    }
   ],
   "source": [
    "# Sample of Finding a number in a list Grover circuit\n",
    "winner_list = [4]\n",
    "num_array = [0, 5, 7, 8, 2, 4, 9, 10, 3, 2, 9, 0, 2, 3, 4, 5]\n",
    "find_num_in_data = find_num_list()\n",
    "find_num_in_data.build_iteration(winner_list=winner_list, num_array=num_array, block_diagram=False, default_value=0)\n",
    "find_num_in_data.create_grover(num_solutions=1, prep_value=[], block_diagram=False)\n",
    "cur_experiments = find_num_in_data.measure_qc\n",
    "print(f\"Number of Grover circuits : {len(cur_experiments)}\")\n",
    "print(f\"Circuit Depth is : {cur_experiments[0].depth()}\")\n",
    "cur_experiments[0].draw('mpl') if draw_circuit else None"
   ]
  },
  {
   "cell_type": "code",
   "execution_count": 37,
   "metadata": {},
   "outputs": [
    {
     "name": "stdout",
     "output_type": "stream",
     "text": [
      "Number of Grover circuits : 1\n",
      "Circuit Depth is : 26\n"
     ]
    }
   ],
   "source": [
    "# Sample of Find Number Grover Circuit\n",
    "find_num_in_world_obj =  find_num()\n",
    "winner_list = [6]\n",
    "num_array = []\n",
    "find_num_in_world_obj.build_iteration(winner_num_list=[6], circuit_nqubits=3, block_diagram=False)\n",
    "find_num_in_world_obj.create_grover(num_solutions=1, prep_value=[], block_diagram=False)\n",
    "cur_experiments = find_num_in_world_obj.measure_qc\n",
    "print(f\"Number of Grover circuits : {len(cur_experiments)}\")\n",
    "print(f\"Circuit Depth is : {cur_experiments[0].depth()}\")\n",
    "cur_experiments[0].draw('mpl') if draw_circuit else None"
   ]
  },
  {
   "cell_type": "code",
   "execution_count": null,
   "metadata": {},
   "outputs": [],
   "source": [
    "# Getting the Fake backend List\n",
    "FakeBackend.get_ibm_fake_backend_name_list()"
   ]
  },
  {
   "cell_type": "code",
   "execution_count": null,
   "metadata": {},
   "outputs": [],
   "source": [
    "# Getting the Fake backend List with qubit limits\n",
    "FakeBackend.get_ibm_fake_backend_names_with_limit(20, 30)"
   ]
  },
  {
   "cell_type": "code",
   "execution_count": 14,
   "metadata": {},
   "outputs": [
    {
     "data": {
      "text/plain": [
       "<qiskit_ibm_runtime.fake_provider.backends.auckland.fake_auckland.FakeAuckland at 0x1df6a925b50>"
      ]
     },
     "execution_count": 14,
     "metadata": {},
     "output_type": "execute_result"
    }
   ],
   "source": [
    "# Get Fake Backend by name\n",
    "FakeBackend.get_ibm_fake_backend('fake_auckland')"
   ]
  },
  {
   "cell_type": "code",
   "execution_count": 65,
   "metadata": {},
   "outputs": [],
   "source": [
    "aer_backend = Backend()"
   ]
  },
  {
   "cell_type": "code",
   "execution_count": 20,
   "metadata": {},
   "outputs": [
    {
     "name": "stdout",
     "output_type": "stream",
     "text": [
      "Trasnpiled circuit depth : 62\n"
     ]
    }
   ],
   "source": [
    "# Using qiskit Transpile with optimaztion level 0 = No opt\n",
    "transpiled_circuit_aer_opt_0 = transpile(cur_experiments[0], aer_backend.get_backend(), optimization_level=0)\n",
    "print(f\"Trasnpiled circuit depth : {transpiled_circuit_aer_opt_0.depth()}\")\n",
    "transpiled_circuit_aer_opt_0.draw('mpl') if draw_circuit else None"
   ]
  },
  {
   "cell_type": "code",
   "execution_count": 21,
   "metadata": {},
   "outputs": [
    {
     "name": "stdout",
     "output_type": "stream",
     "text": [
      "Trasnpiled circuit depth : 50\n"
     ]
    }
   ],
   "source": [
    "# Using qiskit Transpile with optimaztion level 3 = Max opt\n",
    "transpiled_circuit_aer_opt_3 = transpile(cur_experiments[0], aer_backend.get_backend(), optimization_level=3)\n",
    "print(f\"Trasnpiled circuit depth : {transpiled_circuit_aer_opt_3.depth()}\")\n",
    "transpiled_circuit_aer_opt_3.draw('mpl') if draw_circuit else None"
   ]
  },
  {
   "cell_type": "code",
   "execution_count": null,
   "metadata": {},
   "outputs": [],
   "source": [
    "aer_job = aer_backend.run(transpiled_circuit_aer_opt_0)\n",
    "aer_res = ResultData(aer_job)\n",
    "print(aer_res.get_result_time_taken())\n",
    "plot_histogram(aer_res.get_counts())"
   ]
  },
  {
   "cell_type": "code",
   "execution_count": null,
   "metadata": {},
   "outputs": [],
   "source": [
    "aer_job = aer_backend.run(transpiled_circuit_aer_opt_3)\n",
    "aer_res = ResultData(aer_job)\n",
    "print(aer_res.get_result_time_taken())\n",
    "plot_histogram(aer_res.get_counts())"
   ]
  },
  {
   "cell_type": "code",
   "execution_count": 25,
   "metadata": {},
   "outputs": [],
   "source": [
    "generic_backend = Backend(num_qubits=len(cur_experiments[0].qubits))"
   ]
  },
  {
   "cell_type": "code",
   "execution_count": 26,
   "metadata": {},
   "outputs": [
    {
     "name": "stdout",
     "output_type": "stream",
     "text": [
      "Trasnpiled circuit depth : 62\n"
     ]
    }
   ],
   "source": [
    "# Using qiskit Transpile with optimaztion level 0 = No opt\n",
    "transpiled_circuit_generic_opt_0 = transpile(cur_experiments[0], generic_backend.get_backend(), optimization_level=0)\n",
    "print(f\"Trasnpiled circuit depth : {transpiled_circuit_generic_opt_0.depth()}\")\n",
    "transpiled_circuit_generic_opt_0.draw('mpl') if draw_circuit else None"
   ]
  },
  {
   "cell_type": "code",
   "execution_count": 27,
   "metadata": {},
   "outputs": [
    {
     "name": "stdout",
     "output_type": "stream",
     "text": [
      "Trasnpiled circuit depth : 59\n"
     ]
    }
   ],
   "source": [
    "# Using qiskit Transpile with optimaztion level 3 = Max opt\n",
    "transpiled_circuit_generic_opt_3 = transpile(cur_experiments[0], generic_backend.get_backend(), optimization_level=3)\n",
    "print(f\"Trasnpiled circuit depth : {transpiled_circuit_generic_opt_3.depth()}\")\n",
    "transpiled_circuit_generic_opt_3.draw('mpl') if draw_circuit else None"
   ]
  },
  {
   "cell_type": "code",
   "execution_count": null,
   "metadata": {},
   "outputs": [],
   "source": [
    "generic_job = generic_backend.run(transpiled_circuit_generic_opt_0)\n",
    "generic_res = ResultData(generic_job)\n",
    "print(generic_res.get_result_time_taken())\n",
    "plot_histogram(generic_res.get_counts())"
   ]
  },
  {
   "cell_type": "code",
   "execution_count": null,
   "metadata": {},
   "outputs": [],
   "source": [
    "generic_job = generic_backend.run(transpiled_circuit_generic_opt_3)\n",
    "generic_res = ResultData(generic_job)\n",
    "print(generic_res.get_result_time_taken())\n",
    "plot_histogram(generic_res.get_counts())"
   ]
  },
  {
   "cell_type": "code",
   "execution_count": 28,
   "metadata": {},
   "outputs": [],
   "source": [
    "fake_backend_name = 'fake_auckland'\n",
    "fake_backend = FakeBackend(fake_backend_name)"
   ]
  },
  {
   "cell_type": "code",
   "execution_count": 29,
   "metadata": {},
   "outputs": [
    {
     "name": "stdout",
     "output_type": "stream",
     "text": [
      "Trasnpiled circuit depth : 130\n"
     ]
    }
   ],
   "source": [
    "# Using qiskit Transpile with optimaztion level 0 = No opt\n",
    "transpiled_circuit_fake_opt_0 = transpile(cur_experiments[0], fake_backend.get_backend(), optimization_level=0)\n",
    "print(f\"Trasnpiled circuit depth : {transpiled_circuit_fake_opt_0.depth()}\")\n",
    "transpiled_circuit_fake_opt_0.draw('mpl') if draw_circuit else None"
   ]
  },
  {
   "cell_type": "code",
   "execution_count": 31,
   "metadata": {},
   "outputs": [
    {
     "name": "stdout",
     "output_type": "stream",
     "text": [
      "Trasnpiled circuit depth : 97\n"
     ]
    }
   ],
   "source": [
    "# Using qiskit Transpile with optimaztion level 3 = Max opt\n",
    "transpiled_circuit_fake_opt_3 = transpile(cur_experiments[0], fake_backend.get_backend(), optimization_level=3)\n",
    "print(f\"Trasnpiled circuit depth : {transpiled_circuit_fake_opt_3.depth()}\")\n",
    "transpiled_circuit_fake_opt_3.draw('mpl') if draw_circuit else None"
   ]
  },
  {
   "cell_type": "code",
   "execution_count": null,
   "metadata": {},
   "outputs": [],
   "source": [
    "fake_job = fake_backend.run(transpiled_circuit_fake_opt_0)\n",
    "fake_res = ResultData(fake_job)\n",
    "print(fake_res.get_result_time_taken())\n",
    "plot_histogram(fake_res.get_counts())"
   ]
  },
  {
   "cell_type": "code",
   "execution_count": null,
   "metadata": {},
   "outputs": [],
   "source": [
    "fake_job = generic_backend.run(transpiled_circuit_fake_opt_3)\n",
    "fake_res = ResultData(fake_job)\n",
    "print(fake_res.get_result_time_taken())\n",
    "plot_histogram(fake_res.get_counts())"
   ]
  },
  {
   "cell_type": "code",
   "execution_count": 97,
   "metadata": {},
   "outputs": [],
   "source": [
    "find_num_obj = find_num()\n",
    "num_qubits = 6\n",
    "experiments = []\n",
    "seed = 42\n",
    "\n",
    "aer_backend = Backend()\n",
    "generic_backend = Backend(num_qubits=num_qubits)\n",
    "fake_backend = FakeBackend('fake_auckland')\n",
    "input_search_val = []\n",
    "for value in range(2**num_qubits):\n",
    "    if value != 6:\n",
    "        continue\n",
    "    input_search_val.append(value)\n",
    "    find_num_obj.build_iteration(winner_num_list=[value], circuit_nqubits=num_qubits, block_diagram=False)\n",
    "    find_num_obj.create_grover(num_solutions=1, prep_value=[], block_diagram=False)\n",
    "    experiments.append(find_num_obj.measure_qc[0])"
   ]
  },
  {
   "cell_type": "code",
   "execution_count": 94,
   "metadata": {},
   "outputs": [],
   "source": [
    "qc_without_barriar_list = [RemoveBarriers()(qc) for qc in experiments]"
   ]
  },
  {
   "cell_type": "code",
   "execution_count": 95,
   "metadata": {},
   "outputs": [],
   "source": [
    "position_layout_addition = [] # list(permutations(range(num_qubits), num_qubits))"
   ]
  },
  {
   "cell_type": "code",
   "execution_count": 96,
   "metadata": {},
   "outputs": [
    {
     "name": "stdout",
     "output_type": "stream",
     "text": [
      "Running from index 0 to 10 of position layout\n",
      "\n",
      "Finished circuit with Opt 0 for layout None indexed 0 for current loop for backend aer_simulator in 0.069 Seconds\n",
      "Finished circuit with Opt 3 for layout None indexed 0 for current loop for backend aer_simulator in 0.267 Seconds\n",
      "Finished circuit with Opt 0 for layout (0, 1, 2, 3, 4, 5) indexed 1 for current loop for backend aer_simulator in 0.07 Seconds\n",
      "Finished circuit with Opt 3 for layout (0, 1, 2, 3, 4, 5) indexed 1 for current loop for backend aer_simulator in 0.274 Seconds\n",
      "Finished circuit with Opt 0 for layout (0, 1, 2, 3, 5, 4) indexed 2 for current loop for backend aer_simulator in 0.071 Seconds\n",
      "Finished circuit with Opt 3 for layout (0, 1, 2, 3, 5, 4) indexed 2 for current loop for backend aer_simulator in 0.27 Seconds\n",
      "Finished circuit with Opt 0 for layout (0, 1, 2, 4, 3, 5) indexed 3 for current loop for backend aer_simulator in 0.07 Seconds\n",
      "Finished circuit with Opt 3 for layout (0, 1, 2, 4, 3, 5) indexed 3 for current loop for backend aer_simulator in 0.521 Seconds\n",
      "Finished circuit with Opt 0 for layout (0, 1, 2, 4, 5, 3) indexed 4 for current loop for backend aer_simulator in 0.071 Seconds\n",
      "Finished circuit with Opt 3 for layout (0, 1, 2, 4, 5, 3) indexed 4 for current loop for backend aer_simulator in 0.27 Seconds\n",
      "Finished circuit with Opt 0 for layout (0, 1, 2, 5, 3, 4) indexed 5 for current loop for backend aer_simulator in 0.072 Seconds\n",
      "Finished circuit with Opt 3 for layout (0, 1, 2, 5, 3, 4) indexed 5 for current loop for backend aer_simulator in 0.27 Seconds\n",
      "Finished circuit with Opt 0 for layout (0, 1, 2, 5, 4, 3) indexed 6 for current loop for backend aer_simulator in 0.073 Seconds\n",
      "Finished circuit with Opt 3 for layout (0, 1, 2, 5, 4, 3) indexed 6 for current loop for backend aer_simulator in 0.27 Seconds\n",
      "Finished circuit with Opt 0 for layout (0, 1, 3, 2, 4, 5) indexed 7 for current loop for backend aer_simulator in 0.304 Seconds\n",
      "Finished circuit with Opt 3 for layout (0, 1, 3, 2, 4, 5) indexed 7 for current loop for backend aer_simulator in 0.274 Seconds\n",
      "Finished circuit with Opt 0 for layout (0, 1, 3, 2, 5, 4) indexed 8 for current loop for backend aer_simulator in 0.072 Seconds\n",
      "Finished circuit with Opt 3 for layout (0, 1, 3, 2, 5, 4) indexed 8 for current loop for backend aer_simulator in 0.28 Seconds\n",
      "Finished circuit with Opt 0 for layout (0, 1, 3, 4, 2, 5) indexed 9 for current loop for backend aer_simulator in 0.071 Seconds\n",
      "Finished circuit with Opt 3 for layout (0, 1, 3, 4, 2, 5) indexed 9 for current loop for backend aer_simulator in 0.271 Seconds\n",
      "Finished circuit with Opt 0 for layout None indexed 0 for current loop for backend generic_backend_6q in 0.068 Seconds\n",
      "Finished circuit with Opt 3 for layout None indexed 0 for current loop for backend generic_backend_6q in 0.541 Seconds\n",
      "Finished circuit with Opt 0 for layout (0, 1, 2, 3, 4, 5) indexed 1 for current loop for backend generic_backend_6q in 0.069 Seconds\n",
      "Finished circuit with Opt 3 for layout (0, 1, 2, 3, 4, 5) indexed 1 for current loop for backend generic_backend_6q in 0.293 Seconds\n",
      "Finished circuit with Opt 0 for layout (0, 1, 2, 3, 5, 4) indexed 2 for current loop for backend generic_backend_6q in 0.07 Seconds\n",
      "Finished circuit with Opt 3 for layout (0, 1, 2, 3, 5, 4) indexed 2 for current loop for backend generic_backend_6q in 0.293 Seconds\n",
      "Finished circuit with Opt 0 for layout (0, 1, 2, 4, 3, 5) indexed 3 for current loop for backend generic_backend_6q in 0.069 Seconds\n",
      "Finished circuit with Opt 3 for layout (0, 1, 2, 4, 3, 5) indexed 3 for current loop for backend generic_backend_6q in 0.296 Seconds\n",
      "Finished circuit with Opt 0 for layout (0, 1, 2, 4, 5, 3) indexed 4 for current loop for backend generic_backend_6q in 0.327 Seconds\n",
      "Finished circuit with Opt 3 for layout (0, 1, 2, 4, 5, 3) indexed 4 for current loop for backend generic_backend_6q in 0.294 Seconds\n",
      "Finished circuit with Opt 0 for layout (0, 1, 2, 5, 3, 4) indexed 5 for current loop for backend generic_backend_6q in 0.069 Seconds\n",
      "Finished circuit with Opt 3 for layout (0, 1, 2, 5, 3, 4) indexed 5 for current loop for backend generic_backend_6q in 0.293 Seconds\n",
      "Finished circuit with Opt 0 for layout (0, 1, 2, 5, 4, 3) indexed 6 for current loop for backend generic_backend_6q in 0.069 Seconds\n",
      "Finished circuit with Opt 3 for layout (0, 1, 2, 5, 4, 3) indexed 6 for current loop for backend generic_backend_6q in 0.295 Seconds\n",
      "Finished circuit with Opt 0 for layout (0, 1, 3, 2, 4, 5) indexed 7 for current loop for backend generic_backend_6q in 0.069 Seconds\n",
      "Finished circuit with Opt 3 for layout (0, 1, 3, 2, 4, 5) indexed 7 for current loop for backend generic_backend_6q in 0.561 Seconds\n",
      "Finished circuit with Opt 0 for layout (0, 1, 3, 2, 5, 4) indexed 8 for current loop for backend generic_backend_6q in 0.069 Seconds\n",
      "Finished circuit with Opt 3 for layout (0, 1, 3, 2, 5, 4) indexed 8 for current loop for backend generic_backend_6q in 0.298 Seconds\n",
      "Finished circuit with Opt 0 for layout (0, 1, 3, 4, 2, 5) indexed 9 for current loop for backend generic_backend_6q in 0.069 Seconds\n",
      "Finished circuit with Opt 3 for layout (0, 1, 3, 4, 2, 5) indexed 9 for current loop for backend generic_backend_6q in 0.295 Seconds\n",
      "Finished circuit with Opt 0 for layout None indexed 0 for current loop for backend fake_auckland in 0.686 Seconds\n",
      "Finished circuit with Opt 3 for layout None indexed 0 for current loop for backend fake_auckland in 2.407 Seconds\n",
      "Finished circuit with Opt 0 for layout (0, 1, 2, 3, 4, 5) indexed 1 for current loop for backend fake_auckland in 0.685 Seconds\n",
      "Finished circuit with Opt 3 for layout (0, 1, 2, 3, 4, 5) indexed 1 for current loop for backend fake_auckland in 2.049 Seconds\n",
      "Finished circuit with Opt 0 for layout (0, 1, 2, 3, 5, 4) indexed 2 for current loop for backend fake_auckland in 0.414 Seconds\n",
      "Finished circuit with Opt 3 for layout (0, 1, 2, 3, 5, 4) indexed 2 for current loop for backend fake_auckland in 2.031 Seconds\n",
      "Finished circuit with Opt 0 for layout (0, 1, 2, 4, 3, 5) indexed 3 for current loop for backend fake_auckland in 0.4 Seconds\n",
      "Finished circuit with Opt 3 for layout (0, 1, 2, 4, 3, 5) indexed 3 for current loop for backend fake_auckland in 2.141 Seconds\n",
      "Finished circuit with Opt 0 for layout (0, 1, 2, 4, 5, 3) indexed 4 for current loop for backend fake_auckland in 0.415 Seconds\n",
      "Finished circuit with Opt 3 for layout (0, 1, 2, 4, 5, 3) indexed 4 for current loop for backend fake_auckland in 1.985 Seconds\n",
      "Finished circuit with Opt 0 for layout (0, 1, 2, 5, 3, 4) indexed 5 for current loop for backend fake_auckland in 0.421 Seconds\n",
      "Finished circuit with Opt 3 for layout (0, 1, 2, 5, 3, 4) indexed 5 for current loop for backend fake_auckland in 2.024 Seconds\n",
      "Finished circuit with Opt 0 for layout (0, 1, 2, 5, 4, 3) indexed 6 for current loop for backend fake_auckland in 0.408 Seconds\n",
      "Finished circuit with Opt 3 for layout (0, 1, 2, 5, 4, 3) indexed 6 for current loop for backend fake_auckland in 2.033 Seconds\n",
      "Finished circuit with Opt 0 for layout (0, 1, 3, 2, 4, 5) indexed 7 for current loop for backend fake_auckland in 0.415 Seconds\n",
      "Finished circuit with Opt 3 for layout (0, 1, 3, 2, 4, 5) indexed 7 for current loop for backend fake_auckland in 2.09 Seconds\n",
      "Finished circuit with Opt 0 for layout (0, 1, 3, 2, 5, 4) indexed 8 for current loop for backend fake_auckland in 0.415 Seconds\n",
      "Finished circuit with Opt 3 for layout (0, 1, 3, 2, 5, 4) indexed 8 for current loop for backend fake_auckland in 2.001 Seconds\n",
      "Finished circuit with Opt 0 for layout (0, 1, 3, 4, 2, 5) indexed 9 for current loop for backend fake_auckland in 0.416 Seconds\n",
      "Finished circuit with Opt 3 for layout (0, 1, 3, 4, 2, 5) indexed 9 for current loop for backend fake_auckland in 2.14 Seconds\n",
      "Finished running circuit indexed 0 out of 60 with seed None in 0.0281  Seconds\n",
      "Finished running circuit indexed 0 out of 60 with seed 42 in 0.042  Seconds\n",
      "Finished running circuit indexed 1 out of 60 with seed None in 0.04  Seconds\n",
      "Finished running circuit indexed 1 out of 60 with seed 42 in 0.038  Seconds\n",
      "Finished running circuit indexed 2 out of 60 with seed None in 0.042  Seconds\n",
      "Finished running circuit indexed 2 out of 60 with seed 42 in 0.042  Seconds\n",
      "Finished running circuit indexed 3 out of 60 with seed None in 0.039  Seconds\n",
      "Finished running circuit indexed 3 out of 60 with seed 42 in 0.039  Seconds\n",
      "Finished running circuit indexed 4 out of 60 with seed None in 0.042  Seconds\n",
      "Finished running circuit indexed 4 out of 60 with seed 42 in 0.042  Seconds\n",
      "Finished running circuit indexed 5 out of 60 with seed None in 0.039  Seconds\n",
      "Finished running circuit indexed 5 out of 60 with seed 42 in 0.039  Seconds\n",
      "Finished running circuit indexed 6 out of 60 with seed None in 0.043  Seconds\n",
      "Finished running circuit indexed 6 out of 60 with seed 42 in 0.042  Seconds\n",
      "Finished running circuit indexed 7 out of 60 with seed None in 0.039  Seconds\n",
      "Finished running circuit indexed 7 out of 60 with seed 42 in 0.037  Seconds\n",
      "Finished running circuit indexed 8 out of 60 with seed None in 0.043  Seconds\n",
      "Finished running circuit indexed 8 out of 60 with seed 42 in 0.042  Seconds\n",
      "Finished running circuit indexed 9 out of 60 with seed None in 0.034  Seconds\n",
      "Finished running circuit indexed 9 out of 60 with seed 42 in 0.042  Seconds\n",
      "Finished running circuit indexed 10 out of 60 with seed None in 0.042  Seconds\n",
      "Finished running circuit indexed 10 out of 60 with seed 42 in 0.042  Seconds\n",
      "Finished running circuit indexed 11 out of 60 with seed None in 0.039  Seconds\n",
      "Finished running circuit indexed 11 out of 60 with seed 42 in 0.038  Seconds\n",
      "Finished running circuit indexed 12 out of 60 with seed None in 0.041  Seconds\n",
      "Finished running circuit indexed 12 out of 60 with seed 42 in 0.042  Seconds\n",
      "Finished running circuit indexed 13 out of 60 with seed None in 0.039  Seconds\n",
      "Finished running circuit indexed 13 out of 60 with seed 42 in 0.038  Seconds\n",
      "Finished running circuit indexed 14 out of 60 with seed None in 0.041  Seconds\n",
      "Finished running circuit indexed 14 out of 60 with seed 42 in 0.041  Seconds\n",
      "Finished running circuit indexed 15 out of 60 with seed None in 0.039  Seconds\n",
      "Finished running circuit indexed 15 out of 60 with seed 42 in 0.039  Seconds\n",
      "Finished running circuit indexed 16 out of 60 with seed None in 0.041  Seconds\n",
      "Finished running circuit indexed 16 out of 60 with seed 42 in 0.041  Seconds\n",
      "Finished running circuit indexed 17 out of 60 with seed None in 0.039  Seconds\n",
      "Finished running circuit indexed 17 out of 60 with seed 42 in 0.038  Seconds\n",
      "Finished running circuit indexed 18 out of 60 with seed None in 0.04  Seconds\n",
      "Finished running circuit indexed 18 out of 60 with seed 42 in 0.042  Seconds\n",
      "Finished running circuit indexed 19 out of 60 with seed None in 0.039  Seconds\n",
      "Finished running circuit indexed 19 out of 60 with seed 42 in 0.039  Seconds\n",
      "Finished running circuit indexed 20 out of 60 with seed None in 0.2871  Seconds\n",
      "Finished running circuit indexed 20 out of 60 with seed 42 in 0.199  Seconds\n",
      "Finished running circuit indexed 21 out of 60 with seed None in 0.195  Seconds\n",
      "Finished running circuit indexed 21 out of 60 with seed 42 in 0.174  Seconds\n",
      "Finished running circuit indexed 22 out of 60 with seed None in 0.194  Seconds\n",
      "Finished running circuit indexed 22 out of 60 with seed 42 in 0.187  Seconds\n",
      "Finished running circuit indexed 23 out of 60 with seed None in 0.1485  Seconds\n",
      "Finished running circuit indexed 23 out of 60 with seed 42 in 0.147  Seconds\n",
      "Finished running circuit indexed 24 out of 60 with seed None in 0.1465  Seconds\n",
      "Finished running circuit indexed 24 out of 60 with seed 42 in 0.186  Seconds\n",
      "Finished running circuit indexed 25 out of 60 with seed None in 0.185  Seconds\n",
      "Finished running circuit indexed 25 out of 60 with seed 42 in 0.186  Seconds\n",
      "Finished running circuit indexed 26 out of 60 with seed None in 0.144  Seconds\n",
      "Finished running circuit indexed 26 out of 60 with seed 42 in 0.1873  Seconds\n",
      "Finished running circuit indexed 27 out of 60 with seed None in 0.151  Seconds\n",
      "Finished running circuit indexed 27 out of 60 with seed 42 in 0.1465  Seconds\n",
      "Finished running circuit indexed 28 out of 60 with seed None in 0.189  Seconds\n",
      "Finished running circuit indexed 28 out of 60 with seed 42 in 0.188  Seconds\n",
      "Finished running circuit indexed 29 out of 60 with seed None in 0.156  Seconds\n",
      "Finished running circuit indexed 29 out of 60 with seed 42 in 0.15  Seconds\n",
      "Finished running circuit indexed 30 out of 60 with seed None in 0.4859  Seconds\n",
      "Finished running circuit indexed 30 out of 60 with seed 42 in 0.19  Seconds\n",
      "Finished running circuit indexed 31 out of 60 with seed None in 0.153  Seconds\n",
      "Finished running circuit indexed 31 out of 60 with seed 42 in 0.188  Seconds\n",
      "Finished running circuit indexed 32 out of 60 with seed None in 0.146  Seconds\n",
      "Finished running circuit indexed 32 out of 60 with seed 42 in 0.2006  Seconds\n",
      "Finished running circuit indexed 33 out of 60 with seed None in 0.196  Seconds\n",
      "Finished running circuit indexed 33 out of 60 with seed 42 in 0.155  Seconds\n",
      "Finished running circuit indexed 34 out of 60 with seed None in 0.193  Seconds\n",
      "Finished running circuit indexed 34 out of 60 with seed 42 in 0.155  Seconds\n",
      "Finished running circuit indexed 35 out of 60 with seed None in 0.186  Seconds\n",
      "Finished running circuit indexed 35 out of 60 with seed 42 in 0.187  Seconds\n",
      "Finished running circuit indexed 36 out of 60 with seed None in 0.191  Seconds\n",
      "Finished running circuit indexed 36 out of 60 with seed 42 in 0.1894  Seconds\n",
      "Finished running circuit indexed 37 out of 60 with seed None in 0.1471  Seconds\n",
      "Finished running circuit indexed 37 out of 60 with seed 42 in 0.181  Seconds\n",
      "Finished running circuit indexed 38 out of 60 with seed None in 0.145  Seconds\n",
      "Finished running circuit indexed 38 out of 60 with seed 42 in 0.185  Seconds\n",
      "Finished running circuit indexed 39 out of 60 with seed None in 0.196  Seconds\n",
      "Finished running circuit indexed 39 out of 60 with seed 42 in 0.191  Seconds\n",
      "Finished running circuit indexed 40 out of 60 with seed None in 0.8731  Seconds\n",
      "Finished running circuit indexed 40 out of 60 with seed 42 in 0.4047  Seconds\n",
      "Finished running circuit indexed 41 out of 60 with seed None in 0.5665  Seconds\n",
      "Finished running circuit indexed 41 out of 60 with seed 42 in 0.3516  Seconds\n",
      "Finished running circuit indexed 42 out of 60 with seed None in 0.3925  Seconds\n",
      "Finished running circuit indexed 42 out of 60 with seed 42 in 0.5887  Seconds\n",
      "Finished running circuit indexed 43 out of 60 with seed None in 0.351  Seconds\n",
      "Finished running circuit indexed 43 out of 60 with seed 42 in 0.5783  Seconds\n",
      "Finished running circuit indexed 44 out of 60 with seed None in 0.3945  Seconds\n",
      "Finished running circuit indexed 44 out of 60 with seed 42 in 0.3841  Seconds\n",
      "Finished running circuit indexed 45 out of 60 with seed None in 0.5785  Seconds\n",
      "Finished running circuit indexed 45 out of 60 with seed 42 in 0.377  Seconds\n",
      "Finished running circuit indexed 46 out of 60 with seed None in 0.3782  Seconds\n",
      "Finished running circuit indexed 46 out of 60 with seed 42 in 0.6047  Seconds\n",
      "Finished running circuit indexed 47 out of 60 with seed None in 0.3461  Seconds\n",
      "Finished running circuit indexed 47 out of 60 with seed 42 in 0.367  Seconds\n",
      "Finished running circuit indexed 48 out of 60 with seed None in 0.6156  Seconds\n",
      "Finished running circuit indexed 48 out of 60 with seed 42 in 0.3904  Seconds\n",
      "Finished running circuit indexed 49 out of 60 with seed None in 0.35  Seconds\n",
      "Finished running circuit indexed 49 out of 60 with seed 42 in 0.3729  Seconds\n",
      "Finished running circuit indexed 50 out of 60 with seed None in 0.5897  Seconds\n",
      "Finished running circuit indexed 50 out of 60 with seed 42 in 0.4062  Seconds\n",
      "Finished running circuit indexed 51 out of 60 with seed None in 0.5945  Seconds\n",
      "Finished running circuit indexed 51 out of 60 with seed 42 in 0.3712  Seconds\n",
      "Finished running circuit indexed 52 out of 60 with seed None in 0.3962  Seconds\n",
      "Finished running circuit indexed 52 out of 60 with seed 42 in 0.6229  Seconds\n",
      "Finished running circuit indexed 53 out of 60 with seed None in 0.3492  Seconds\n",
      "Finished running circuit indexed 53 out of 60 with seed 42 in 0.3698  Seconds\n",
      "Finished running circuit indexed 54 out of 60 with seed None in 0.6353  Seconds\n",
      "Finished running circuit indexed 54 out of 60 with seed 42 in 0.3942  Seconds\n",
      "Finished running circuit indexed 55 out of 60 with seed None in 0.353  Seconds\n",
      "Finished running circuit indexed 55 out of 60 with seed 42 in 0.5819  Seconds\n",
      "Finished running circuit indexed 56 out of 60 with seed None in 0.3967  Seconds\n",
      "Finished running circuit indexed 56 out of 60 with seed 42 in 0.378  Seconds\n",
      "Finished running circuit indexed 57 out of 60 with seed None in 0.6015  Seconds\n",
      "Finished running circuit indexed 57 out of 60 with seed 42 in 0.356  Seconds\n",
      "Finished running circuit indexed 58 out of 60 with seed None in 0.3976  Seconds\n",
      "Finished running circuit indexed 58 out of 60 with seed 42 in 0.4036  Seconds\n",
      "Finished running circuit indexed 59 out of 60 with seed None in 0.5778  Seconds\n",
      "Finished running circuit indexed 59 out of 60 with seed 42 in 0.3532  Seconds\n",
      "Finished running all circuits in 27.4011  Seconds\n",
      "Data saved to ..\\logs\\grover_results_Kinput_search_V0_2024_09_02_00_19_52.csv\n",
      "Finished saving to csv at 0.013 seconds\n",
      "\n",
      "Running from index 10 to 20 of position layout\n",
      "\n",
      "Finished circuit with Opt 0 for layout (0, 1, 3, 4, 5, 2) indexed 0 for current loop for backend aer_simulator in 0.092 Seconds\n",
      "Finished circuit with Opt 3 for layout (0, 1, 3, 4, 5, 2) indexed 0 for current loop for backend aer_simulator in 0.266 Seconds\n",
      "Finished circuit with Opt 0 for layout (0, 1, 3, 5, 2, 4) indexed 1 for current loop for backend aer_simulator in 0.07 Seconds\n",
      "Finished circuit with Opt 3 for layout (0, 1, 3, 5, 2, 4) indexed 1 for current loop for backend aer_simulator in 0.531 Seconds\n",
      "Finished circuit with Opt 0 for layout (0, 1, 3, 5, 4, 2) indexed 2 for current loop for backend aer_simulator in 0.072 Seconds\n",
      "Finished circuit with Opt 3 for layout (0, 1, 3, 5, 4, 2) indexed 2 for current loop for backend aer_simulator in 0.273 Seconds\n",
      "Finished circuit with Opt 0 for layout (0, 1, 4, 2, 3, 5) indexed 3 for current loop for backend aer_simulator in 0.072 Seconds\n",
      "Finished circuit with Opt 3 for layout (0, 1, 4, 2, 3, 5) indexed 3 for current loop for backend aer_simulator in 0.271 Seconds\n",
      "Finished circuit with Opt 0 for layout (0, 1, 4, 2, 5, 3) indexed 4 for current loop for backend aer_simulator in 0.071 Seconds\n",
      "Finished circuit with Opt 3 for layout (0, 1, 4, 2, 5, 3) indexed 4 for current loop for backend aer_simulator in 0.27 Seconds\n",
      "Finished circuit with Opt 0 for layout (0, 1, 4, 3, 2, 5) indexed 5 for current loop for backend aer_simulator in 0.335 Seconds\n",
      "Finished circuit with Opt 3 for layout (0, 1, 4, 3, 2, 5) indexed 5 for current loop for backend aer_simulator in 0.27 Seconds\n",
      "Finished circuit with Opt 0 for layout (0, 1, 4, 3, 5, 2) indexed 6 for current loop for backend aer_simulator in 0.072 Seconds\n",
      "Finished circuit with Opt 3 for layout (0, 1, 4, 3, 5, 2) indexed 6 for current loop for backend aer_simulator in 0.276 Seconds\n",
      "Finished circuit with Opt 0 for layout (0, 1, 4, 5, 2, 3) indexed 7 for current loop for backend aer_simulator in 0.074 Seconds\n",
      "Finished circuit with Opt 3 for layout (0, 1, 4, 5, 2, 3) indexed 7 for current loop for backend aer_simulator in 0.273 Seconds\n",
      "Finished circuit with Opt 0 for layout (0, 1, 4, 5, 3, 2) indexed 8 for current loop for backend aer_simulator in 0.08 Seconds\n",
      "Finished circuit with Opt 3 for layout (0, 1, 4, 5, 3, 2) indexed 8 for current loop for backend aer_simulator in 0.548 Seconds\n",
      "Finished circuit with Opt 0 for layout (0, 1, 5, 2, 3, 4) indexed 9 for current loop for backend aer_simulator in 0.072 Seconds\n",
      "Finished circuit with Opt 3 for layout (0, 1, 5, 2, 3, 4) indexed 9 for current loop for backend aer_simulator in 0.268 Seconds\n",
      "Finished circuit with Opt 0 for layout (0, 1, 3, 4, 5, 2) indexed 0 for current loop for backend generic_backend_6q in 0.068 Seconds\n",
      "Finished circuit with Opt 3 for layout (0, 1, 3, 4, 5, 2) indexed 0 for current loop for backend generic_backend_6q in 0.294 Seconds\n",
      "Finished circuit with Opt 0 for layout (0, 1, 3, 5, 2, 4) indexed 1 for current loop for backend generic_backend_6q in 0.068 Seconds\n",
      "Finished circuit with Opt 3 for layout (0, 1, 3, 5, 2, 4) indexed 1 for current loop for backend generic_backend_6q in 0.293 Seconds\n",
      "Finished circuit with Opt 0 for layout (0, 1, 3, 5, 4, 2) indexed 2 for current loop for backend generic_backend_6q in 0.072 Seconds\n",
      "Finished circuit with Opt 3 for layout (0, 1, 3, 5, 4, 2) indexed 2 for current loop for backend generic_backend_6q in 0.578 Seconds\n",
      "Finished circuit with Opt 0 for layout (0, 1, 4, 2, 3, 5) indexed 3 for current loop for backend generic_backend_6q in 0.068 Seconds\n",
      "Finished circuit with Opt 3 for layout (0, 1, 4, 2, 3, 5) indexed 3 for current loop for backend generic_backend_6q in 0.297 Seconds\n",
      "Finished circuit with Opt 0 for layout (0, 1, 4, 2, 5, 3) indexed 4 for current loop for backend generic_backend_6q in 0.068 Seconds\n",
      "Finished circuit with Opt 3 for layout (0, 1, 4, 2, 5, 3) indexed 4 for current loop for backend generic_backend_6q in 0.296 Seconds\n",
      "Finished circuit with Opt 0 for layout (0, 1, 4, 3, 2, 5) indexed 5 for current loop for backend generic_backend_6q in 0.069 Seconds\n",
      "Finished circuit with Opt 3 for layout (0, 1, 4, 3, 2, 5) indexed 5 for current loop for backend generic_backend_6q in 0.596 Seconds\n",
      "Finished circuit with Opt 0 for layout (0, 1, 4, 3, 5, 2) indexed 6 for current loop for backend generic_backend_6q in 0.069 Seconds\n",
      "Finished circuit with Opt 3 for layout (0, 1, 4, 3, 5, 2) indexed 6 for current loop for backend generic_backend_6q in 0.289 Seconds\n",
      "Finished circuit with Opt 0 for layout (0, 1, 4, 5, 2, 3) indexed 7 for current loop for backend generic_backend_6q in 0.067 Seconds\n",
      "Finished circuit with Opt 3 for layout (0, 1, 4, 5, 2, 3) indexed 7 for current loop for backend generic_backend_6q in 0.296 Seconds\n",
      "Finished circuit with Opt 0 for layout (0, 1, 4, 5, 3, 2) indexed 8 for current loop for backend generic_backend_6q in 0.071 Seconds\n",
      "Finished circuit with Opt 3 for layout (0, 1, 4, 5, 3, 2) indexed 8 for current loop for backend generic_backend_6q in 0.306 Seconds\n",
      "Finished circuit with Opt 0 for layout (0, 1, 5, 2, 3, 4) indexed 9 for current loop for backend generic_backend_6q in 0.07 Seconds\n",
      "Finished circuit with Opt 3 for layout (0, 1, 5, 2, 3, 4) indexed 9 for current loop for backend generic_backend_6q in 0.594 Seconds\n",
      "Finished circuit with Opt 0 for layout (0, 1, 3, 4, 5, 2) indexed 0 for current loop for backend fake_auckland in 0.406 Seconds\n",
      "Finished circuit with Opt 3 for layout (0, 1, 3, 4, 5, 2) indexed 0 for current loop for backend fake_auckland in 2.262 Seconds\n",
      "Finished circuit with Opt 0 for layout (0, 1, 3, 5, 2, 4) indexed 1 for current loop for backend fake_auckland in 0.409 Seconds\n",
      "Finished circuit with Opt 3 for layout (0, 1, 3, 5, 2, 4) indexed 1 for current loop for backend fake_auckland in 2.097 Seconds\n",
      "Finished circuit with Opt 0 for layout (0, 1, 3, 5, 4, 2) indexed 2 for current loop for backend fake_auckland in 0.416 Seconds\n"
     ]
    },
    {
     "ename": "KeyboardInterrupt",
     "evalue": "",
     "output_type": "error",
     "traceback": [
      "\u001b[1;31m---------------------------------------------------------------------------\u001b[0m",
      "\u001b[1;31mKeyboardInterrupt\u001b[0m                         Traceback (most recent call last)",
      "Cell \u001b[1;32mIn[96], line 22\u001b[0m\n\u001b[0;32m     20\u001b[0m         \u001b[38;5;28;01mfor\u001b[39;00m opt_level \u001b[38;5;129;01min\u001b[39;00m [\u001b[38;5;241m0\u001b[39m,\u001b[38;5;241m3\u001b[39m]:\n\u001b[0;32m     21\u001b[0m             start_time \u001b[38;5;241m=\u001b[39m time\u001b[38;5;241m.\u001b[39mtime()\n\u001b[1;32m---> 22\u001b[0m             qc_transpiled_list\u001b[38;5;241m.\u001b[39mappend(\u001b[43mcur_backend\u001b[49m\u001b[38;5;241;43m.\u001b[39;49m\u001b[43mtranspile_save_param\u001b[49m\u001b[43m(\u001b[49m\u001b[43mqc\u001b[49m\u001b[38;5;241;43m=\u001b[39;49m\u001b[43mcur_qc\u001b[49m\u001b[43m,\u001b[49m\u001b[43m \u001b[49m\u001b[43moptimization_level\u001b[49m\u001b[38;5;241;43m=\u001b[39;49m\u001b[43mopt_level\u001b[49m\u001b[43m,\u001b[49m\u001b[43m \u001b[49m\u001b[43minitial_layout\u001b[49m\u001b[38;5;241;43m=\u001b[39;49m\u001b[43mlayout\u001b[49m\u001b[43m,\u001b[49m\u001b[43m \u001b[49m\u001b[43mseed_transpiler\u001b[49m\u001b[38;5;241;43m=\u001b[39;49m\u001b[38;5;28;43;01mNone\u001b[39;49;00m\u001b[43m,\u001b[49m\u001b[43m \u001b[49m\n\u001b[0;32m     23\u001b[0m \u001b[43m                                                                    \u001b[49m\u001b[38;5;241;43m*\u001b[39;49m\u001b[38;5;241;43m*\u001b[39;49m\u001b[43minput_dict\u001b[49m\u001b[43m)\u001b[49m)\n\u001b[0;32m     24\u001b[0m             \u001b[38;5;28mprint\u001b[39m(\u001b[38;5;124mf\u001b[39m\u001b[38;5;124m\"\u001b[39m\u001b[38;5;124mFinished circuit with Opt \u001b[39m\u001b[38;5;132;01m{\u001b[39;00mopt_level\u001b[38;5;132;01m}\u001b[39;00m\u001b[38;5;124m for layout \u001b[39m\u001b[38;5;132;01m{\u001b[39;00mlayout\u001b[38;5;132;01m}\u001b[39;00m\u001b[38;5;124m indexed \u001b[39m\u001b[38;5;132;01m{\u001b[39;00mindex\u001b[38;5;132;01m}\u001b[39;00m\u001b[38;5;124m for current loop for backend \u001b[39m\u001b[38;5;132;01m{\u001b[39;00mcur_backend\u001b[38;5;241m.\u001b[39mget_backend()\u001b[38;5;241m.\u001b[39mname\u001b[38;5;132;01m}\u001b[39;00m\u001b[38;5;124m in \u001b[39m\u001b[38;5;132;01m{\u001b[39;00m\u001b[38;5;28mround\u001b[39m(time\u001b[38;5;241m.\u001b[39mtime()\u001b[38;5;250m \u001b[39m\u001b[38;5;241m-\u001b[39m\u001b[38;5;250m \u001b[39mstart_time,\u001b[38;5;250m \u001b[39m\u001b[38;5;241m3\u001b[39m)\u001b[38;5;132;01m}\u001b[39;00m\u001b[38;5;124m Seconds\u001b[39m\u001b[38;5;124m\"\u001b[39m)\n\u001b[0;32m     25\u001b[0m \u001b[38;5;66;03m# Running circuits with seeds\u001b[39;00m\n",
      "File \u001b[1;32mc:\\Users\\User\\Desktop\\code\\qiskit_algorithm\\Backend\\backend.py:46\u001b[0m, in \u001b[0;36mBackend.transpile_save_param\u001b[1;34m(self, qc, optimization_level, initial_layout, seed_transpiler, **kwargs)\u001b[0m\n\u001b[0;32m     44\u001b[0m \u001b[38;5;28;01mfor\u001b[39;00m key \u001b[38;5;129;01min\u001b[39;00m save_input:\n\u001b[0;32m     45\u001b[0m     kwargs\u001b[38;5;241m.\u001b[39mpop(key)\n\u001b[1;32m---> 46\u001b[0m transpiled_qc \u001b[38;5;241m=\u001b[39m \u001b[38;5;28;43mself\u001b[39;49m\u001b[38;5;241;43m.\u001b[39;49m\u001b[43mtranspile\u001b[49m\u001b[43m(\u001b[49m\u001b[43mqc\u001b[49m\u001b[43m,\u001b[49m\u001b[43m \u001b[49m\u001b[43moptimization_level\u001b[49m\u001b[38;5;241;43m=\u001b[39;49m\u001b[43moptimization_level\u001b[49m\u001b[43m,\u001b[49m\u001b[43m \u001b[49m\u001b[43minitial_layout\u001b[49m\u001b[38;5;241;43m=\u001b[39;49m\u001b[43minitial_layout\u001b[49m\u001b[43m,\u001b[49m\u001b[43m \u001b[49m\u001b[43mseed_transpiler\u001b[49m\u001b[38;5;241;43m=\u001b[39;49m\u001b[43mseed_transpiler\u001b[49m\u001b[43m,\u001b[49m\u001b[43m \u001b[49m\u001b[38;5;241;43m*\u001b[39;49m\u001b[38;5;241;43m*\u001b[39;49m\u001b[43mkwargs\u001b[49m\u001b[43m)\u001b[49m\n\u001b[0;32m     47\u001b[0m kwargs\u001b[38;5;241m.\u001b[39mupdate(save_input)\n\u001b[0;32m     48\u001b[0m \u001b[38;5;28;01mreturn\u001b[39;00m saved_transpile_action_parameters(original_qc\u001b[38;5;241m=\u001b[39mqc, transpiled_qc\u001b[38;5;241m=\u001b[39mtranspiled_qc, optimization_level\u001b[38;5;241m=\u001b[39moptimization_level, \n\u001b[0;32m     49\u001b[0m                                          initial_layout\u001b[38;5;241m=\u001b[39minitial_layout, seed_transpiler\u001b[38;5;241m=\u001b[39mseed_transpiler, backend\u001b[38;5;241m=\u001b[39m\u001b[38;5;28mself\u001b[39m, backend_name \u001b[38;5;241m=\u001b[39m \u001b[38;5;28mself\u001b[39m\u001b[38;5;241m.\u001b[39mbackend\u001b[38;5;241m.\u001b[39mname,\n\u001b[0;32m     50\u001b[0m                                          original_qc_depth \u001b[38;5;241m=\u001b[39m qc\u001b[38;5;241m.\u001b[39mdepth(), transpiled_qc_depth \u001b[38;5;241m=\u001b[39m transpiled_qc\u001b[38;5;241m.\u001b[39mdepth(),\n\u001b[0;32m     51\u001b[0m                                          \u001b[38;5;241m*\u001b[39m\u001b[38;5;241m*\u001b[39mkwargs)\n",
      "File \u001b[1;32mc:\\Users\\User\\Desktop\\code\\qiskit_algorithm\\Backend\\backend.py:34\u001b[0m, in \u001b[0;36mBackend.transpile\u001b[1;34m(self, qc, optimization_level, initial_layout, seed_transpiler, **kwargs)\u001b[0m\n\u001b[0;32m     32\u001b[0m \u001b[38;5;129m@copy_docs_and_signature_from\u001b[39m(qiskit_transpiler)\n\u001b[0;32m     33\u001b[0m \u001b[38;5;28;01mdef\u001b[39;00m \u001b[38;5;21mtranspile\u001b[39m(\u001b[38;5;28mself\u001b[39m, qc : QuantumCircuit, optimization_level : \u001b[38;5;28mint\u001b[39m \u001b[38;5;241m=\u001b[39m \u001b[38;5;241m3\u001b[39m, initial_layout \u001b[38;5;241m=\u001b[39m \u001b[38;5;28;01mNone\u001b[39;00m, seed_transpiler : \u001b[38;5;28mint\u001b[39m \u001b[38;5;241m=\u001b[39m \u001b[38;5;28;01mNone\u001b[39;00m, \u001b[38;5;241m*\u001b[39m\u001b[38;5;241m*\u001b[39mkwargs) \u001b[38;5;241m-\u001b[39m\u001b[38;5;241m>\u001b[39mQuantumCircuit:\n\u001b[1;32m---> 34\u001b[0m     transpiled_qc \u001b[38;5;241m=\u001b[39m \u001b[43mqiskit_transpiler\u001b[49m\u001b[43m(\u001b[49m\u001b[43mcircuits\u001b[49m\u001b[38;5;241;43m=\u001b[39;49m\u001b[43mqc\u001b[49m\u001b[43m,\u001b[49m\u001b[43m \u001b[49m\u001b[43mbackend\u001b[49m\u001b[38;5;241;43m=\u001b[39;49m\u001b[38;5;28;43mself\u001b[39;49m\u001b[38;5;241;43m.\u001b[39;49m\u001b[43mbackend\u001b[49m\u001b[43m,\u001b[49m\u001b[43m \u001b[49m\u001b[43moptimization_level\u001b[49m\u001b[38;5;241;43m=\u001b[39;49m\u001b[43moptimization_level\u001b[49m\u001b[43m,\u001b[49m\u001b[43m \u001b[49m\u001b[43minitial_layout\u001b[49m\u001b[38;5;241;43m=\u001b[39;49m\u001b[43minitial_layout\u001b[49m\u001b[43m,\u001b[49m\u001b[43m \u001b[49m\n\u001b[0;32m     35\u001b[0m \u001b[43m                                      \u001b[49m\u001b[43mseed_transpiler\u001b[49m\u001b[38;5;241;43m=\u001b[39;49m\u001b[43mseed_transpiler\u001b[49m\u001b[43m,\u001b[49m\u001b[43m \u001b[49m\u001b[38;5;241;43m*\u001b[39;49m\u001b[38;5;241;43m*\u001b[39;49m\u001b[43mkwargs\u001b[49m\u001b[43m)\u001b[49m\n\u001b[0;32m     36\u001b[0m     \u001b[38;5;28;01mreturn\u001b[39;00m QuantumCircuit\u001b[38;5;241m.\u001b[39mfrom_qiskit_circuit(transpiled_qc)\n",
      "File \u001b[1;32m~\\AppData\\Local\\Packages\\PythonSoftwareFoundation.Python.3.11_qbz5n2kfra8p0\\LocalCache\\local-packages\\Python311\\site-packages\\qiskit\\compiler\\transpiler.py:425\u001b[0m, in \u001b[0;36mtranspile\u001b[1;34m(circuits, backend, basis_gates, inst_map, coupling_map, backend_properties, initial_layout, layout_method, routing_method, translation_method, scheduling_method, instruction_durations, dt, approximation_degree, timing_constraints, seed_transpiler, optimization_level, callback, output_name, unitary_synthesis_method, unitary_synthesis_plugin_config, target, hls_config, init_method, optimization_method, ignore_backend_supplied_default_methods, num_processes)\u001b[0m\n\u001b[0;32m    397\u001b[0m         instruction_durations \u001b[38;5;241m=\u001b[39m _parse_instruction_durations(\n\u001b[0;32m    398\u001b[0m             backend, instruction_durations, dt, circuits[\u001b[38;5;241m0\u001b[39m]\n\u001b[0;32m    399\u001b[0m         )\n\u001b[0;32m    401\u001b[0m pm \u001b[38;5;241m=\u001b[39m generate_preset_pass_manager(\n\u001b[0;32m    402\u001b[0m     optimization_level,\n\u001b[0;32m    403\u001b[0m     backend\u001b[38;5;241m=\u001b[39mbackend,\n\u001b[1;32m   (...)\u001b[0m\n\u001b[0;32m    423\u001b[0m     _skip_target\u001b[38;5;241m=\u001b[39m_skip_target,\n\u001b[0;32m    424\u001b[0m )\n\u001b[1;32m--> 425\u001b[0m out_circuits \u001b[38;5;241m=\u001b[39m \u001b[43mpm\u001b[49m\u001b[38;5;241;43m.\u001b[39;49m\u001b[43mrun\u001b[49m\u001b[43m(\u001b[49m\u001b[43mcircuits\u001b[49m\u001b[43m,\u001b[49m\u001b[43m \u001b[49m\u001b[43mcallback\u001b[49m\u001b[38;5;241;43m=\u001b[39;49m\u001b[43mcallback\u001b[49m\u001b[43m)\u001b[49m\n\u001b[0;32m    426\u001b[0m \u001b[38;5;28;01mfor\u001b[39;00m name, circ \u001b[38;5;129;01min\u001b[39;00m \u001b[38;5;28mzip\u001b[39m(output_name, out_circuits):\n\u001b[0;32m    427\u001b[0m     circ\u001b[38;5;241m.\u001b[39mname \u001b[38;5;241m=\u001b[39m name\n",
      "File \u001b[1;32m~\\AppData\\Local\\Packages\\PythonSoftwareFoundation.Python.3.11_qbz5n2kfra8p0\\LocalCache\\local-packages\\Python311\\site-packages\\qiskit\\transpiler\\passmanager.py:397\u001b[0m, in \u001b[0;36mStagedPassManager.run\u001b[1;34m(self, circuits, output_name, callback, num_processes)\u001b[0m\n\u001b[0;32m    389\u001b[0m \u001b[38;5;28;01mdef\u001b[39;00m \u001b[38;5;21mrun\u001b[39m(\n\u001b[0;32m    390\u001b[0m     \u001b[38;5;28mself\u001b[39m,\n\u001b[0;32m    391\u001b[0m     circuits: _CircuitsT,\n\u001b[1;32m   (...)\u001b[0m\n\u001b[0;32m    394\u001b[0m     num_processes: \u001b[38;5;28mint\u001b[39m \u001b[38;5;241m=\u001b[39m \u001b[38;5;28;01mNone\u001b[39;00m,\n\u001b[0;32m    395\u001b[0m ) \u001b[38;5;241m-\u001b[39m\u001b[38;5;241m>\u001b[39m _CircuitsT:\n\u001b[0;32m    396\u001b[0m     \u001b[38;5;28mself\u001b[39m\u001b[38;5;241m.\u001b[39m_update_passmanager()\n\u001b[1;32m--> 397\u001b[0m     \u001b[38;5;28;01mreturn\u001b[39;00m \u001b[38;5;28;43msuper\u001b[39;49m\u001b[43m(\u001b[49m\u001b[43m)\u001b[49m\u001b[38;5;241;43m.\u001b[39;49m\u001b[43mrun\u001b[49m\u001b[43m(\u001b[49m\u001b[43mcircuits\u001b[49m\u001b[43m,\u001b[49m\u001b[43m \u001b[49m\u001b[43moutput_name\u001b[49m\u001b[43m,\u001b[49m\u001b[43m \u001b[49m\u001b[43mcallback\u001b[49m\u001b[43m,\u001b[49m\u001b[43m \u001b[49m\u001b[43mnum_processes\u001b[49m\u001b[38;5;241;43m=\u001b[39;49m\u001b[43mnum_processes\u001b[49m\u001b[43m)\u001b[49m\n",
      "File \u001b[1;32m~\\AppData\\Local\\Packages\\PythonSoftwareFoundation.Python.3.11_qbz5n2kfra8p0\\LocalCache\\local-packages\\Python311\\site-packages\\qiskit\\transpiler\\passmanager.py:420\u001b[0m, in \u001b[0;36m_replace_error.<locals>.wrapper\u001b[1;34m(*meth_args, **meth_kwargs)\u001b[0m\n\u001b[0;32m    417\u001b[0m \u001b[38;5;129m@wraps\u001b[39m(meth)\n\u001b[0;32m    418\u001b[0m \u001b[38;5;28;01mdef\u001b[39;00m \u001b[38;5;21mwrapper\u001b[39m(\u001b[38;5;241m*\u001b[39mmeth_args, \u001b[38;5;241m*\u001b[39m\u001b[38;5;241m*\u001b[39mmeth_kwargs):\n\u001b[0;32m    419\u001b[0m     \u001b[38;5;28;01mtry\u001b[39;00m:\n\u001b[1;32m--> 420\u001b[0m         \u001b[38;5;28;01mreturn\u001b[39;00m \u001b[43mmeth\u001b[49m\u001b[43m(\u001b[49m\u001b[38;5;241;43m*\u001b[39;49m\u001b[43mmeth_args\u001b[49m\u001b[43m,\u001b[49m\u001b[43m \u001b[49m\u001b[38;5;241;43m*\u001b[39;49m\u001b[38;5;241;43m*\u001b[39;49m\u001b[43mmeth_kwargs\u001b[49m\u001b[43m)\u001b[49m\n\u001b[0;32m    421\u001b[0m     \u001b[38;5;28;01mexcept\u001b[39;00m PassManagerError \u001b[38;5;28;01mas\u001b[39;00m ex:\n\u001b[0;32m    422\u001b[0m         \u001b[38;5;28;01mraise\u001b[39;00m TranspilerError(ex\u001b[38;5;241m.\u001b[39mmessage) \u001b[38;5;28;01mfrom\u001b[39;00m \u001b[38;5;21;01mex\u001b[39;00m\n",
      "File \u001b[1;32m~\\AppData\\Local\\Packages\\PythonSoftwareFoundation.Python.3.11_qbz5n2kfra8p0\\LocalCache\\local-packages\\Python311\\site-packages\\qiskit\\transpiler\\passmanager.py:182\u001b[0m, in \u001b[0;36mPassManager.run\u001b[1;34m(self, circuits, output_name, callback, num_processes)\u001b[0m\n\u001b[0;32m    179\u001b[0m \u001b[38;5;28;01mif\u001b[39;00m callback \u001b[38;5;129;01mis\u001b[39;00m \u001b[38;5;129;01mnot\u001b[39;00m \u001b[38;5;28;01mNone\u001b[39;00m:\n\u001b[0;32m    180\u001b[0m     callback \u001b[38;5;241m=\u001b[39m _legacy_style_callback(callback)\n\u001b[1;32m--> 182\u001b[0m \u001b[38;5;28;01mreturn\u001b[39;00m \u001b[38;5;28;43msuper\u001b[39;49m\u001b[43m(\u001b[49m\u001b[43m)\u001b[49m\u001b[38;5;241;43m.\u001b[39;49m\u001b[43mrun\u001b[49m\u001b[43m(\u001b[49m\n\u001b[0;32m    183\u001b[0m \u001b[43m    \u001b[49m\u001b[43min_programs\u001b[49m\u001b[38;5;241;43m=\u001b[39;49m\u001b[43mcircuits\u001b[49m\u001b[43m,\u001b[49m\n\u001b[0;32m    184\u001b[0m \u001b[43m    \u001b[49m\u001b[43mcallback\u001b[49m\u001b[38;5;241;43m=\u001b[39;49m\u001b[43mcallback\u001b[49m\u001b[43m,\u001b[49m\n\u001b[0;32m    185\u001b[0m \u001b[43m    \u001b[49m\u001b[43moutput_name\u001b[49m\u001b[38;5;241;43m=\u001b[39;49m\u001b[43moutput_name\u001b[49m\u001b[43m,\u001b[49m\n\u001b[0;32m    186\u001b[0m \u001b[43m    \u001b[49m\u001b[43mnum_processes\u001b[49m\u001b[38;5;241;43m=\u001b[39;49m\u001b[43mnum_processes\u001b[49m\u001b[43m,\u001b[49m\n\u001b[0;32m    187\u001b[0m \u001b[43m\u001b[49m\u001b[43m)\u001b[49m\n",
      "File \u001b[1;32m~\\AppData\\Local\\Packages\\PythonSoftwareFoundation.Python.3.11_qbz5n2kfra8p0\\LocalCache\\local-packages\\Python311\\site-packages\\qiskit\\passmanager\\passmanager.py:229\u001b[0m, in \u001b[0;36mBasePassManager.run\u001b[1;34m(self, in_programs, callback, num_processes, **kwargs)\u001b[0m\n\u001b[0;32m    226\u001b[0m     is_list \u001b[38;5;241m=\u001b[39m \u001b[38;5;28;01mFalse\u001b[39;00m\n\u001b[0;32m    228\u001b[0m \u001b[38;5;28;01mif\u001b[39;00m \u001b[38;5;28mlen\u001b[39m(in_programs) \u001b[38;5;241m==\u001b[39m \u001b[38;5;241m1\u001b[39m:\n\u001b[1;32m--> 229\u001b[0m     out_program \u001b[38;5;241m=\u001b[39m \u001b[43m_run_workflow\u001b[49m\u001b[43m(\u001b[49m\n\u001b[0;32m    230\u001b[0m \u001b[43m        \u001b[49m\u001b[43mprogram\u001b[49m\u001b[38;5;241;43m=\u001b[39;49m\u001b[43min_programs\u001b[49m\u001b[43m[\u001b[49m\u001b[38;5;241;43m0\u001b[39;49m\u001b[43m]\u001b[49m\u001b[43m,\u001b[49m\n\u001b[0;32m    231\u001b[0m \u001b[43m        \u001b[49m\u001b[43mpass_manager\u001b[49m\u001b[38;5;241;43m=\u001b[39;49m\u001b[38;5;28;43mself\u001b[39;49m\u001b[43m,\u001b[49m\n\u001b[0;32m    232\u001b[0m \u001b[43m        \u001b[49m\u001b[43mcallback\u001b[49m\u001b[38;5;241;43m=\u001b[39;49m\u001b[43mcallback\u001b[49m\u001b[43m,\u001b[49m\n\u001b[0;32m    233\u001b[0m \u001b[43m        \u001b[49m\u001b[38;5;241;43m*\u001b[39;49m\u001b[38;5;241;43m*\u001b[39;49m\u001b[43mkwargs\u001b[49m\u001b[43m,\u001b[49m\n\u001b[0;32m    234\u001b[0m \u001b[43m    \u001b[49m\u001b[43m)\u001b[49m\n\u001b[0;32m    235\u001b[0m     \u001b[38;5;28;01mif\u001b[39;00m is_list:\n\u001b[0;32m    236\u001b[0m         \u001b[38;5;28;01mreturn\u001b[39;00m [out_program]\n",
      "File \u001b[1;32m~\\AppData\\Local\\Packages\\PythonSoftwareFoundation.Python.3.11_qbz5n2kfra8p0\\LocalCache\\local-packages\\Python311\\site-packages\\qiskit\\passmanager\\passmanager.py:292\u001b[0m, in \u001b[0;36m_run_workflow\u001b[1;34m(program, pass_manager, **kwargs)\u001b[0m\n\u001b[0;32m    286\u001b[0m initial_status \u001b[38;5;241m=\u001b[39m WorkflowStatus()\n\u001b[0;32m    288\u001b[0m passmanager_ir \u001b[38;5;241m=\u001b[39m pass_manager\u001b[38;5;241m.\u001b[39m_passmanager_frontend(\n\u001b[0;32m    289\u001b[0m     input_program\u001b[38;5;241m=\u001b[39mprogram,\n\u001b[0;32m    290\u001b[0m     \u001b[38;5;241m*\u001b[39m\u001b[38;5;241m*\u001b[39mkwargs,\n\u001b[0;32m    291\u001b[0m )\n\u001b[1;32m--> 292\u001b[0m passmanager_ir, final_state \u001b[38;5;241m=\u001b[39m \u001b[43mflow_controller\u001b[49m\u001b[38;5;241;43m.\u001b[39;49m\u001b[43mexecute\u001b[49m\u001b[43m(\u001b[49m\n\u001b[0;32m    293\u001b[0m \u001b[43m    \u001b[49m\u001b[43mpassmanager_ir\u001b[49m\u001b[38;5;241;43m=\u001b[39;49m\u001b[43mpassmanager_ir\u001b[49m\u001b[43m,\u001b[49m\n\u001b[0;32m    294\u001b[0m \u001b[43m    \u001b[49m\u001b[43mstate\u001b[49m\u001b[38;5;241;43m=\u001b[39;49m\u001b[43mPassManagerState\u001b[49m\u001b[43m(\u001b[49m\n\u001b[0;32m    295\u001b[0m \u001b[43m        \u001b[49m\u001b[43mworkflow_status\u001b[49m\u001b[38;5;241;43m=\u001b[39;49m\u001b[43minitial_status\u001b[49m\u001b[43m,\u001b[49m\n\u001b[0;32m    296\u001b[0m \u001b[43m        \u001b[49m\u001b[43mproperty_set\u001b[49m\u001b[38;5;241;43m=\u001b[39;49m\u001b[43mPropertySet\u001b[49m\u001b[43m(\u001b[49m\u001b[43m)\u001b[49m\u001b[43m,\u001b[49m\n\u001b[0;32m    297\u001b[0m \u001b[43m    \u001b[49m\u001b[43m)\u001b[49m\u001b[43m,\u001b[49m\n\u001b[0;32m    298\u001b[0m \u001b[43m    \u001b[49m\u001b[43mcallback\u001b[49m\u001b[38;5;241;43m=\u001b[39;49m\u001b[43mkwargs\u001b[49m\u001b[38;5;241;43m.\u001b[39;49m\u001b[43mget\u001b[49m\u001b[43m(\u001b[49m\u001b[38;5;124;43m\"\u001b[39;49m\u001b[38;5;124;43mcallback\u001b[39;49m\u001b[38;5;124;43m\"\u001b[39;49m\u001b[43m,\u001b[49m\u001b[43m \u001b[49m\u001b[38;5;28;43;01mNone\u001b[39;49;00m\u001b[43m)\u001b[49m\u001b[43m,\u001b[49m\n\u001b[0;32m    299\u001b[0m \u001b[43m\u001b[49m\u001b[43m)\u001b[49m\n\u001b[0;32m    300\u001b[0m \u001b[38;5;66;03m# The `property_set` has historically been returned as a mutable attribute on `PassManager`\u001b[39;00m\n\u001b[0;32m    301\u001b[0m \u001b[38;5;66;03m# This makes us non-reentrant (though `PassManager` would be dependent on its internal tasks to\u001b[39;00m\n\u001b[0;32m    302\u001b[0m \u001b[38;5;66;03m# be re-entrant if that was required), but is consistent with previous interfaces.  We're still\u001b[39;00m\n\u001b[0;32m    303\u001b[0m \u001b[38;5;66;03m# safe to be called in a serial loop, again assuming internal tasks are re-runnable.  The\u001b[39;00m\n\u001b[0;32m    304\u001b[0m \u001b[38;5;66;03m# conversion to the backend language is also allowed to use the property set, so it must be set\u001b[39;00m\n\u001b[0;32m    305\u001b[0m \u001b[38;5;66;03m# before calling it.\u001b[39;00m\n\u001b[0;32m    306\u001b[0m pass_manager\u001b[38;5;241m.\u001b[39mproperty_set \u001b[38;5;241m=\u001b[39m final_state\u001b[38;5;241m.\u001b[39mproperty_set\n",
      "File \u001b[1;32m~\\AppData\\Local\\Packages\\PythonSoftwareFoundation.Python.3.11_qbz5n2kfra8p0\\LocalCache\\local-packages\\Python311\\site-packages\\qiskit\\passmanager\\base_tasks.py:218\u001b[0m, in \u001b[0;36mBaseController.execute\u001b[1;34m(self, passmanager_ir, state, callback)\u001b[0m\n\u001b[0;32m    216\u001b[0m     \u001b[38;5;28;01mreturn\u001b[39;00m passmanager_ir, state\n\u001b[0;32m    217\u001b[0m \u001b[38;5;28;01mwhile\u001b[39;00m \u001b[38;5;28;01mTrue\u001b[39;00m:\n\u001b[1;32m--> 218\u001b[0m     passmanager_ir, state \u001b[38;5;241m=\u001b[39m \u001b[43mnext_task\u001b[49m\u001b[38;5;241;43m.\u001b[39;49m\u001b[43mexecute\u001b[49m\u001b[43m(\u001b[49m\n\u001b[0;32m    219\u001b[0m \u001b[43m        \u001b[49m\u001b[43mpassmanager_ir\u001b[49m\u001b[38;5;241;43m=\u001b[39;49m\u001b[43mpassmanager_ir\u001b[49m\u001b[43m,\u001b[49m\n\u001b[0;32m    220\u001b[0m \u001b[43m        \u001b[49m\u001b[43mstate\u001b[49m\u001b[38;5;241;43m=\u001b[39;49m\u001b[43mstate\u001b[49m\u001b[43m,\u001b[49m\n\u001b[0;32m    221\u001b[0m \u001b[43m        \u001b[49m\u001b[43mcallback\u001b[49m\u001b[38;5;241;43m=\u001b[39;49m\u001b[43mcallback\u001b[49m\u001b[43m,\u001b[49m\n\u001b[0;32m    222\u001b[0m \u001b[43m    \u001b[49m\u001b[43m)\u001b[49m\n\u001b[0;32m    223\u001b[0m     \u001b[38;5;28;01mtry\u001b[39;00m:\n\u001b[0;32m    224\u001b[0m         \u001b[38;5;66;03m# Sending the object through the generator implies the custom controllers\u001b[39;00m\n\u001b[0;32m    225\u001b[0m         \u001b[38;5;66;03m# can always rely on the latest data to choose the next task to run.\u001b[39;00m\n\u001b[0;32m    226\u001b[0m         next_task \u001b[38;5;241m=\u001b[39m task_generator\u001b[38;5;241m.\u001b[39msend(state)\n",
      "File \u001b[1;32m~\\AppData\\Local\\Packages\\PythonSoftwareFoundation.Python.3.11_qbz5n2kfra8p0\\LocalCache\\local-packages\\Python311\\site-packages\\qiskit\\passmanager\\base_tasks.py:218\u001b[0m, in \u001b[0;36mBaseController.execute\u001b[1;34m(self, passmanager_ir, state, callback)\u001b[0m\n\u001b[0;32m    216\u001b[0m     \u001b[38;5;28;01mreturn\u001b[39;00m passmanager_ir, state\n\u001b[0;32m    217\u001b[0m \u001b[38;5;28;01mwhile\u001b[39;00m \u001b[38;5;28;01mTrue\u001b[39;00m:\n\u001b[1;32m--> 218\u001b[0m     passmanager_ir, state \u001b[38;5;241m=\u001b[39m \u001b[43mnext_task\u001b[49m\u001b[38;5;241;43m.\u001b[39;49m\u001b[43mexecute\u001b[49m\u001b[43m(\u001b[49m\n\u001b[0;32m    219\u001b[0m \u001b[43m        \u001b[49m\u001b[43mpassmanager_ir\u001b[49m\u001b[38;5;241;43m=\u001b[39;49m\u001b[43mpassmanager_ir\u001b[49m\u001b[43m,\u001b[49m\n\u001b[0;32m    220\u001b[0m \u001b[43m        \u001b[49m\u001b[43mstate\u001b[49m\u001b[38;5;241;43m=\u001b[39;49m\u001b[43mstate\u001b[49m\u001b[43m,\u001b[49m\n\u001b[0;32m    221\u001b[0m \u001b[43m        \u001b[49m\u001b[43mcallback\u001b[49m\u001b[38;5;241;43m=\u001b[39;49m\u001b[43mcallback\u001b[49m\u001b[43m,\u001b[49m\n\u001b[0;32m    222\u001b[0m \u001b[43m    \u001b[49m\u001b[43m)\u001b[49m\n\u001b[0;32m    223\u001b[0m     \u001b[38;5;28;01mtry\u001b[39;00m:\n\u001b[0;32m    224\u001b[0m         \u001b[38;5;66;03m# Sending the object through the generator implies the custom controllers\u001b[39;00m\n\u001b[0;32m    225\u001b[0m         \u001b[38;5;66;03m# can always rely on the latest data to choose the next task to run.\u001b[39;00m\n\u001b[0;32m    226\u001b[0m         next_task \u001b[38;5;241m=\u001b[39m task_generator\u001b[38;5;241m.\u001b[39msend(state)\n",
      "File \u001b[1;32m~\\AppData\\Local\\Packages\\PythonSoftwareFoundation.Python.3.11_qbz5n2kfra8p0\\LocalCache\\local-packages\\Python311\\site-packages\\qiskit\\transpiler\\basepasses.py:195\u001b[0m, in \u001b[0;36mTransformationPass.execute\u001b[1;34m(self, passmanager_ir, state, callback)\u001b[0m\n\u001b[0;32m    189\u001b[0m \u001b[38;5;28;01mdef\u001b[39;00m \u001b[38;5;21mexecute\u001b[39m(\n\u001b[0;32m    190\u001b[0m     \u001b[38;5;28mself\u001b[39m,\n\u001b[0;32m    191\u001b[0m     passmanager_ir: PassManagerIR,\n\u001b[0;32m    192\u001b[0m     state: PassManagerState,\n\u001b[0;32m    193\u001b[0m     callback: Callable \u001b[38;5;241m=\u001b[39m \u001b[38;5;28;01mNone\u001b[39;00m,\n\u001b[0;32m    194\u001b[0m ) \u001b[38;5;241m-\u001b[39m\u001b[38;5;241m>\u001b[39m \u001b[38;5;28mtuple\u001b[39m[PassManagerIR, PassManagerState]:\n\u001b[1;32m--> 195\u001b[0m     new_dag, state \u001b[38;5;241m=\u001b[39m \u001b[38;5;28;43msuper\u001b[39;49m\u001b[43m(\u001b[49m\u001b[43m)\u001b[49m\u001b[38;5;241;43m.\u001b[39;49m\u001b[43mexecute\u001b[49m\u001b[43m(\u001b[49m\n\u001b[0;32m    196\u001b[0m \u001b[43m        \u001b[49m\u001b[43mpassmanager_ir\u001b[49m\u001b[38;5;241;43m=\u001b[39;49m\u001b[43mpassmanager_ir\u001b[49m\u001b[43m,\u001b[49m\n\u001b[0;32m    197\u001b[0m \u001b[43m        \u001b[49m\u001b[43mstate\u001b[49m\u001b[38;5;241;43m=\u001b[39;49m\u001b[43mstate\u001b[49m\u001b[43m,\u001b[49m\n\u001b[0;32m    198\u001b[0m \u001b[43m        \u001b[49m\u001b[43mcallback\u001b[49m\u001b[38;5;241;43m=\u001b[39;49m\u001b[43mcallback\u001b[49m\u001b[43m,\u001b[49m\n\u001b[0;32m    199\u001b[0m \u001b[43m    \u001b[49m\u001b[43m)\u001b[49m\n\u001b[0;32m    201\u001b[0m     \u001b[38;5;28;01mif\u001b[39;00m state\u001b[38;5;241m.\u001b[39mworkflow_status\u001b[38;5;241m.\u001b[39mprevious_run \u001b[38;5;241m==\u001b[39m RunState\u001b[38;5;241m.\u001b[39mSUCCESS:\n\u001b[0;32m    202\u001b[0m         \u001b[38;5;28;01mif\u001b[39;00m \u001b[38;5;28misinstance\u001b[39m(new_dag, DAGCircuit):\n\u001b[0;32m    203\u001b[0m             \u001b[38;5;66;03m# Copy calibration data from the original program\u001b[39;00m\n",
      "File \u001b[1;32m~\\AppData\\Local\\Packages\\PythonSoftwareFoundation.Python.3.11_qbz5n2kfra8p0\\LocalCache\\local-packages\\Python311\\site-packages\\qiskit\\passmanager\\base_tasks.py:98\u001b[0m, in \u001b[0;36mGenericPass.execute\u001b[1;34m(self, passmanager_ir, state, callback)\u001b[0m\n\u001b[0;32m     96\u001b[0m \u001b[38;5;28;01mtry\u001b[39;00m:\n\u001b[0;32m     97\u001b[0m     \u001b[38;5;28;01mif\u001b[39;00m \u001b[38;5;28mself\u001b[39m \u001b[38;5;129;01mnot\u001b[39;00m \u001b[38;5;129;01min\u001b[39;00m state\u001b[38;5;241m.\u001b[39mworkflow_status\u001b[38;5;241m.\u001b[39mcompleted_passes:\n\u001b[1;32m---> 98\u001b[0m         ret \u001b[38;5;241m=\u001b[39m \u001b[38;5;28;43mself\u001b[39;49m\u001b[38;5;241;43m.\u001b[39;49m\u001b[43mrun\u001b[49m\u001b[43m(\u001b[49m\u001b[43mpassmanager_ir\u001b[49m\u001b[43m)\u001b[49m\n\u001b[0;32m     99\u001b[0m         run_state \u001b[38;5;241m=\u001b[39m RunState\u001b[38;5;241m.\u001b[39mSUCCESS\n\u001b[0;32m    100\u001b[0m     \u001b[38;5;28;01melse\u001b[39;00m:\n",
      "File \u001b[1;32m~\\AppData\\Local\\Packages\\PythonSoftwareFoundation.Python.3.11_qbz5n2kfra8p0\\LocalCache\\local-packages\\Python311\\site-packages\\qiskit\\transpiler\\passes\\routing\\sabre_swap.py:258\u001b[0m, in \u001b[0;36mSabreSwap.run\u001b[1;34m(self, dag)\u001b[0m\n\u001b[0;32m    256\u001b[0m \u001b[38;5;28;01mif\u001b[39;00m \u001b[38;5;28mself\u001b[39m\u001b[38;5;241m.\u001b[39mfake_run:\n\u001b[0;32m    257\u001b[0m     \u001b[38;5;28;01mreturn\u001b[39;00m dag\n\u001b[1;32m--> 258\u001b[0m \u001b[38;5;28;01mreturn\u001b[39;00m \u001b[43m_apply_sabre_result\u001b[49m\u001b[43m(\u001b[49m\n\u001b[0;32m    259\u001b[0m \u001b[43m    \u001b[49m\u001b[43mdag\u001b[49m\u001b[38;5;241;43m.\u001b[39;49m\u001b[43mcopy_empty_like\u001b[49m\u001b[43m(\u001b[49m\u001b[43m)\u001b[49m\u001b[43m,\u001b[49m\n\u001b[0;32m    260\u001b[0m \u001b[43m    \u001b[49m\u001b[43mdag\u001b[49m\u001b[43m,\u001b[49m\n\u001b[0;32m    261\u001b[0m \u001b[43m    \u001b[49m\u001b[43msabre_result\u001b[49m\u001b[43m,\u001b[49m\n\u001b[0;32m    262\u001b[0m \u001b[43m    \u001b[49m\u001b[43minitial_layout\u001b[49m\u001b[43m,\u001b[49m\n\u001b[0;32m    263\u001b[0m \u001b[43m    \u001b[49m\u001b[43mdag\u001b[49m\u001b[38;5;241;43m.\u001b[39;49m\u001b[43mqubits\u001b[49m\u001b[43m,\u001b[49m\n\u001b[0;32m    264\u001b[0m \u001b[43m    \u001b[49m\u001b[43mcircuit_to_dag_dict\u001b[49m\u001b[43m,\u001b[49m\n\u001b[0;32m    265\u001b[0m \u001b[43m\u001b[49m\u001b[43m)\u001b[49m\n",
      "File \u001b[1;32m~\\AppData\\Local\\Packages\\PythonSoftwareFoundation.Python.3.11_qbz5n2kfra8p0\\LocalCache\\local-packages\\Python311\\site-packages\\qiskit\\transpiler\\passes\\routing\\sabre_swap.py:430\u001b[0m, in \u001b[0;36m_apply_sabre_result\u001b[1;34m(out_dag, in_dag, sabre_result, initial_layout, physical_qubits, circuit_to_dag_dict)\u001b[0m\n\u001b[0;32m    427\u001b[0m     \u001b[38;5;28;01mreturn\u001b[39;00m dest_dag, layout\n\u001b[0;32m    429\u001b[0m root_logical_map \u001b[38;5;241m=\u001b[39m {bit: index \u001b[38;5;28;01mfor\u001b[39;00m index, bit \u001b[38;5;129;01min\u001b[39;00m \u001b[38;5;28menumerate\u001b[39m(in_dag\u001b[38;5;241m.\u001b[39mqubits)}\n\u001b[1;32m--> 430\u001b[0m \u001b[38;5;28;01mreturn\u001b[39;00m \u001b[43mrecurse\u001b[49m\u001b[43m(\u001b[49m\u001b[43mout_dag\u001b[49m\u001b[43m,\u001b[49m\u001b[43m \u001b[49m\u001b[43min_dag\u001b[49m\u001b[43m,\u001b[49m\u001b[43m \u001b[49m\u001b[43msabre_result\u001b[49m\u001b[43m,\u001b[49m\u001b[43m \u001b[49m\u001b[43mroot_logical_map\u001b[49m\u001b[43m,\u001b[49m\u001b[43m \u001b[49m\u001b[43minitial_layout\u001b[49m\u001b[43m)\u001b[49m[\u001b[38;5;241m0\u001b[39m]\n",
      "File \u001b[1;32m~\\AppData\\Local\\Packages\\PythonSoftwareFoundation.Python.3.11_qbz5n2kfra8p0\\LocalCache\\local-packages\\Python311\\site-packages\\qiskit\\transpiler\\passes\\routing\\sabre_swap.py:381\u001b[0m, in \u001b[0;36m_apply_sabre_result.<locals>.recurse\u001b[1;34m(dest_dag, source_dag, result, root_logical_map, layout)\u001b[0m\n\u001b[0;32m    379\u001b[0m node \u001b[38;5;241m=\u001b[39m source_dag\u001b[38;5;241m.\u001b[39m_multi_graph[node_id]\n\u001b[0;32m    380\u001b[0m \u001b[38;5;28;01mif\u001b[39;00m node_id \u001b[38;5;129;01min\u001b[39;00m swap_map:\n\u001b[1;32m--> 381\u001b[0m     \u001b[43mapply_swaps\u001b[49m\u001b[43m(\u001b[49m\u001b[43mdest_dag\u001b[49m\u001b[43m,\u001b[49m\u001b[43m \u001b[49m\u001b[43mswap_map\u001b[49m\u001b[43m[\u001b[49m\u001b[43mnode_id\u001b[49m\u001b[43m]\u001b[49m\u001b[43m,\u001b[49m\u001b[43m \u001b[49m\u001b[43mlayout\u001b[49m\u001b[43m)\u001b[49m\n\u001b[0;32m    382\u001b[0m \u001b[38;5;28;01mif\u001b[39;00m \u001b[38;5;129;01mnot\u001b[39;00m \u001b[38;5;28misinstance\u001b[39m(node\u001b[38;5;241m.\u001b[39mop, ControlFlowOp):\n\u001b[0;32m    383\u001b[0m     dest_dag\u001b[38;5;241m.\u001b[39mapply_operation_back(\n\u001b[0;32m    384\u001b[0m         node\u001b[38;5;241m.\u001b[39mop,\n\u001b[0;32m    385\u001b[0m         [\n\u001b[1;32m   (...)\u001b[0m\n\u001b[0;32m    390\u001b[0m         check\u001b[38;5;241m=\u001b[39m\u001b[38;5;28;01mFalse\u001b[39;00m,\n\u001b[0;32m    391\u001b[0m     )\n",
      "File \u001b[1;32m~\\AppData\\Local\\Packages\\PythonSoftwareFoundation.Python.3.11_qbz5n2kfra8p0\\LocalCache\\local-packages\\Python311\\site-packages\\qiskit\\transpiler\\passes\\routing\\sabre_swap.py:370\u001b[0m, in \u001b[0;36m_apply_sabre_result.<locals>.apply_swaps\u001b[1;34m(dest_dag, swaps, layout)\u001b[0m\n\u001b[0;32m    368\u001b[0m qubits \u001b[38;5;241m=\u001b[39m (physical_qubits[a], physical_qubits[b])\n\u001b[0;32m    369\u001b[0m layout\u001b[38;5;241m.\u001b[39mswap_physical(a, b)\n\u001b[1;32m--> 370\u001b[0m dest_dag\u001b[38;5;241m.\u001b[39mapply_operation_back(swap_singleton, qubits, (), check\u001b[38;5;241m=\u001b[39m\u001b[38;5;28;01mFalse\u001b[39;00m)\n",
      "\u001b[1;31mKeyboardInterrupt\u001b[0m: "
     ]
    }
   ],
   "source": [
    "length = 10\n",
    "seed = 42\n",
    "total_start_time = time.time()\n",
    "\n",
    "# Running on all circuits without barriars\n",
    "for input_val, cur_qc in zip(input_search_val, qc_without_barriar_list):\n",
    "    input_dict = {'input_search' : input_val}\n",
    "    # Running on all backends\n",
    "    position_layout = [None] + list(permutations(range(cur_qc.num_qubits), cur_qc.num_qubits)) + position_layout_addition\n",
    "    perm_index = 0\n",
    "    # Running on all layouts\n",
    "    # Note : Each length, will save the file to excell\n",
    "    while perm_index < len(position_layout):\n",
    "        qc_transpiled_list = []\n",
    "        cur_perm_list = position_layout[perm_index : perm_index + length]\n",
    "        print(f\"Running from index {perm_index} to {perm_index + length} of position layout\\n\")\n",
    "        for cur_backend in [aer_backend, generic_backend, fake_backend]:\n",
    "            for index, layout in enumerate(cur_perm_list):\n",
    "                # Running on all opt levels\n",
    "                for opt_level in [0,3]:\n",
    "                    start_time = time.time()\n",
    "                    qc_transpiled_list.append(cur_backend.transpile_save_param(qc=cur_qc, optimization_level=opt_level, initial_layout=layout, seed_transpiler=None, \n",
    "                                                                            **input_dict))\n",
    "                    print(f\"Finished circuit with Opt {opt_level} for layout {layout} indexed {index} for current loop for backend {cur_backend.get_backend().name} in {round(time.time() - start_time, 3)} Seconds\")\n",
    "        # Running circuits with seeds\n",
    "        run_start_time = time.time()\n",
    "        qc_run_result = []\n",
    "        data_save = []\n",
    "        for index, qc in enumerate(qc_transpiled_list):\n",
    "            for seed_val in [None, seed]:\n",
    "                start_time = time.time()\n",
    "                qc_result = qc.backend.run(qc.transpiled_qc, shots = 1024, seed_simulator = seed_val)\n",
    "                qc_result = ResultData(qc_result)\n",
    "                qc_result.set_seed(seed_val)\n",
    "                data_save.append([qc, qc_result])\n",
    "                print(f\"Finished running circuit indexed {index} out of {len(qc_transpiled_list)} with seed {seed_val} in {round(time.time() - start_time,4)}  Seconds\")\n",
    "        print(f\"Finished running all circuits in {round(time.time() - run_start_time,4)}  Seconds\")\n",
    "        # Saving file for each circuit\n",
    "        start_time = time.time()\n",
    "        additional_txt = \"\"\n",
    "        for key, value in input_dict.items():\n",
    "            additional_txt = additional_txt + f\"_K{key}_V{value}\"\n",
    "        excel_name = f\"grover_results{additional_txt}.csv\"\n",
    "        save = CSVWriter(file_name=excel_name)\n",
    "        save.save_data(data_save)\n",
    "        print(f\"Finished saving to csv at {round(time.time() - start_time,4)} seconds\\n\")\n",
    "        perm_index = perm_index + length\n",
    "print(f\"### Finished all circuits in all configurations in {time.time() - total_start_time} Seconds ###\")"
   ]
  },
  {
   "cell_type": "code",
   "execution_count": 17,
   "metadata": {},
   "outputs": [
    {
     "name": "stderr",
     "output_type": "stream",
     "text": [
      "Exception ignored in: <bound method IPythonKernel._clean_thread_parent_frames of <ipykernel.ipkernel.IPythonKernel object at 0x000001E098B37C10>>\n",
      "Traceback (most recent call last):\n",
      "  File \"C:\\Users\\User\\AppData\\Local\\Packages\\PythonSoftwareFoundation.Python.3.11_qbz5n2kfra8p0\\LocalCache\\local-packages\\Python311\\site-packages\\ipykernel\\ipkernel.py\", line 801, in _clean_thread_parent_frames\n",
      "    for identity in list(thread_to_parent.keys()):\n",
      "                         ^^^^^^^^^^^^^^^^^^^^^^^\n",
      "KeyboardInterrupt: \n"
     ]
    }
   ],
   "source": [
    "position_layout = list(permutations(range(fake_backend.get_backend_qubits()), num_qubits))"
   ]
  },
  {
   "cell_type": "code",
   "execution_count": null,
   "metadata": {},
   "outputs": [],
   "source": [
    "length = 1\n",
    "perm_index = 0\n",
    "position_layout = list(permutations(range(num_qubits), num_qubits)) + position_layout_addition\n",
    "while perm_index < len(position_layout):\n",
    "    cur_perm = position_layout[perm_index : perm_index + length + 1]\n",
    "    print(f\"{cur_perm}\\n\")\n",
    "    \n",
    "    perm_index = perm_index + length + 1\n",
    "    "
   ]
  },
  {
   "cell_type": "code",
   "execution_count": 8,
   "metadata": {},
   "outputs": [
    {
     "name": "stdout",
     "output_type": "stream",
     "text": [
      "Running from index 0 to 1 of position layout\n",
      "\n",
      "Running 1 Position layouts\n",
      "\n",
      "Opt 0 Fully Connected finished at 4 seconds\n",
      "\n",
      "Opt 3 Fully Connected finished at 25 seconds\n",
      "\n",
      "Opt 0 FakeAucland with layout None finished at 59 seconds\n",
      "\n",
      "Opt 3 FakeAucland with layout None finished at 240 seconds\n",
      "\n",
      "Opt 0 FakeAucland with layout (0, 1, 2, 3, 4, 5) finished at 281 seconds\n",
      "\n",
      "Opt 3 FakeAucland with layout (0, 1, 2, 3, 4, 5) finished at 406 seconds\n",
      "\n",
      "Results without seed finished at 428 seconds\n",
      "\n",
      "Results with seed 42 finished at 428 seconds\n",
      "\n",
      "Start saving to csv seed starting to csv\n",
      "\n",
      "Data saved to ..\\logs\\grover_results_0_to_1_perm_2024_08_18_23_51_39.csv\n",
      "Finished saving to csv at 698 seconds\n",
      "\n",
      "Running from index 1 to 2 of position layout\n",
      "\n",
      "Running 1 Position layouts\n",
      "\n",
      "Opt 0 Fully Connected finished at 5 seconds\n",
      "\n"
     ]
    },
    {
     "ename": "KeyboardInterrupt",
     "evalue": "",
     "output_type": "error",
     "traceback": [
      "\u001b[1;31m---------------------------------------------------------------------------\u001b[0m",
      "\u001b[1;31mKeyboardInterrupt\u001b[0m                         Traceback (most recent call last)",
      "Cell \u001b[1;32mIn[8], line 18\u001b[0m\n\u001b[0;32m     16\u001b[0m cur_time \u001b[38;5;241m=\u001b[39m time\u001b[38;5;241m.\u001b[39mtime() \u001b[38;5;241m-\u001b[39m start\n\u001b[0;32m     17\u001b[0m \u001b[38;5;28mprint\u001b[39m(\u001b[38;5;124mf\u001b[39m\u001b[38;5;124m\"\u001b[39m\u001b[38;5;124mOpt 0 Fully Connected finished at \u001b[39m\u001b[38;5;132;01m{\u001b[39;00m\u001b[38;5;28mint\u001b[39m(cur_time)\u001b[38;5;132;01m}\u001b[39;00m\u001b[38;5;124m seconds\u001b[39m\u001b[38;5;130;01m\\n\u001b[39;00m\u001b[38;5;124m\"\u001b[39m)\n\u001b[1;32m---> 18\u001b[0m qc_transpiled_list \u001b[38;5;241m=\u001b[39m qc_transpiled_list \u001b[38;5;241m+\u001b[39m \u001b[43m[\u001b[49m\n\u001b[0;32m     19\u001b[0m \u001b[43m    \u001b[49m\u001b[43mgeneric_backend\u001b[49m\u001b[38;5;241;43m.\u001b[39;49m\u001b[43mtranspile_save_param\u001b[49m\u001b[43m(\u001b[49m\u001b[43mqc\u001b[49m\u001b[38;5;241;43m=\u001b[39;49m\u001b[43mqc\u001b[49m\u001b[43m,\u001b[49m\u001b[43m \u001b[49m\u001b[43moptimization_level\u001b[49m\u001b[38;5;241;43m=\u001b[39;49m\u001b[38;5;241;43m3\u001b[39;49m\u001b[43m,\u001b[49m\u001b[43m \u001b[49m\u001b[43minitial_layout\u001b[49m\u001b[38;5;241;43m=\u001b[39;49m\u001b[38;5;28;43;01mNone\u001b[39;49;00m\u001b[43m,\u001b[49m\u001b[43m \u001b[49m\u001b[43mseed_transpiler\u001b[49m\u001b[38;5;241;43m=\u001b[39;49m\u001b[38;5;28;43;01mNone\u001b[39;49;00m\u001b[43m,\u001b[49m\u001b[43m \u001b[49m\u001b[43minput_search\u001b[49m\u001b[43m \u001b[49m\u001b[38;5;241;43m=\u001b[39;49m\u001b[43m \u001b[49m\u001b[43mindex\u001b[49m\u001b[43m)\u001b[49m\n\u001b[0;32m     20\u001b[0m \u001b[43m    \u001b[49m\u001b[38;5;28;43;01mfor\u001b[39;49;00m\u001b[43m \u001b[49m\u001b[43mindex\u001b[49m\u001b[43m,\u001b[49m\u001b[43m \u001b[49m\u001b[43mqc\u001b[49m\u001b[43m \u001b[49m\u001b[38;5;129;43;01min\u001b[39;49;00m\u001b[43m \u001b[49m\u001b[38;5;28;43menumerate\u001b[39;49m\u001b[43m(\u001b[49m\u001b[43mqc_find_num_list_without_barriar\u001b[49m\u001b[43m)\u001b[49m\n\u001b[0;32m     21\u001b[0m \u001b[43m\u001b[49m\u001b[43m]\u001b[49m\n\u001b[0;32m     22\u001b[0m cur_time \u001b[38;5;241m=\u001b[39m time\u001b[38;5;241m.\u001b[39mtime() \u001b[38;5;241m-\u001b[39m start\n\u001b[0;32m     23\u001b[0m \u001b[38;5;28mprint\u001b[39m(\u001b[38;5;124mf\u001b[39m\u001b[38;5;124m\"\u001b[39m\u001b[38;5;124mOpt 3 Fully Connected finished at \u001b[39m\u001b[38;5;132;01m{\u001b[39;00m\u001b[38;5;28mint\u001b[39m(cur_time)\u001b[38;5;132;01m}\u001b[39;00m\u001b[38;5;124m seconds\u001b[39m\u001b[38;5;130;01m\\n\u001b[39;00m\u001b[38;5;124m\"\u001b[39m)\n",
      "Cell \u001b[1;32mIn[8], line 19\u001b[0m, in \u001b[0;36m<listcomp>\u001b[1;34m(.0)\u001b[0m\n\u001b[0;32m     16\u001b[0m cur_time \u001b[38;5;241m=\u001b[39m time\u001b[38;5;241m.\u001b[39mtime() \u001b[38;5;241m-\u001b[39m start\n\u001b[0;32m     17\u001b[0m \u001b[38;5;28mprint\u001b[39m(\u001b[38;5;124mf\u001b[39m\u001b[38;5;124m\"\u001b[39m\u001b[38;5;124mOpt 0 Fully Connected finished at \u001b[39m\u001b[38;5;132;01m{\u001b[39;00m\u001b[38;5;28mint\u001b[39m(cur_time)\u001b[38;5;132;01m}\u001b[39;00m\u001b[38;5;124m seconds\u001b[39m\u001b[38;5;130;01m\\n\u001b[39;00m\u001b[38;5;124m\"\u001b[39m)\n\u001b[0;32m     18\u001b[0m qc_transpiled_list \u001b[38;5;241m=\u001b[39m qc_transpiled_list \u001b[38;5;241m+\u001b[39m [\n\u001b[1;32m---> 19\u001b[0m     \u001b[43mgeneric_backend\u001b[49m\u001b[38;5;241;43m.\u001b[39;49m\u001b[43mtranspile_save_param\u001b[49m\u001b[43m(\u001b[49m\u001b[43mqc\u001b[49m\u001b[38;5;241;43m=\u001b[39;49m\u001b[43mqc\u001b[49m\u001b[43m,\u001b[49m\u001b[43m \u001b[49m\u001b[43moptimization_level\u001b[49m\u001b[38;5;241;43m=\u001b[39;49m\u001b[38;5;241;43m3\u001b[39;49m\u001b[43m,\u001b[49m\u001b[43m \u001b[49m\u001b[43minitial_layout\u001b[49m\u001b[38;5;241;43m=\u001b[39;49m\u001b[38;5;28;43;01mNone\u001b[39;49;00m\u001b[43m,\u001b[49m\u001b[43m \u001b[49m\u001b[43mseed_transpiler\u001b[49m\u001b[38;5;241;43m=\u001b[39;49m\u001b[38;5;28;43;01mNone\u001b[39;49;00m\u001b[43m,\u001b[49m\u001b[43m \u001b[49m\u001b[43minput_search\u001b[49m\u001b[43m \u001b[49m\u001b[38;5;241;43m=\u001b[39;49m\u001b[43m \u001b[49m\u001b[43mindex\u001b[49m\u001b[43m)\u001b[49m\n\u001b[0;32m     20\u001b[0m     \u001b[38;5;28;01mfor\u001b[39;00m index, qc \u001b[38;5;129;01min\u001b[39;00m \u001b[38;5;28menumerate\u001b[39m(qc_find_num_list_without_barriar)\n\u001b[0;32m     21\u001b[0m ]\n\u001b[0;32m     22\u001b[0m cur_time \u001b[38;5;241m=\u001b[39m time\u001b[38;5;241m.\u001b[39mtime() \u001b[38;5;241m-\u001b[39m start\n\u001b[0;32m     23\u001b[0m \u001b[38;5;28mprint\u001b[39m(\u001b[38;5;124mf\u001b[39m\u001b[38;5;124m\"\u001b[39m\u001b[38;5;124mOpt 3 Fully Connected finished at \u001b[39m\u001b[38;5;132;01m{\u001b[39;00m\u001b[38;5;28mint\u001b[39m(cur_time)\u001b[38;5;132;01m}\u001b[39;00m\u001b[38;5;124m seconds\u001b[39m\u001b[38;5;130;01m\\n\u001b[39;00m\u001b[38;5;124m\"\u001b[39m)\n",
      "File \u001b[1;32mc:\\Users\\User\\Desktop\\code\\qiskit_algorithm\\Backend\\backend.py:47\u001b[0m, in \u001b[0;36mBackend.transpile_save_param\u001b[1;34m(self, qc, optimization_level, initial_layout, seed_transpiler, **kwargs)\u001b[0m\n\u001b[0;32m     45\u001b[0m \u001b[38;5;28;01mfor\u001b[39;00m key \u001b[38;5;129;01min\u001b[39;00m save_input:\n\u001b[0;32m     46\u001b[0m     kwargs\u001b[38;5;241m.\u001b[39mpop(key)\n\u001b[1;32m---> 47\u001b[0m transpiled_qc \u001b[38;5;241m=\u001b[39m \u001b[38;5;28;43mself\u001b[39;49m\u001b[38;5;241;43m.\u001b[39;49m\u001b[43mtranspile\u001b[49m\u001b[43m(\u001b[49m\u001b[43mqc\u001b[49m\u001b[43m,\u001b[49m\u001b[43m \u001b[49m\u001b[43moptimization_level\u001b[49m\u001b[38;5;241;43m=\u001b[39;49m\u001b[43moptimization_level\u001b[49m\u001b[43m,\u001b[49m\u001b[43m \u001b[49m\u001b[43minitial_layout\u001b[49m\u001b[38;5;241;43m=\u001b[39;49m\u001b[43minitial_layout\u001b[49m\u001b[43m,\u001b[49m\u001b[43m \u001b[49m\u001b[43mseed_transpiler\u001b[49m\u001b[38;5;241;43m=\u001b[39;49m\u001b[43mseed_transpiler\u001b[49m\u001b[43m,\u001b[49m\u001b[43m \u001b[49m\u001b[38;5;241;43m*\u001b[39;49m\u001b[38;5;241;43m*\u001b[39;49m\u001b[43mkwargs\u001b[49m\u001b[43m)\u001b[49m\n\u001b[0;32m     48\u001b[0m kwargs\u001b[38;5;241m.\u001b[39mupdate(save_input)\n\u001b[0;32m     49\u001b[0m \u001b[38;5;28;01mreturn\u001b[39;00m saved_transpile_action_parameters(original_qc\u001b[38;5;241m=\u001b[39mqc, transpiled_qc\u001b[38;5;241m=\u001b[39mtranspiled_qc, optimization_level\u001b[38;5;241m=\u001b[39moptimization_level, \n\u001b[0;32m     50\u001b[0m                                          initial_layout\u001b[38;5;241m=\u001b[39minitial_layout, seed_transpiler\u001b[38;5;241m=\u001b[39mseed_transpiler, backend\u001b[38;5;241m=\u001b[39m\u001b[38;5;28mself\u001b[39m, backend_name \u001b[38;5;241m=\u001b[39m \u001b[38;5;28mself\u001b[39m\u001b[38;5;241m.\u001b[39mbackend\u001b[38;5;241m.\u001b[39mname,\n\u001b[0;32m     51\u001b[0m                                          original_qc_depth \u001b[38;5;241m=\u001b[39m qc\u001b[38;5;241m.\u001b[39mdepth(), transpiled_qc_depth \u001b[38;5;241m=\u001b[39m transpiled_qc\u001b[38;5;241m.\u001b[39mdepth(),\n\u001b[0;32m     52\u001b[0m                                          \u001b[38;5;241m*\u001b[39m\u001b[38;5;241m*\u001b[39mkwargs)\n",
      "File \u001b[1;32mc:\\Users\\User\\Desktop\\code\\qiskit_algorithm\\Backend\\backend.py:35\u001b[0m, in \u001b[0;36mBackend.transpile\u001b[1;34m(self, qc, optimization_level, initial_layout, seed_transpiler, **kwargs)\u001b[0m\n\u001b[0;32m     33\u001b[0m \u001b[38;5;129m@copy_docs_and_signature_from\u001b[39m(qiskit_transpiler)\n\u001b[0;32m     34\u001b[0m \u001b[38;5;28;01mdef\u001b[39;00m \u001b[38;5;21mtranspile\u001b[39m(\u001b[38;5;28mself\u001b[39m, qc : QuantumCircuit, optimization_level : \u001b[38;5;28mint\u001b[39m \u001b[38;5;241m=\u001b[39m \u001b[38;5;241m3\u001b[39m, initial_layout \u001b[38;5;241m=\u001b[39m \u001b[38;5;28;01mNone\u001b[39;00m, seed_transpiler : \u001b[38;5;28mint\u001b[39m \u001b[38;5;241m=\u001b[39m \u001b[38;5;28;01mNone\u001b[39;00m, \u001b[38;5;241m*\u001b[39m\u001b[38;5;241m*\u001b[39mkwargs) \u001b[38;5;241m-\u001b[39m\u001b[38;5;241m>\u001b[39mQuantumCircuit:\n\u001b[1;32m---> 35\u001b[0m     transpiled_qc \u001b[38;5;241m=\u001b[39m \u001b[43mqiskit_transpiler\u001b[49m\u001b[43m(\u001b[49m\u001b[43mcircuits\u001b[49m\u001b[38;5;241;43m=\u001b[39;49m\u001b[43mqc\u001b[49m\u001b[43m,\u001b[49m\u001b[43m \u001b[49m\u001b[43mbackend\u001b[49m\u001b[38;5;241;43m=\u001b[39;49m\u001b[38;5;28;43mself\u001b[39;49m\u001b[38;5;241;43m.\u001b[39;49m\u001b[43mbackend\u001b[49m\u001b[43m,\u001b[49m\u001b[43m \u001b[49m\u001b[43moptimization_level\u001b[49m\u001b[38;5;241;43m=\u001b[39;49m\u001b[43moptimization_level\u001b[49m\u001b[43m,\u001b[49m\u001b[43m \u001b[49m\u001b[43minitial_layout\u001b[49m\u001b[38;5;241;43m=\u001b[39;49m\u001b[43minitial_layout\u001b[49m\u001b[43m,\u001b[49m\u001b[43m \u001b[49m\n\u001b[0;32m     36\u001b[0m \u001b[43m                                      \u001b[49m\u001b[43mseed_transpiler\u001b[49m\u001b[38;5;241;43m=\u001b[39;49m\u001b[43mseed_transpiler\u001b[49m\u001b[43m,\u001b[49m\u001b[43m \u001b[49m\u001b[38;5;241;43m*\u001b[39;49m\u001b[38;5;241;43m*\u001b[39;49m\u001b[43mkwargs\u001b[49m\u001b[43m)\u001b[49m\n\u001b[0;32m     37\u001b[0m     \u001b[38;5;28;01mreturn\u001b[39;00m QuantumCircuit\u001b[38;5;241m.\u001b[39mfrom_qiskit_circuit(transpiled_qc)\n",
      "File \u001b[1;32m~\\AppData\\Local\\Packages\\PythonSoftwareFoundation.Python.3.11_qbz5n2kfra8p0\\LocalCache\\local-packages\\Python311\\site-packages\\qiskit\\compiler\\transpiler.py:425\u001b[0m, in \u001b[0;36mtranspile\u001b[1;34m(circuits, backend, basis_gates, inst_map, coupling_map, backend_properties, initial_layout, layout_method, routing_method, translation_method, scheduling_method, instruction_durations, dt, approximation_degree, timing_constraints, seed_transpiler, optimization_level, callback, output_name, unitary_synthesis_method, unitary_synthesis_plugin_config, target, hls_config, init_method, optimization_method, ignore_backend_supplied_default_methods, num_processes)\u001b[0m\n\u001b[0;32m    397\u001b[0m         instruction_durations \u001b[38;5;241m=\u001b[39m _parse_instruction_durations(\n\u001b[0;32m    398\u001b[0m             backend, instruction_durations, dt, circuits[\u001b[38;5;241m0\u001b[39m]\n\u001b[0;32m    399\u001b[0m         )\n\u001b[0;32m    401\u001b[0m pm \u001b[38;5;241m=\u001b[39m generate_preset_pass_manager(\n\u001b[0;32m    402\u001b[0m     optimization_level,\n\u001b[0;32m    403\u001b[0m     backend\u001b[38;5;241m=\u001b[39mbackend,\n\u001b[1;32m   (...)\u001b[0m\n\u001b[0;32m    423\u001b[0m     _skip_target\u001b[38;5;241m=\u001b[39m_skip_target,\n\u001b[0;32m    424\u001b[0m )\n\u001b[1;32m--> 425\u001b[0m out_circuits \u001b[38;5;241m=\u001b[39m \u001b[43mpm\u001b[49m\u001b[38;5;241;43m.\u001b[39;49m\u001b[43mrun\u001b[49m\u001b[43m(\u001b[49m\u001b[43mcircuits\u001b[49m\u001b[43m,\u001b[49m\u001b[43m \u001b[49m\u001b[43mcallback\u001b[49m\u001b[38;5;241;43m=\u001b[39;49m\u001b[43mcallback\u001b[49m\u001b[43m)\u001b[49m\n\u001b[0;32m    426\u001b[0m \u001b[38;5;28;01mfor\u001b[39;00m name, circ \u001b[38;5;129;01min\u001b[39;00m \u001b[38;5;28mzip\u001b[39m(output_name, out_circuits):\n\u001b[0;32m    427\u001b[0m     circ\u001b[38;5;241m.\u001b[39mname \u001b[38;5;241m=\u001b[39m name\n",
      "File \u001b[1;32m~\\AppData\\Local\\Packages\\PythonSoftwareFoundation.Python.3.11_qbz5n2kfra8p0\\LocalCache\\local-packages\\Python311\\site-packages\\qiskit\\transpiler\\passmanager.py:397\u001b[0m, in \u001b[0;36mStagedPassManager.run\u001b[1;34m(self, circuits, output_name, callback, num_processes)\u001b[0m\n\u001b[0;32m    389\u001b[0m \u001b[38;5;28;01mdef\u001b[39;00m \u001b[38;5;21mrun\u001b[39m(\n\u001b[0;32m    390\u001b[0m     \u001b[38;5;28mself\u001b[39m,\n\u001b[0;32m    391\u001b[0m     circuits: _CircuitsT,\n\u001b[1;32m   (...)\u001b[0m\n\u001b[0;32m    394\u001b[0m     num_processes: \u001b[38;5;28mint\u001b[39m \u001b[38;5;241m=\u001b[39m \u001b[38;5;28;01mNone\u001b[39;00m,\n\u001b[0;32m    395\u001b[0m ) \u001b[38;5;241m-\u001b[39m\u001b[38;5;241m>\u001b[39m _CircuitsT:\n\u001b[0;32m    396\u001b[0m     \u001b[38;5;28mself\u001b[39m\u001b[38;5;241m.\u001b[39m_update_passmanager()\n\u001b[1;32m--> 397\u001b[0m     \u001b[38;5;28;01mreturn\u001b[39;00m \u001b[38;5;28;43msuper\u001b[39;49m\u001b[43m(\u001b[49m\u001b[43m)\u001b[49m\u001b[38;5;241;43m.\u001b[39;49m\u001b[43mrun\u001b[49m\u001b[43m(\u001b[49m\u001b[43mcircuits\u001b[49m\u001b[43m,\u001b[49m\u001b[43m \u001b[49m\u001b[43moutput_name\u001b[49m\u001b[43m,\u001b[49m\u001b[43m \u001b[49m\u001b[43mcallback\u001b[49m\u001b[43m,\u001b[49m\u001b[43m \u001b[49m\u001b[43mnum_processes\u001b[49m\u001b[38;5;241;43m=\u001b[39;49m\u001b[43mnum_processes\u001b[49m\u001b[43m)\u001b[49m\n",
      "File \u001b[1;32m~\\AppData\\Local\\Packages\\PythonSoftwareFoundation.Python.3.11_qbz5n2kfra8p0\\LocalCache\\local-packages\\Python311\\site-packages\\qiskit\\transpiler\\passmanager.py:420\u001b[0m, in \u001b[0;36m_replace_error.<locals>.wrapper\u001b[1;34m(*meth_args, **meth_kwargs)\u001b[0m\n\u001b[0;32m    417\u001b[0m \u001b[38;5;129m@wraps\u001b[39m(meth)\n\u001b[0;32m    418\u001b[0m \u001b[38;5;28;01mdef\u001b[39;00m \u001b[38;5;21mwrapper\u001b[39m(\u001b[38;5;241m*\u001b[39mmeth_args, \u001b[38;5;241m*\u001b[39m\u001b[38;5;241m*\u001b[39mmeth_kwargs):\n\u001b[0;32m    419\u001b[0m     \u001b[38;5;28;01mtry\u001b[39;00m:\n\u001b[1;32m--> 420\u001b[0m         \u001b[38;5;28;01mreturn\u001b[39;00m \u001b[43mmeth\u001b[49m\u001b[43m(\u001b[49m\u001b[38;5;241;43m*\u001b[39;49m\u001b[43mmeth_args\u001b[49m\u001b[43m,\u001b[49m\u001b[43m \u001b[49m\u001b[38;5;241;43m*\u001b[39;49m\u001b[38;5;241;43m*\u001b[39;49m\u001b[43mmeth_kwargs\u001b[49m\u001b[43m)\u001b[49m\n\u001b[0;32m    421\u001b[0m     \u001b[38;5;28;01mexcept\u001b[39;00m PassManagerError \u001b[38;5;28;01mas\u001b[39;00m ex:\n\u001b[0;32m    422\u001b[0m         \u001b[38;5;28;01mraise\u001b[39;00m TranspilerError(ex\u001b[38;5;241m.\u001b[39mmessage) \u001b[38;5;28;01mfrom\u001b[39;00m \u001b[38;5;21;01mex\u001b[39;00m\n",
      "File \u001b[1;32m~\\AppData\\Local\\Packages\\PythonSoftwareFoundation.Python.3.11_qbz5n2kfra8p0\\LocalCache\\local-packages\\Python311\\site-packages\\qiskit\\transpiler\\passmanager.py:182\u001b[0m, in \u001b[0;36mPassManager.run\u001b[1;34m(self, circuits, output_name, callback, num_processes)\u001b[0m\n\u001b[0;32m    179\u001b[0m \u001b[38;5;28;01mif\u001b[39;00m callback \u001b[38;5;129;01mis\u001b[39;00m \u001b[38;5;129;01mnot\u001b[39;00m \u001b[38;5;28;01mNone\u001b[39;00m:\n\u001b[0;32m    180\u001b[0m     callback \u001b[38;5;241m=\u001b[39m _legacy_style_callback(callback)\n\u001b[1;32m--> 182\u001b[0m \u001b[38;5;28;01mreturn\u001b[39;00m \u001b[38;5;28;43msuper\u001b[39;49m\u001b[43m(\u001b[49m\u001b[43m)\u001b[49m\u001b[38;5;241;43m.\u001b[39;49m\u001b[43mrun\u001b[49m\u001b[43m(\u001b[49m\n\u001b[0;32m    183\u001b[0m \u001b[43m    \u001b[49m\u001b[43min_programs\u001b[49m\u001b[38;5;241;43m=\u001b[39;49m\u001b[43mcircuits\u001b[49m\u001b[43m,\u001b[49m\n\u001b[0;32m    184\u001b[0m \u001b[43m    \u001b[49m\u001b[43mcallback\u001b[49m\u001b[38;5;241;43m=\u001b[39;49m\u001b[43mcallback\u001b[49m\u001b[43m,\u001b[49m\n\u001b[0;32m    185\u001b[0m \u001b[43m    \u001b[49m\u001b[43moutput_name\u001b[49m\u001b[38;5;241;43m=\u001b[39;49m\u001b[43moutput_name\u001b[49m\u001b[43m,\u001b[49m\n\u001b[0;32m    186\u001b[0m \u001b[43m    \u001b[49m\u001b[43mnum_processes\u001b[49m\u001b[38;5;241;43m=\u001b[39;49m\u001b[43mnum_processes\u001b[49m\u001b[43m,\u001b[49m\n\u001b[0;32m    187\u001b[0m \u001b[43m\u001b[49m\u001b[43m)\u001b[49m\n",
      "File \u001b[1;32m~\\AppData\\Local\\Packages\\PythonSoftwareFoundation.Python.3.11_qbz5n2kfra8p0\\LocalCache\\local-packages\\Python311\\site-packages\\qiskit\\passmanager\\passmanager.py:229\u001b[0m, in \u001b[0;36mBasePassManager.run\u001b[1;34m(self, in_programs, callback, num_processes, **kwargs)\u001b[0m\n\u001b[0;32m    226\u001b[0m     is_list \u001b[38;5;241m=\u001b[39m \u001b[38;5;28;01mFalse\u001b[39;00m\n\u001b[0;32m    228\u001b[0m \u001b[38;5;28;01mif\u001b[39;00m \u001b[38;5;28mlen\u001b[39m(in_programs) \u001b[38;5;241m==\u001b[39m \u001b[38;5;241m1\u001b[39m:\n\u001b[1;32m--> 229\u001b[0m     out_program \u001b[38;5;241m=\u001b[39m \u001b[43m_run_workflow\u001b[49m\u001b[43m(\u001b[49m\n\u001b[0;32m    230\u001b[0m \u001b[43m        \u001b[49m\u001b[43mprogram\u001b[49m\u001b[38;5;241;43m=\u001b[39;49m\u001b[43min_programs\u001b[49m\u001b[43m[\u001b[49m\u001b[38;5;241;43m0\u001b[39;49m\u001b[43m]\u001b[49m\u001b[43m,\u001b[49m\n\u001b[0;32m    231\u001b[0m \u001b[43m        \u001b[49m\u001b[43mpass_manager\u001b[49m\u001b[38;5;241;43m=\u001b[39;49m\u001b[38;5;28;43mself\u001b[39;49m\u001b[43m,\u001b[49m\n\u001b[0;32m    232\u001b[0m \u001b[43m        \u001b[49m\u001b[43mcallback\u001b[49m\u001b[38;5;241;43m=\u001b[39;49m\u001b[43mcallback\u001b[49m\u001b[43m,\u001b[49m\n\u001b[0;32m    233\u001b[0m \u001b[43m        \u001b[49m\u001b[38;5;241;43m*\u001b[39;49m\u001b[38;5;241;43m*\u001b[39;49m\u001b[43mkwargs\u001b[49m\u001b[43m,\u001b[49m\n\u001b[0;32m    234\u001b[0m \u001b[43m    \u001b[49m\u001b[43m)\u001b[49m\n\u001b[0;32m    235\u001b[0m     \u001b[38;5;28;01mif\u001b[39;00m is_list:\n\u001b[0;32m    236\u001b[0m         \u001b[38;5;28;01mreturn\u001b[39;00m [out_program]\n",
      "File \u001b[1;32m~\\AppData\\Local\\Packages\\PythonSoftwareFoundation.Python.3.11_qbz5n2kfra8p0\\LocalCache\\local-packages\\Python311\\site-packages\\qiskit\\passmanager\\passmanager.py:292\u001b[0m, in \u001b[0;36m_run_workflow\u001b[1;34m(program, pass_manager, **kwargs)\u001b[0m\n\u001b[0;32m    286\u001b[0m initial_status \u001b[38;5;241m=\u001b[39m WorkflowStatus()\n\u001b[0;32m    288\u001b[0m passmanager_ir \u001b[38;5;241m=\u001b[39m pass_manager\u001b[38;5;241m.\u001b[39m_passmanager_frontend(\n\u001b[0;32m    289\u001b[0m     input_program\u001b[38;5;241m=\u001b[39mprogram,\n\u001b[0;32m    290\u001b[0m     \u001b[38;5;241m*\u001b[39m\u001b[38;5;241m*\u001b[39mkwargs,\n\u001b[0;32m    291\u001b[0m )\n\u001b[1;32m--> 292\u001b[0m passmanager_ir, final_state \u001b[38;5;241m=\u001b[39m \u001b[43mflow_controller\u001b[49m\u001b[38;5;241;43m.\u001b[39;49m\u001b[43mexecute\u001b[49m\u001b[43m(\u001b[49m\n\u001b[0;32m    293\u001b[0m \u001b[43m    \u001b[49m\u001b[43mpassmanager_ir\u001b[49m\u001b[38;5;241;43m=\u001b[39;49m\u001b[43mpassmanager_ir\u001b[49m\u001b[43m,\u001b[49m\n\u001b[0;32m    294\u001b[0m \u001b[43m    \u001b[49m\u001b[43mstate\u001b[49m\u001b[38;5;241;43m=\u001b[39;49m\u001b[43mPassManagerState\u001b[49m\u001b[43m(\u001b[49m\n\u001b[0;32m    295\u001b[0m \u001b[43m        \u001b[49m\u001b[43mworkflow_status\u001b[49m\u001b[38;5;241;43m=\u001b[39;49m\u001b[43minitial_status\u001b[49m\u001b[43m,\u001b[49m\n\u001b[0;32m    296\u001b[0m \u001b[43m        \u001b[49m\u001b[43mproperty_set\u001b[49m\u001b[38;5;241;43m=\u001b[39;49m\u001b[43mPropertySet\u001b[49m\u001b[43m(\u001b[49m\u001b[43m)\u001b[49m\u001b[43m,\u001b[49m\n\u001b[0;32m    297\u001b[0m \u001b[43m    \u001b[49m\u001b[43m)\u001b[49m\u001b[43m,\u001b[49m\n\u001b[0;32m    298\u001b[0m \u001b[43m    \u001b[49m\u001b[43mcallback\u001b[49m\u001b[38;5;241;43m=\u001b[39;49m\u001b[43mkwargs\u001b[49m\u001b[38;5;241;43m.\u001b[39;49m\u001b[43mget\u001b[49m\u001b[43m(\u001b[49m\u001b[38;5;124;43m\"\u001b[39;49m\u001b[38;5;124;43mcallback\u001b[39;49m\u001b[38;5;124;43m\"\u001b[39;49m\u001b[43m,\u001b[49m\u001b[43m \u001b[49m\u001b[38;5;28;43;01mNone\u001b[39;49;00m\u001b[43m)\u001b[49m\u001b[43m,\u001b[49m\n\u001b[0;32m    299\u001b[0m \u001b[43m\u001b[49m\u001b[43m)\u001b[49m\n\u001b[0;32m    300\u001b[0m \u001b[38;5;66;03m# The `property_set` has historically been returned as a mutable attribute on `PassManager`\u001b[39;00m\n\u001b[0;32m    301\u001b[0m \u001b[38;5;66;03m# This makes us non-reentrant (though `PassManager` would be dependent on its internal tasks to\u001b[39;00m\n\u001b[0;32m    302\u001b[0m \u001b[38;5;66;03m# be re-entrant if that was required), but is consistent with previous interfaces.  We're still\u001b[39;00m\n\u001b[0;32m    303\u001b[0m \u001b[38;5;66;03m# safe to be called in a serial loop, again assuming internal tasks are re-runnable.  The\u001b[39;00m\n\u001b[0;32m    304\u001b[0m \u001b[38;5;66;03m# conversion to the backend language is also allowed to use the property set, so it must be set\u001b[39;00m\n\u001b[0;32m    305\u001b[0m \u001b[38;5;66;03m# before calling it.\u001b[39;00m\n\u001b[0;32m    306\u001b[0m pass_manager\u001b[38;5;241m.\u001b[39mproperty_set \u001b[38;5;241m=\u001b[39m final_state\u001b[38;5;241m.\u001b[39mproperty_set\n",
      "File \u001b[1;32m~\\AppData\\Local\\Packages\\PythonSoftwareFoundation.Python.3.11_qbz5n2kfra8p0\\LocalCache\\local-packages\\Python311\\site-packages\\qiskit\\passmanager\\base_tasks.py:218\u001b[0m, in \u001b[0;36mBaseController.execute\u001b[1;34m(self, passmanager_ir, state, callback)\u001b[0m\n\u001b[0;32m    216\u001b[0m     \u001b[38;5;28;01mreturn\u001b[39;00m passmanager_ir, state\n\u001b[0;32m    217\u001b[0m \u001b[38;5;28;01mwhile\u001b[39;00m \u001b[38;5;28;01mTrue\u001b[39;00m:\n\u001b[1;32m--> 218\u001b[0m     passmanager_ir, state \u001b[38;5;241m=\u001b[39m \u001b[43mnext_task\u001b[49m\u001b[38;5;241;43m.\u001b[39;49m\u001b[43mexecute\u001b[49m\u001b[43m(\u001b[49m\n\u001b[0;32m    219\u001b[0m \u001b[43m        \u001b[49m\u001b[43mpassmanager_ir\u001b[49m\u001b[38;5;241;43m=\u001b[39;49m\u001b[43mpassmanager_ir\u001b[49m\u001b[43m,\u001b[49m\n\u001b[0;32m    220\u001b[0m \u001b[43m        \u001b[49m\u001b[43mstate\u001b[49m\u001b[38;5;241;43m=\u001b[39;49m\u001b[43mstate\u001b[49m\u001b[43m,\u001b[49m\n\u001b[0;32m    221\u001b[0m \u001b[43m        \u001b[49m\u001b[43mcallback\u001b[49m\u001b[38;5;241;43m=\u001b[39;49m\u001b[43mcallback\u001b[49m\u001b[43m,\u001b[49m\n\u001b[0;32m    222\u001b[0m \u001b[43m    \u001b[49m\u001b[43m)\u001b[49m\n\u001b[0;32m    223\u001b[0m     \u001b[38;5;28;01mtry\u001b[39;00m:\n\u001b[0;32m    224\u001b[0m         \u001b[38;5;66;03m# Sending the object through the generator implies the custom controllers\u001b[39;00m\n\u001b[0;32m    225\u001b[0m         \u001b[38;5;66;03m# can always rely on the latest data to choose the next task to run.\u001b[39;00m\n\u001b[0;32m    226\u001b[0m         next_task \u001b[38;5;241m=\u001b[39m task_generator\u001b[38;5;241m.\u001b[39msend(state)\n",
      "File \u001b[1;32m~\\AppData\\Local\\Packages\\PythonSoftwareFoundation.Python.3.11_qbz5n2kfra8p0\\LocalCache\\local-packages\\Python311\\site-packages\\qiskit\\passmanager\\base_tasks.py:218\u001b[0m, in \u001b[0;36mBaseController.execute\u001b[1;34m(self, passmanager_ir, state, callback)\u001b[0m\n\u001b[0;32m    216\u001b[0m     \u001b[38;5;28;01mreturn\u001b[39;00m passmanager_ir, state\n\u001b[0;32m    217\u001b[0m \u001b[38;5;28;01mwhile\u001b[39;00m \u001b[38;5;28;01mTrue\u001b[39;00m:\n\u001b[1;32m--> 218\u001b[0m     passmanager_ir, state \u001b[38;5;241m=\u001b[39m \u001b[43mnext_task\u001b[49m\u001b[38;5;241;43m.\u001b[39;49m\u001b[43mexecute\u001b[49m\u001b[43m(\u001b[49m\n\u001b[0;32m    219\u001b[0m \u001b[43m        \u001b[49m\u001b[43mpassmanager_ir\u001b[49m\u001b[38;5;241;43m=\u001b[39;49m\u001b[43mpassmanager_ir\u001b[49m\u001b[43m,\u001b[49m\n\u001b[0;32m    220\u001b[0m \u001b[43m        \u001b[49m\u001b[43mstate\u001b[49m\u001b[38;5;241;43m=\u001b[39;49m\u001b[43mstate\u001b[49m\u001b[43m,\u001b[49m\n\u001b[0;32m    221\u001b[0m \u001b[43m        \u001b[49m\u001b[43mcallback\u001b[49m\u001b[38;5;241;43m=\u001b[39;49m\u001b[43mcallback\u001b[49m\u001b[43m,\u001b[49m\n\u001b[0;32m    222\u001b[0m \u001b[43m    \u001b[49m\u001b[43m)\u001b[49m\n\u001b[0;32m    223\u001b[0m     \u001b[38;5;28;01mtry\u001b[39;00m:\n\u001b[0;32m    224\u001b[0m         \u001b[38;5;66;03m# Sending the object through the generator implies the custom controllers\u001b[39;00m\n\u001b[0;32m    225\u001b[0m         \u001b[38;5;66;03m# can always rely on the latest data to choose the next task to run.\u001b[39;00m\n\u001b[0;32m    226\u001b[0m         next_task \u001b[38;5;241m=\u001b[39m task_generator\u001b[38;5;241m.\u001b[39msend(state)\n",
      "File \u001b[1;32m~\\AppData\\Local\\Packages\\PythonSoftwareFoundation.Python.3.11_qbz5n2kfra8p0\\LocalCache\\local-packages\\Python311\\site-packages\\qiskit\\transpiler\\basepasses.py:195\u001b[0m, in \u001b[0;36mTransformationPass.execute\u001b[1;34m(self, passmanager_ir, state, callback)\u001b[0m\n\u001b[0;32m    189\u001b[0m \u001b[38;5;28;01mdef\u001b[39;00m \u001b[38;5;21mexecute\u001b[39m(\n\u001b[0;32m    190\u001b[0m     \u001b[38;5;28mself\u001b[39m,\n\u001b[0;32m    191\u001b[0m     passmanager_ir: PassManagerIR,\n\u001b[0;32m    192\u001b[0m     state: PassManagerState,\n\u001b[0;32m    193\u001b[0m     callback: Callable \u001b[38;5;241m=\u001b[39m \u001b[38;5;28;01mNone\u001b[39;00m,\n\u001b[0;32m    194\u001b[0m ) \u001b[38;5;241m-\u001b[39m\u001b[38;5;241m>\u001b[39m \u001b[38;5;28mtuple\u001b[39m[PassManagerIR, PassManagerState]:\n\u001b[1;32m--> 195\u001b[0m     new_dag, state \u001b[38;5;241m=\u001b[39m \u001b[38;5;28;43msuper\u001b[39;49m\u001b[43m(\u001b[49m\u001b[43m)\u001b[49m\u001b[38;5;241;43m.\u001b[39;49m\u001b[43mexecute\u001b[49m\u001b[43m(\u001b[49m\n\u001b[0;32m    196\u001b[0m \u001b[43m        \u001b[49m\u001b[43mpassmanager_ir\u001b[49m\u001b[38;5;241;43m=\u001b[39;49m\u001b[43mpassmanager_ir\u001b[49m\u001b[43m,\u001b[49m\n\u001b[0;32m    197\u001b[0m \u001b[43m        \u001b[49m\u001b[43mstate\u001b[49m\u001b[38;5;241;43m=\u001b[39;49m\u001b[43mstate\u001b[49m\u001b[43m,\u001b[49m\n\u001b[0;32m    198\u001b[0m \u001b[43m        \u001b[49m\u001b[43mcallback\u001b[49m\u001b[38;5;241;43m=\u001b[39;49m\u001b[43mcallback\u001b[49m\u001b[43m,\u001b[49m\n\u001b[0;32m    199\u001b[0m \u001b[43m    \u001b[49m\u001b[43m)\u001b[49m\n\u001b[0;32m    201\u001b[0m     \u001b[38;5;28;01mif\u001b[39;00m state\u001b[38;5;241m.\u001b[39mworkflow_status\u001b[38;5;241m.\u001b[39mprevious_run \u001b[38;5;241m==\u001b[39m RunState\u001b[38;5;241m.\u001b[39mSUCCESS:\n\u001b[0;32m    202\u001b[0m         \u001b[38;5;28;01mif\u001b[39;00m \u001b[38;5;28misinstance\u001b[39m(new_dag, DAGCircuit):\n\u001b[0;32m    203\u001b[0m             \u001b[38;5;66;03m# Copy calibration data from the original program\u001b[39;00m\n",
      "File \u001b[1;32m~\\AppData\\Local\\Packages\\PythonSoftwareFoundation.Python.3.11_qbz5n2kfra8p0\\LocalCache\\local-packages\\Python311\\site-packages\\qiskit\\passmanager\\base_tasks.py:98\u001b[0m, in \u001b[0;36mGenericPass.execute\u001b[1;34m(self, passmanager_ir, state, callback)\u001b[0m\n\u001b[0;32m     96\u001b[0m \u001b[38;5;28;01mtry\u001b[39;00m:\n\u001b[0;32m     97\u001b[0m     \u001b[38;5;28;01mif\u001b[39;00m \u001b[38;5;28mself\u001b[39m \u001b[38;5;129;01mnot\u001b[39;00m \u001b[38;5;129;01min\u001b[39;00m state\u001b[38;5;241m.\u001b[39mworkflow_status\u001b[38;5;241m.\u001b[39mcompleted_passes:\n\u001b[1;32m---> 98\u001b[0m         ret \u001b[38;5;241m=\u001b[39m \u001b[38;5;28;43mself\u001b[39;49m\u001b[38;5;241;43m.\u001b[39;49m\u001b[43mrun\u001b[49m\u001b[43m(\u001b[49m\u001b[43mpassmanager_ir\u001b[49m\u001b[43m)\u001b[49m\n\u001b[0;32m     99\u001b[0m         run_state \u001b[38;5;241m=\u001b[39m RunState\u001b[38;5;241m.\u001b[39mSUCCESS\n\u001b[0;32m    100\u001b[0m     \u001b[38;5;28;01melse\u001b[39;00m:\n",
      "File \u001b[1;32m~\\AppData\\Local\\Packages\\PythonSoftwareFoundation.Python.3.11_qbz5n2kfra8p0\\LocalCache\\local-packages\\Python311\\site-packages\\qiskit\\transpiler\\passes\\utils\\minimum_point.py:100\u001b[0m, in \u001b[0;36mMinimumPoint.run\u001b[1;34m(self, dag)\u001b[0m\n\u001b[0;32m     98\u001b[0m     state\u001b[38;5;241m.\u001b[39msince \u001b[38;5;241m=\u001b[39m \u001b[38;5;241m1\u001b[39m\n\u001b[0;32m     99\u001b[0m     state\u001b[38;5;241m.\u001b[39mscore \u001b[38;5;241m=\u001b[39m score\n\u001b[1;32m--> 100\u001b[0m     state\u001b[38;5;241m.\u001b[39mdag \u001b[38;5;241m=\u001b[39m \u001b[43mdeepcopy\u001b[49m\u001b[43m(\u001b[49m\u001b[43mdag\u001b[49m\u001b[43m)\u001b[49m\n\u001b[0;32m    101\u001b[0m \u001b[38;5;66;03m# If the current execution is equal to the previous minimum value then\u001b[39;00m\n\u001b[0;32m    102\u001b[0m \u001b[38;5;66;03m# we've reached an equivalent fixed point and we should use this iteration's\u001b[39;00m\n\u001b[0;32m    103\u001b[0m \u001b[38;5;66;03m# dag as the output and set the property set flag that we've found a minimum\u001b[39;00m\n\u001b[0;32m    104\u001b[0m \u001b[38;5;66;03m# point.\u001b[39;00m\n\u001b[0;32m    105\u001b[0m \u001b[38;5;28;01melif\u001b[39;00m score \u001b[38;5;241m==\u001b[39m state\u001b[38;5;241m.\u001b[39mscore:\n",
      "File \u001b[1;32mC:\\Program Files\\WindowsApps\\PythonSoftwareFoundation.Python.3.11_3.11.2544.0_x64__qbz5n2kfra8p0\\Lib\\copy.py:172\u001b[0m, in \u001b[0;36mdeepcopy\u001b[1;34m(x, memo, _nil)\u001b[0m\n\u001b[0;32m    170\u001b[0m                 y \u001b[38;5;241m=\u001b[39m x\n\u001b[0;32m    171\u001b[0m             \u001b[38;5;28;01melse\u001b[39;00m:\n\u001b[1;32m--> 172\u001b[0m                 y \u001b[38;5;241m=\u001b[39m \u001b[43m_reconstruct\u001b[49m\u001b[43m(\u001b[49m\u001b[43mx\u001b[49m\u001b[43m,\u001b[49m\u001b[43m \u001b[49m\u001b[43mmemo\u001b[49m\u001b[43m,\u001b[49m\u001b[43m \u001b[49m\u001b[38;5;241;43m*\u001b[39;49m\u001b[43mrv\u001b[49m\u001b[43m)\u001b[49m\n\u001b[0;32m    174\u001b[0m \u001b[38;5;66;03m# If is its own copy, don't memoize.\u001b[39;00m\n\u001b[0;32m    175\u001b[0m \u001b[38;5;28;01mif\u001b[39;00m y \u001b[38;5;129;01mis\u001b[39;00m \u001b[38;5;129;01mnot\u001b[39;00m x:\n",
      "File \u001b[1;32mC:\\Program Files\\WindowsApps\\PythonSoftwareFoundation.Python.3.11_3.11.2544.0_x64__qbz5n2kfra8p0\\Lib\\copy.py:271\u001b[0m, in \u001b[0;36m_reconstruct\u001b[1;34m(x, memo, func, args, state, listiter, dictiter, deepcopy)\u001b[0m\n\u001b[0;32m    269\u001b[0m \u001b[38;5;28;01mif\u001b[39;00m state \u001b[38;5;129;01mis\u001b[39;00m \u001b[38;5;129;01mnot\u001b[39;00m \u001b[38;5;28;01mNone\u001b[39;00m:\n\u001b[0;32m    270\u001b[0m     \u001b[38;5;28;01mif\u001b[39;00m deep:\n\u001b[1;32m--> 271\u001b[0m         state \u001b[38;5;241m=\u001b[39m \u001b[43mdeepcopy\u001b[49m\u001b[43m(\u001b[49m\u001b[43mstate\u001b[49m\u001b[43m,\u001b[49m\u001b[43m \u001b[49m\u001b[43mmemo\u001b[49m\u001b[43m)\u001b[49m\n\u001b[0;32m    272\u001b[0m     \u001b[38;5;28;01mif\u001b[39;00m \u001b[38;5;28mhasattr\u001b[39m(y, \u001b[38;5;124m'\u001b[39m\u001b[38;5;124m__setstate__\u001b[39m\u001b[38;5;124m'\u001b[39m):\n\u001b[0;32m    273\u001b[0m         y\u001b[38;5;241m.\u001b[39m__setstate__(state)\n",
      "File \u001b[1;32mC:\\Program Files\\WindowsApps\\PythonSoftwareFoundation.Python.3.11_3.11.2544.0_x64__qbz5n2kfra8p0\\Lib\\copy.py:146\u001b[0m, in \u001b[0;36mdeepcopy\u001b[1;34m(x, memo, _nil)\u001b[0m\n\u001b[0;32m    144\u001b[0m copier \u001b[38;5;241m=\u001b[39m _deepcopy_dispatch\u001b[38;5;241m.\u001b[39mget(\u001b[38;5;28mcls\u001b[39m)\n\u001b[0;32m    145\u001b[0m \u001b[38;5;28;01mif\u001b[39;00m copier \u001b[38;5;129;01mis\u001b[39;00m \u001b[38;5;129;01mnot\u001b[39;00m \u001b[38;5;28;01mNone\u001b[39;00m:\n\u001b[1;32m--> 146\u001b[0m     y \u001b[38;5;241m=\u001b[39m \u001b[43mcopier\u001b[49m\u001b[43m(\u001b[49m\u001b[43mx\u001b[49m\u001b[43m,\u001b[49m\u001b[43m \u001b[49m\u001b[43mmemo\u001b[49m\u001b[43m)\u001b[49m\n\u001b[0;32m    147\u001b[0m \u001b[38;5;28;01melse\u001b[39;00m:\n\u001b[0;32m    148\u001b[0m     \u001b[38;5;28;01mif\u001b[39;00m \u001b[38;5;28missubclass\u001b[39m(\u001b[38;5;28mcls\u001b[39m, \u001b[38;5;28mtype\u001b[39m):\n",
      "File \u001b[1;32mC:\\Program Files\\WindowsApps\\PythonSoftwareFoundation.Python.3.11_3.11.2544.0_x64__qbz5n2kfra8p0\\Lib\\copy.py:231\u001b[0m, in \u001b[0;36m_deepcopy_dict\u001b[1;34m(x, memo, deepcopy)\u001b[0m\n\u001b[0;32m    229\u001b[0m memo[\u001b[38;5;28mid\u001b[39m(x)] \u001b[38;5;241m=\u001b[39m y\n\u001b[0;32m    230\u001b[0m \u001b[38;5;28;01mfor\u001b[39;00m key, value \u001b[38;5;129;01min\u001b[39;00m x\u001b[38;5;241m.\u001b[39mitems():\n\u001b[1;32m--> 231\u001b[0m     y[deepcopy(key, memo)] \u001b[38;5;241m=\u001b[39m \u001b[43mdeepcopy\u001b[49m\u001b[43m(\u001b[49m\u001b[43mvalue\u001b[49m\u001b[43m,\u001b[49m\u001b[43m \u001b[49m\u001b[43mmemo\u001b[49m\u001b[43m)\u001b[49m\n\u001b[0;32m    232\u001b[0m \u001b[38;5;28;01mreturn\u001b[39;00m y\n",
      "File \u001b[1;32mC:\\Program Files\\WindowsApps\\PythonSoftwareFoundation.Python.3.11_3.11.2544.0_x64__qbz5n2kfra8p0\\Lib\\copy.py:172\u001b[0m, in \u001b[0;36mdeepcopy\u001b[1;34m(x, memo, _nil)\u001b[0m\n\u001b[0;32m    170\u001b[0m                 y \u001b[38;5;241m=\u001b[39m x\n\u001b[0;32m    171\u001b[0m             \u001b[38;5;28;01melse\u001b[39;00m:\n\u001b[1;32m--> 172\u001b[0m                 y \u001b[38;5;241m=\u001b[39m \u001b[43m_reconstruct\u001b[49m\u001b[43m(\u001b[49m\u001b[43mx\u001b[49m\u001b[43m,\u001b[49m\u001b[43m \u001b[49m\u001b[43mmemo\u001b[49m\u001b[43m,\u001b[49m\u001b[43m \u001b[49m\u001b[38;5;241;43m*\u001b[39;49m\u001b[43mrv\u001b[49m\u001b[43m)\u001b[49m\n\u001b[0;32m    174\u001b[0m \u001b[38;5;66;03m# If is its own copy, don't memoize.\u001b[39;00m\n\u001b[0;32m    175\u001b[0m \u001b[38;5;28;01mif\u001b[39;00m y \u001b[38;5;129;01mis\u001b[39;00m \u001b[38;5;129;01mnot\u001b[39;00m x:\n",
      "File \u001b[1;32mC:\\Program Files\\WindowsApps\\PythonSoftwareFoundation.Python.3.11_3.11.2544.0_x64__qbz5n2kfra8p0\\Lib\\copy.py:271\u001b[0m, in \u001b[0;36m_reconstruct\u001b[1;34m(x, memo, func, args, state, listiter, dictiter, deepcopy)\u001b[0m\n\u001b[0;32m    269\u001b[0m \u001b[38;5;28;01mif\u001b[39;00m state \u001b[38;5;129;01mis\u001b[39;00m \u001b[38;5;129;01mnot\u001b[39;00m \u001b[38;5;28;01mNone\u001b[39;00m:\n\u001b[0;32m    270\u001b[0m     \u001b[38;5;28;01mif\u001b[39;00m deep:\n\u001b[1;32m--> 271\u001b[0m         state \u001b[38;5;241m=\u001b[39m \u001b[43mdeepcopy\u001b[49m\u001b[43m(\u001b[49m\u001b[43mstate\u001b[49m\u001b[43m,\u001b[49m\u001b[43m \u001b[49m\u001b[43mmemo\u001b[49m\u001b[43m)\u001b[49m\n\u001b[0;32m    272\u001b[0m     \u001b[38;5;28;01mif\u001b[39;00m \u001b[38;5;28mhasattr\u001b[39m(y, \u001b[38;5;124m'\u001b[39m\u001b[38;5;124m__setstate__\u001b[39m\u001b[38;5;124m'\u001b[39m):\n\u001b[0;32m    273\u001b[0m         y\u001b[38;5;241m.\u001b[39m__setstate__(state)\n",
      "File \u001b[1;32mC:\\Program Files\\WindowsApps\\PythonSoftwareFoundation.Python.3.11_3.11.2544.0_x64__qbz5n2kfra8p0\\Lib\\copy.py:146\u001b[0m, in \u001b[0;36mdeepcopy\u001b[1;34m(x, memo, _nil)\u001b[0m\n\u001b[0;32m    144\u001b[0m copier \u001b[38;5;241m=\u001b[39m _deepcopy_dispatch\u001b[38;5;241m.\u001b[39mget(\u001b[38;5;28mcls\u001b[39m)\n\u001b[0;32m    145\u001b[0m \u001b[38;5;28;01mif\u001b[39;00m copier \u001b[38;5;129;01mis\u001b[39;00m \u001b[38;5;129;01mnot\u001b[39;00m \u001b[38;5;28;01mNone\u001b[39;00m:\n\u001b[1;32m--> 146\u001b[0m     y \u001b[38;5;241m=\u001b[39m \u001b[43mcopier\u001b[49m\u001b[43m(\u001b[49m\u001b[43mx\u001b[49m\u001b[43m,\u001b[49m\u001b[43m \u001b[49m\u001b[43mmemo\u001b[49m\u001b[43m)\u001b[49m\n\u001b[0;32m    147\u001b[0m \u001b[38;5;28;01melse\u001b[39;00m:\n\u001b[0;32m    148\u001b[0m     \u001b[38;5;28;01mif\u001b[39;00m \u001b[38;5;28missubclass\u001b[39m(\u001b[38;5;28mcls\u001b[39m, \u001b[38;5;28mtype\u001b[39m):\n",
      "File \u001b[1;32mC:\\Program Files\\WindowsApps\\PythonSoftwareFoundation.Python.3.11_3.11.2544.0_x64__qbz5n2kfra8p0\\Lib\\copy.py:231\u001b[0m, in \u001b[0;36m_deepcopy_dict\u001b[1;34m(x, memo, deepcopy)\u001b[0m\n\u001b[0;32m    229\u001b[0m memo[\u001b[38;5;28mid\u001b[39m(x)] \u001b[38;5;241m=\u001b[39m y\n\u001b[0;32m    230\u001b[0m \u001b[38;5;28;01mfor\u001b[39;00m key, value \u001b[38;5;129;01min\u001b[39;00m x\u001b[38;5;241m.\u001b[39mitems():\n\u001b[1;32m--> 231\u001b[0m     y[deepcopy(key, memo)] \u001b[38;5;241m=\u001b[39m \u001b[43mdeepcopy\u001b[49m\u001b[43m(\u001b[49m\u001b[43mvalue\u001b[49m\u001b[43m,\u001b[49m\u001b[43m \u001b[49m\u001b[43mmemo\u001b[49m\u001b[43m)\u001b[49m\n\u001b[0;32m    232\u001b[0m \u001b[38;5;28;01mreturn\u001b[39;00m y\n",
      "File \u001b[1;32mC:\\Program Files\\WindowsApps\\PythonSoftwareFoundation.Python.3.11_3.11.2544.0_x64__qbz5n2kfra8p0\\Lib\\copy.py:146\u001b[0m, in \u001b[0;36mdeepcopy\u001b[1;34m(x, memo, _nil)\u001b[0m\n\u001b[0;32m    144\u001b[0m copier \u001b[38;5;241m=\u001b[39m _deepcopy_dispatch\u001b[38;5;241m.\u001b[39mget(\u001b[38;5;28mcls\u001b[39m)\n\u001b[0;32m    145\u001b[0m \u001b[38;5;28;01mif\u001b[39;00m copier \u001b[38;5;129;01mis\u001b[39;00m \u001b[38;5;129;01mnot\u001b[39;00m \u001b[38;5;28;01mNone\u001b[39;00m:\n\u001b[1;32m--> 146\u001b[0m     y \u001b[38;5;241m=\u001b[39m \u001b[43mcopier\u001b[49m\u001b[43m(\u001b[49m\u001b[43mx\u001b[49m\u001b[43m,\u001b[49m\u001b[43m \u001b[49m\u001b[43mmemo\u001b[49m\u001b[43m)\u001b[49m\n\u001b[0;32m    147\u001b[0m \u001b[38;5;28;01melse\u001b[39;00m:\n\u001b[0;32m    148\u001b[0m     \u001b[38;5;28;01mif\u001b[39;00m \u001b[38;5;28missubclass\u001b[39m(\u001b[38;5;28mcls\u001b[39m, \u001b[38;5;28mtype\u001b[39m):\n",
      "File \u001b[1;32mC:\\Program Files\\WindowsApps\\PythonSoftwareFoundation.Python.3.11_3.11.2544.0_x64__qbz5n2kfra8p0\\Lib\\copy.py:206\u001b[0m, in \u001b[0;36m_deepcopy_list\u001b[1;34m(x, memo, deepcopy)\u001b[0m\n\u001b[0;32m    204\u001b[0m append \u001b[38;5;241m=\u001b[39m y\u001b[38;5;241m.\u001b[39mappend\n\u001b[0;32m    205\u001b[0m \u001b[38;5;28;01mfor\u001b[39;00m a \u001b[38;5;129;01min\u001b[39;00m x:\n\u001b[1;32m--> 206\u001b[0m     append(\u001b[43mdeepcopy\u001b[49m\u001b[43m(\u001b[49m\u001b[43ma\u001b[49m\u001b[43m,\u001b[49m\u001b[43m \u001b[49m\u001b[43mmemo\u001b[49m\u001b[43m)\u001b[49m)\n\u001b[0;32m    207\u001b[0m \u001b[38;5;28;01mreturn\u001b[39;00m y\n",
      "File \u001b[1;32mC:\\Program Files\\WindowsApps\\PythonSoftwareFoundation.Python.3.11_3.11.2544.0_x64__qbz5n2kfra8p0\\Lib\\copy.py:146\u001b[0m, in \u001b[0;36mdeepcopy\u001b[1;34m(x, memo, _nil)\u001b[0m\n\u001b[0;32m    144\u001b[0m copier \u001b[38;5;241m=\u001b[39m _deepcopy_dispatch\u001b[38;5;241m.\u001b[39mget(\u001b[38;5;28mcls\u001b[39m)\n\u001b[0;32m    145\u001b[0m \u001b[38;5;28;01mif\u001b[39;00m copier \u001b[38;5;129;01mis\u001b[39;00m \u001b[38;5;129;01mnot\u001b[39;00m \u001b[38;5;28;01mNone\u001b[39;00m:\n\u001b[1;32m--> 146\u001b[0m     y \u001b[38;5;241m=\u001b[39m \u001b[43mcopier\u001b[49m\u001b[43m(\u001b[49m\u001b[43mx\u001b[49m\u001b[43m,\u001b[49m\u001b[43m \u001b[49m\u001b[43mmemo\u001b[49m\u001b[43m)\u001b[49m\n\u001b[0;32m    147\u001b[0m \u001b[38;5;28;01melse\u001b[39;00m:\n\u001b[0;32m    148\u001b[0m     \u001b[38;5;28;01mif\u001b[39;00m \u001b[38;5;28missubclass\u001b[39m(\u001b[38;5;28mcls\u001b[39m, \u001b[38;5;28mtype\u001b[39m):\n",
      "File \u001b[1;32mC:\\Program Files\\WindowsApps\\PythonSoftwareFoundation.Python.3.11_3.11.2544.0_x64__qbz5n2kfra8p0\\Lib\\copy.py:211\u001b[0m, in \u001b[0;36m_deepcopy_tuple\u001b[1;34m(x, memo, deepcopy)\u001b[0m\n\u001b[0;32m    210\u001b[0m \u001b[38;5;28;01mdef\u001b[39;00m \u001b[38;5;21m_deepcopy_tuple\u001b[39m(x, memo, deepcopy\u001b[38;5;241m=\u001b[39mdeepcopy):\n\u001b[1;32m--> 211\u001b[0m     y \u001b[38;5;241m=\u001b[39m \u001b[43m[\u001b[49m\u001b[43mdeepcopy\u001b[49m\u001b[43m(\u001b[49m\u001b[43ma\u001b[49m\u001b[43m,\u001b[49m\u001b[43m \u001b[49m\u001b[43mmemo\u001b[49m\u001b[43m)\u001b[49m\u001b[43m \u001b[49m\u001b[38;5;28;43;01mfor\u001b[39;49;00m\u001b[43m \u001b[49m\u001b[43ma\u001b[49m\u001b[43m \u001b[49m\u001b[38;5;129;43;01min\u001b[39;49;00m\u001b[43m \u001b[49m\u001b[43mx\u001b[49m\u001b[43m]\u001b[49m\n\u001b[0;32m    212\u001b[0m     \u001b[38;5;66;03m# We're not going to put the tuple in the memo, but it's still important we\u001b[39;00m\n\u001b[0;32m    213\u001b[0m     \u001b[38;5;66;03m# check for it, in case the tuple contains recursive mutable structures.\u001b[39;00m\n\u001b[0;32m    214\u001b[0m     \u001b[38;5;28;01mtry\u001b[39;00m:\n",
      "File \u001b[1;32mC:\\Program Files\\WindowsApps\\PythonSoftwareFoundation.Python.3.11_3.11.2544.0_x64__qbz5n2kfra8p0\\Lib\\copy.py:211\u001b[0m, in \u001b[0;36m<listcomp>\u001b[1;34m(.0)\u001b[0m\n\u001b[0;32m    210\u001b[0m \u001b[38;5;28;01mdef\u001b[39;00m \u001b[38;5;21m_deepcopy_tuple\u001b[39m(x, memo, deepcopy\u001b[38;5;241m=\u001b[39mdeepcopy):\n\u001b[1;32m--> 211\u001b[0m     y \u001b[38;5;241m=\u001b[39m [\u001b[43mdeepcopy\u001b[49m\u001b[43m(\u001b[49m\u001b[43ma\u001b[49m\u001b[43m,\u001b[49m\u001b[43m \u001b[49m\u001b[43mmemo\u001b[49m\u001b[43m)\u001b[49m \u001b[38;5;28;01mfor\u001b[39;00m a \u001b[38;5;129;01min\u001b[39;00m x]\n\u001b[0;32m    212\u001b[0m     \u001b[38;5;66;03m# We're not going to put the tuple in the memo, but it's still important we\u001b[39;00m\n\u001b[0;32m    213\u001b[0m     \u001b[38;5;66;03m# check for it, in case the tuple contains recursive mutable structures.\u001b[39;00m\n\u001b[0;32m    214\u001b[0m     \u001b[38;5;28;01mtry\u001b[39;00m:\n",
      "File \u001b[1;32mC:\\Program Files\\WindowsApps\\PythonSoftwareFoundation.Python.3.11_3.11.2544.0_x64__qbz5n2kfra8p0\\Lib\\copy.py:137\u001b[0m, in \u001b[0;36mdeepcopy\u001b[1;34m(x, memo, _nil)\u001b[0m\n\u001b[0;32m    134\u001b[0m \u001b[38;5;28;01mif\u001b[39;00m memo \u001b[38;5;129;01mis\u001b[39;00m \u001b[38;5;28;01mNone\u001b[39;00m:\n\u001b[0;32m    135\u001b[0m     memo \u001b[38;5;241m=\u001b[39m {}\n\u001b[1;32m--> 137\u001b[0m d \u001b[38;5;241m=\u001b[39m \u001b[38;5;28mid\u001b[39m(x)\n\u001b[0;32m    138\u001b[0m y \u001b[38;5;241m=\u001b[39m memo\u001b[38;5;241m.\u001b[39mget(d, _nil)\n\u001b[0;32m    139\u001b[0m \u001b[38;5;28;01mif\u001b[39;00m y \u001b[38;5;129;01mis\u001b[39;00m \u001b[38;5;129;01mnot\u001b[39;00m _nil:\n",
      "\u001b[1;31mKeyboardInterrupt\u001b[0m: "
     ]
    }
   ],
   "source": [
    "length = 1\n",
    "perm_index = 0\n",
    "position_layout_addition = []\n",
    "position_layout = list(permutations(range(num_qubits), num_qubits)) + position_layout_addition\n",
    "\n",
    "while perm_index < len(position_layout):\n",
    "    start = time.time()\n",
    "    print(f\"Running from index {perm_index} to {perm_index + length} of position layout\\n\")\n",
    "    cur_perm = position_layout[perm_index : perm_index + length]\n",
    "    print(f\"Running {len(cur_perm)} Position layouts\\n\")\n",
    "    # Add the Generic Aer Full Connectivity\n",
    "    qc_transpiled_list = [\n",
    "        generic_backend.transpile_save_param(qc=qc, optimization_level=0, initial_layout=None, seed_transpiler=None, input_search = index)\n",
    "        for index, qc in enumerate(qc_find_num_list_without_barriar)\n",
    "    ]\n",
    "    cur_time = time.time() - start\n",
    "    print(f\"Opt 0 Fully Connected finished at {int(cur_time)} seconds\\n\")\n",
    "    qc_transpiled_list = qc_transpiled_list + [\n",
    "        generic_backend.transpile_save_param(qc=qc, optimization_level=3, initial_layout=None, seed_transpiler=None, input_search = index)\n",
    "        for index, qc in enumerate(qc_find_num_list_without_barriar)\n",
    "    ]\n",
    "    cur_time = time.time() - start\n",
    "    print(f\"Opt 3 Fully Connected finished at {int(cur_time)} seconds\\n\")\n",
    "    # Add the fake backend\n",
    "    for layout in [None] + cur_perm:\n",
    "        qc_transpiled_list = qc_transpiled_list + [\n",
    "            fake_backend.transpile_save_param(qc=qc, optimization_level=0, initial_layout=layout, seed_transpiler=None, input_search = index)\n",
    "            for index, qc in enumerate(qc_find_num_list_without_barriar)\n",
    "        ]\n",
    "        cur_time = time.time() - start\n",
    "        print(f\"Opt 0 FakeAucland with layout {layout} finished at {int(cur_time)} seconds\\n\")\n",
    "        qc_transpiled_list = qc_transpiled_list + [\n",
    "            fake_backend.transpile_save_param(qc=qc, optimization_level=3, initial_layout=layout, seed_transpiler=None, input_search = index)\n",
    "            for index, qc in enumerate(qc_find_num_list_without_barriar)\n",
    "        ]\n",
    "        cur_time = time.time() - start\n",
    "        print(f\"Opt 3 FakeAucland with layout {layout} finished at {int(cur_time)} seconds\\n\")\n",
    "    qc_res  = [\n",
    "        qc_param.backend.run(qc_param.transpiled_qc,shots=4096)\n",
    "        for qc_param in qc_transpiled_list\n",
    "    ]\n",
    "    cur_time = time.time() - start\n",
    "    print(f\"Results without seed finished at {int(cur_time)} seconds\\n\")\n",
    "    qc_res_seed  = [\n",
    "        qc_param.backend.run(qc_param.transpiled_qc,shots=4096, seed_simulator=seed)\n",
    "        for qc_param in qc_transpiled_list\n",
    "    ]\n",
    "    cur_time = time.time() - start\n",
    "    print(f\"Results with seed {seed} finished at {int(cur_time)} seconds\\n\")\n",
    "    \n",
    "    qc_resultData = [ResultData(res) for res in qc_res]\n",
    "    qc_resultData_seed = [ResultData(res) for res in qc_res_seed]\n",
    "    [res.set_seed(seed) for res in qc_resultData_seed]\n",
    "    print(f\"Start saving to csv seed starting to csv\\n\")\n",
    "    excel_name = f\"grover_results_{perm_index}_to_{perm_index + length}_perm.csv\"\n",
    "    save = CSVWriter(file_name=excel_name)\n",
    "    data = []\n",
    "    for qc_transpile, res_data, res_data_seed in zip(qc_transpiled_list, qc_resultData, qc_resultData_seed):\n",
    "        data.append([qc_transpile, res_data])  \n",
    "        data.append([qc_transpile, res_data_seed])  \n",
    "    save.save_data(data)\n",
    "    cur_time = time.time() - start\n",
    "    print(f\"Finished saving to csv at {int(cur_time)} seconds\\n\")\n",
    "    perm_index = perm_index + length"
   ]
  },
  {
   "cell_type": "code",
   "execution_count": 16,
   "metadata": {},
   "outputs": [],
   "source": [
    "# Add the Generic Aer Full Connectivity\n",
    "qc_transpiled_list = [\n",
    "    generic_backend.transpile_save_param(qc=qc, optimization_level=0, initial_layout=None, seed_transpiler=None, input_search = index)\n",
    "    for index, qc in enumerate(qc_find_num_list_without_barriar)\n",
    "]\n",
    "qc_transpiled_list = qc_transpiled_list + [\n",
    "    generic_backend.transpile_save_param(qc=qc, optimization_level=3, initial_layout=None, seed_transpiler=None, input_search = index)\n",
    "    for index, qc in enumerate(qc_find_num_list_without_barriar)\n",
    "]\n",
    "position_layout = list(position_layout)\n",
    "# Add the fake backend\n",
    "for layout in [None] + position_layout + position_layout_addition:\n",
    "    qc_transpiled_list = qc_transpiled_list + [\n",
    "        fake_backend.transpile_save_param(qc=qc, optimization_level=0, initial_layout=layout, seed_transpiler=None, input_search = index)\n",
    "        for index, qc in enumerate(qc_find_num_list_without_barriar)\n",
    "    ]\n",
    "    qc_transpiled_list = qc_transpiled_list + [\n",
    "        fake_backend.transpile_save_param(qc=qc, optimization_level=3, initial_layout=layout, seed_transpiler=None, input_search = index)\n",
    "        for index, qc in enumerate(qc_find_num_list_without_barriar)\n",
    "    ]"
   ]
  },
  {
   "cell_type": "code",
   "execution_count": null,
   "metadata": {},
   "outputs": [
    {
     "data": {
      "text/plain": [
       "'fake_auckland'"
      ]
     },
     "execution_count": 20,
     "metadata": {},
     "output_type": "execute_result"
    }
   ],
   "source": [
    "# Sample that we entered an input value to the result parameters to save\n",
    "qc_transpiled_list[60].backend_name"
   ]
  },
  {
   "cell_type": "code",
   "execution_count": null,
   "metadata": {},
   "outputs": [],
   "source": [
    "qc_res  = [\n",
    "    qc_param.backend.run(qc_param.transpiled_qc,shots=1024)\n",
    "    for qc_param in qc_transpiled_list\n",
    "]"
   ]
  },
  {
   "cell_type": "code",
   "execution_count": null,
   "metadata": {},
   "outputs": [],
   "source": [
    "qc_res_seed  = [\n",
    "    qc_param.backend.run(qc_param.transpiled_qc,shots=1024, seed_simulator=seed)\n",
    "    for qc_param in qc_transpiled_list\n",
    "]"
   ]
  },
  {
   "cell_type": "code",
   "execution_count": null,
   "metadata": {},
   "outputs": [
    {
     "data": {
      "text/plain": [
       "224"
      ]
     },
     "execution_count": 23,
     "metadata": {},
     "output_type": "execute_result"
    }
   ],
   "source": [
    "len(qc_res)"
   ]
  },
  {
   "cell_type": "code",
   "execution_count": null,
   "metadata": {},
   "outputs": [],
   "source": [
    "qc_resultData = [ResultData(res) for res in qc_res]"
   ]
  },
  {
   "cell_type": "code",
   "execution_count": null,
   "metadata": {},
   "outputs": [],
   "source": [
    "qc_resultData_seed = [ResultData(res) for res in qc_res_seed]\n",
    "x = [res.set_seed(seed) for res in qc_resultData_seed]"
   ]
  },
  {
   "cell_type": "code",
   "execution_count": null,
   "metadata": {},
   "outputs": [
    {
     "data": {
      "text/plain": [
       "224"
      ]
     },
     "execution_count": 26,
     "metadata": {},
     "output_type": "execute_result"
    }
   ],
   "source": [
    "len(qc_resultData)"
   ]
  },
  {
   "cell_type": "code",
   "execution_count": null,
   "metadata": {},
   "outputs": [
    {
     "name": "stdout",
     "output_type": "stream",
     "text": [
      "Data saved to ..\\logs\\grover_results_2024_08_09_22_03_54.csv\n"
     ]
    }
   ],
   "source": [
    "# excel_path = \"../logs\"\n",
    "excel_name = \"grover_results.csv\"\n",
    "\n",
    "save = CSVWriter(file_name=excel_name)\n",
    "\n",
    "data = []\n",
    "for qc_transpile, res_data, res_data_seed in zip(qc_transpiled_list, qc_resultData, qc_resultData_seed):\n",
    "    data.append([qc_transpile, res_data])  \n",
    "    data.append([qc_transpile, res_data_seed])  \n",
    "\n",
    "save.save_data(data)"
   ]
  }
 ],
 "metadata": {
  "kernelspec": {
   "display_name": "Python 3",
   "language": "python",
   "name": "python3"
  },
  "language_info": {
   "codemirror_mode": {
    "name": "ipython",
    "version": 3
   },
   "file_extension": ".py",
   "mimetype": "text/x-python",
   "name": "python",
   "nbconvert_exporter": "python",
   "pygments_lexer": "ipython3",
   "version": "3.11.9"
  }
 },
 "nbformat": 4,
 "nbformat_minor": 2
}
