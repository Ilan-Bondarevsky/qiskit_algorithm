{
 "cells": [
  {
   "cell_type": "code",
   "execution_count": 1,
   "metadata": {},
   "outputs": [],
   "source": [
    "from Grover.grover_num_list_cirq import find_num, find_num_list\n",
    "from qiskit.visualization import plot_histogram, plot_coupling_map\n",
    "from backend_operation import run_simulator, get_transpiled_circuits_of_circuit, get_fake_backend_list,get_unitary, get_fake_backend, get_fake_backend_list"
   ]
  },
  {
   "cell_type": "code",
   "execution_count": 2,
   "metadata": {},
   "outputs": [],
   "source": [
    "from qiskit import transpile\n",
    "import qiskit.providers.fake_provider\n",
    "from qiskit_ibm_provider import IBMProvider\n",
    "from qiskit.transpiler.passes import RemoveBarriers\n",
    "from qiskit_aer import AerSimulator, Aer"
   ]
  },
  {
   "cell_type": "code",
   "execution_count": null,
   "metadata": {},
   "outputs": [],
   "source": [
    "Aer.get_backend('aer_simulator')"
   ]
  },
  {
   "cell_type": "code",
   "execution_count": null,
   "metadata": {},
   "outputs": [],
   "source": [
    "x=AerSimulator()\n"
   ]
  },
  {
   "cell_type": "code",
   "execution_count": null,
   "metadata": {},
   "outputs": [],
   "source": [
    "AerSimulator.available_methods(x)"
   ]
  },
  {
   "cell_type": "code",
   "execution_count": null,
   "metadata": {},
   "outputs": [],
   "source": [
    "5"
   ]
  },
  {
   "cell_type": "code",
   "execution_count": null,
   "metadata": {},
   "outputs": [],
   "source": [
    "import qiskit_ibm_runtime.fake_provider\n",
    "from qiskit import QuantumCircuit, QuantumRegister, AncillaRegister\n",
    "from bit_functions import full_bitfield, get_qubit_list"
   ]
  },
  {
   "cell_type": "code",
   "execution_count": null,
   "metadata": {},
   "outputs": [],
   "source": [
    "dir(qiskit_ibm_runtime.fake_provider)"
   ]
  },
  {
   "cell_type": "code",
   "execution_count": null,
   "metadata": {},
   "outputs": [],
   "source": [
    "backend = qiskit_ibm_runtime.fake_provider.FakeAuckland()"
   ]
  },
  {
   "cell_type": "code",
   "execution_count": null,
   "metadata": {},
   "outputs": [],
   "source": [
    "# GenericBackendV2 = Aer ()"
   ]
  },
  {
   "cell_type": "code",
   "execution_count": null,
   "metadata": {},
   "outputs": [],
   "source": [
    "backend = qiskit.providers.fake_provider.GenericBackendV2(num_qubits=5)\n",
    "circuit = QuantumCircuit(3)\n",
    "circuit.h(0)\n",
    "circuit.cx(0,1)\n",
    "circuit.cx(0,2)\n",
    "circuit.measure_all()\n",
    "circuit.draw('mpl')\n"
   ]
  },
  {
   "cell_type": "code",
   "execution_count": null,
   "metadata": {},
   "outputs": [],
   "source": [
    "backend.coupling_map.draw()"
   ]
  },
  {
   "cell_type": "code",
   "execution_count": null,
   "metadata": {},
   "outputs": [],
   "source": [
    "circuit.data"
   ]
  },
  {
   "cell_type": "code",
   "execution_count": null,
   "metadata": {},
   "outputs": [],
   "source": [
    "# Transpile the ideal circuit to a circuit that can be directly executed by the backend\n",
    "transpiled_circuit = transpile(circuit, backend, optimization_level=0)\n",
    "transpiled_circuit.draw('mpl')"
   ]
  },
  {
   "cell_type": "code",
   "execution_count": null,
   "metadata": {},
   "outputs": [],
   "source": [
    "transpiled_circuit.data"
   ]
  },
  {
   "cell_type": "code",
   "execution_count": null,
   "metadata": {},
   "outputs": [],
   "source": [
    "# Run the transpiled circuit using the simulated backend\n",
    "job = backend.run(transpiled_circuit)\n",
    "counts = job.result().get_counts()\n",
    "plot_histogram(counts)"
   ]
  },
  {
   "cell_type": "code",
   "execution_count": null,
   "metadata": {},
   "outputs": [],
   "source": [
    "dir(qiskit.providers.fake_provider)"
   ]
  },
  {
   "cell_type": "code",
   "execution_count": null,
   "metadata": {},
   "outputs": [],
   "source": [
    "import random\n",
    "import timeit\n",
    "import matplotlib.colors as mcolors"
   ]
  },
  {
   "cell_type": "code",
   "execution_count": null,
   "metadata": {},
   "outputs": [],
   "source": [
    "from itertools import combinations, permutations"
   ]
  },
  {
   "cell_type": "code",
   "execution_count": null,
   "metadata": {},
   "outputs": [],
   "source": [
    "block_diagram = False\n",
    "qc_size = 4"
   ]
  },
  {
   "cell_type": "code",
   "execution_count": null,
   "metadata": {},
   "outputs": [],
   "source": [
    "fake_backed_name = 'FakeAuckland' #random.sample(get_fake_backend_list(min_qubit=len(experiments[0].qubits), max_qubit=len(experiments[0].qubits) + 10),1)[0][0]"
   ]
  },
  {
   "cell_type": "code",
   "execution_count": 3,
   "metadata": {},
   "outputs": [
    {
     "ename": "NameError",
     "evalue": "name 'block_diagram' is not defined",
     "output_type": "error",
     "traceback": [
      "\u001b[1;31m---------------------------------------------------------------------------\u001b[0m",
      "\u001b[1;31mNameError\u001b[0m                                 Traceback (most recent call last)",
      "Cell \u001b[1;32mIn[3], line 6\u001b[0m\n\u001b[0;32m      4\u001b[0m \u001b[38;5;28;01mfor\u001b[39;00m winner \u001b[38;5;129;01min\u001b[39;00m num_list:\n\u001b[0;32m      5\u001b[0m     grover_num \u001b[38;5;241m=\u001b[39m find_num()\n\u001b[1;32m----> 6\u001b[0m     grover_num\u001b[38;5;241m.\u001b[39mbuild_iteration([winner],circuit_nqubits\u001b[38;5;241m=\u001b[39mnum_qubits, block_diagram\u001b[38;5;241m=\u001b[39m\u001b[43mblock_diagram\u001b[49m)\n\u001b[0;32m      7\u001b[0m     grover_num\u001b[38;5;241m.\u001b[39mcreate_grover(solutions \u001b[38;5;241m=\u001b[39m \u001b[38;5;241m1\u001b[39m, block_diagram\u001b[38;5;241m=\u001b[39mblock_diagram)\n\u001b[0;32m      8\u001b[0m     final_expermient\u001b[38;5;241m.\u001b[39mappend(grover_num\u001b[38;5;241m.\u001b[39mmeasure_qc[\u001b[38;5;241m0\u001b[39m])\n",
      "\u001b[1;31mNameError\u001b[0m: name 'block_diagram' is not defined"
     ]
    }
   ],
   "source": [
    "num_qubits = 3\n",
    "num_list = list(range(2**num_qubits))\n",
    "final_expermient = []\n",
    "for winner in num_list:\n",
    "    grover_num = find_num()\n",
    "    grover_num.build_iteration([winner],circuit_nqubits=num_qubits, block_diagram=block_diagram)\n",
    "    grover_num.create_grover(solutions = 1, block_diagram=block_diagram)\n",
    "    final_expermient.append(grover_num.measure_qc[0])"
   ]
  },
  {
   "cell_type": "code",
   "execution_count": null,
   "metadata": {},
   "outputs": [],
   "source": [
    "transpiled_circuit = [\n",
    "    get_transpiled_circuits_of_circuit(qc, ['Aer', fake_backed_name], \n",
    "                                                    [None] + list(permutations(range(num_qubits))),\n",
    "                                                    optimization_level_list=[0,3])\n",
    "    for qc in final_expermient\n",
    "]\n"
   ]
  },
  {
   "cell_type": "code",
   "execution_count": null,
   "metadata": {},
   "outputs": [],
   "source": [
    "result_for_circuiut = [\n",
    "    [\n",
    "        run_simulator(qc,shots = 1024 * 4)\n",
    "        for qc in qc_value\n",
    "    ]\n",
    "    for qc_value in transpiled_circuit\n",
    "]"
   ]
  },
  {
   "cell_type": "code",
   "execution_count": null,
   "metadata": {},
   "outputs": [],
   "source": [
    "output = []\n",
    "for value, circuits in enumerate(result_for_circuiut):\n",
    "    for index, run_circuit in enumerate(circuits): \n",
    "        result_dict= run_circuit.to_dict()\n",
    "        cirq_result = result_dict['results'][0]\n",
    "        cirq_counts = cirq_result['data']['counts']\n",
    "        cirq_time = cirq_result['time_taken']\n",
    "        cirq_name = cirq_result['header']['name']\n",
    "        cirq_depth = transpiled_circuit[value][index].depth()\n",
    "        output.append({'value' : value, 'name' : cirq_name, 'time_taken' :cirq_time, 'depth':cirq_depth, 'count':cirq_counts})"
   ]
  },
  {
   "cell_type": "code",
   "execution_count": null,
   "metadata": {},
   "outputs": [],
   "source": [
    "data = {\n",
    "    'Value' : [],\n",
    "    'Backend' : [],\n",
    "    'Qubit_Position' : [],\n",
    "    'Optimization_level' : [],\n",
    "    'Depth' : [],\n",
    "    'Time_Taken' : [],\n",
    "    'Counts' : []\n",
    "}"
   ]
  },
  {
   "cell_type": "code",
   "execution_count": null,
   "metadata": {},
   "outputs": [],
   "source": [
    "for cur_data in output:\n",
    "    data['Value'].append(cur_data['value'])\n",
    "    data['Backend'].append(cur_data['name'].split('|')[0].replace(\" \",\"\"))\n",
    "    data['Qubit_Position'].append(cur_data['name'].split('|')[1].replace(\" \",\"\"))\n",
    "    data['Optimization_level'].append(cur_data['name'].split('|')[2].replace(\" \",\"\"))\n",
    "    data['Depth'].append(cur_data['depth'])\n",
    "    data['Time_Taken'].append(cur_data['time_taken'])\n",
    "    data['Counts'].append([cur_data['count'][f'0x{index}'] for index in range(len(cur_data['count']))])"
   ]
  },
  {
   "cell_type": "code",
   "execution_count": null,
   "metadata": {},
   "outputs": [],
   "source": [
    "for cur_data in output:\n",
    "    data['Value'].append(cur_data['value'])  # Assuming value is stored at index 0 in each sublist\n",
    "    backend, qubit_position, optimization_level = cur_data['name'].split('|')\n",
    "    data['Backend'].append(backend.strip())\n",
    "    data['Qubit_Position'].append(qubit_position.strip())\n",
    "    data['Optimization_level'].append(optimization_level.strip())\n",
    "    data['Depth'].append(cur_data['depth'])  # Assuming depth is stored at index 2 in each sublist\n",
    "    data['Time_Taken'].append(cur_data['time_taken'])  # Assuming time_taken is stored at index 3 in each sublist\n",
    "    counts = [cur_data['count'][f'0x{index}'] for index in range(len(cur_data['count']))]  # Assuming counts is stored at index 4 in each sublist\n",
    "    data['Counts'].append(counts)\n"
   ]
  },
  {
   "cell_type": "code",
   "execution_count": null,
   "metadata": {},
   "outputs": [],
   "source": [
    "import pandas as pd\n",
    "data = pd.DataFrame(data) "
   ]
  },
  {
   "cell_type": "code",
   "execution_count": null,
   "metadata": {},
   "outputs": [],
   "source": [
    "data"
   ]
  },
  {
   "cell_type": "code",
   "execution_count": null,
   "metadata": {},
   "outputs": [],
   "source": [
    "output"
   ]
  },
  {
   "cell_type": "code",
   "execution_count": null,
   "metadata": {},
   "outputs": [],
   "source": []
  },
  {
   "cell_type": "code",
   "execution_count": null,
   "metadata": {},
   "outputs": [],
   "source": [
    "min_value = 5\n",
    "max_value = 15\n",
    "win = random.sample(range(min_value, max_value),1)\n",
    "print(win)"
   ]
  },
  {
   "cell_type": "code",
   "execution_count": null,
   "metadata": {},
   "outputs": [],
   "source": [
    "grover_find_value_win_size = find_num()\n",
    "grover_find_value_win_size.build_iteration(win, block_diagram=block_diagram)\n",
    "grover_find_value_win_size.create_grover(block_diagram=block_diagram, solutions=len(list(win)))\n",
    "experiments = grover_find_value_win_size.measure_qc\n",
    "\n",
    "experiments[0].draw('mpl')"
   ]
  },
  {
   "cell_type": "code",
   "execution_count": null,
   "metadata": {},
   "outputs": [],
   "source": [
    "fake_backed_name = 'FakeAuckland' #random.sample(get_fake_backend_list(min_qubit=len(experiments[0].qubits), max_qubit=len(experiments[0].qubits) + 10),1)[0][0]"
   ]
  },
  {
   "cell_type": "code",
   "execution_count": null,
   "metadata": {},
   "outputs": [],
   "source": [
    "get_fake_backend_list()"
   ]
  },
  {
   "cell_type": "code",
   "execution_count": null,
   "metadata": {},
   "outputs": [],
   "source": [
    "backend = get_fake_backend('FakeGuadalupeV2')\n",
    "print(backend.coupling_map)\n",
    "backend.coupling_map.draw()"
   ]
  },
  {
   "cell_type": "code",
   "execution_count": null,
   "metadata": {},
   "outputs": [],
   "source": [
    "transpiled_qc_list = get_transpiled_circuits_of_circuit(experiments[0], ['Aer', fake_backed_name], \n",
    "                                                   [None, 'Full_Range'],\n",
    "                                                   optimization_level_list=[0,3])"
   ]
  },
  {
   "cell_type": "code",
   "execution_count": null,
   "metadata": {},
   "outputs": [],
   "source": [
    "plot_histogram({\n",
    "    qc.name : qc.depth()\n",
    "    for qc in transpiled_qc_list\n",
    "})"
   ]
  },
  {
   "cell_type": "code",
   "execution_count": null,
   "metadata": {},
   "outputs": [],
   "source": [
    "transpiled_qc_list[0].draw('mpl')"
   ]
  },
  {
   "cell_type": "code",
   "execution_count": null,
   "metadata": {},
   "outputs": [],
   "source": [
    "transpiled_qc_list[1].draw('mpl')"
   ]
  },
  {
   "cell_type": "code",
   "execution_count": null,
   "metadata": {},
   "outputs": [],
   "source": [
    "transpiled_qc_list[4].draw('mpl')"
   ]
  },
  {
   "cell_type": "code",
   "execution_count": null,
   "metadata": {},
   "outputs": [],
   "source": [
    "transpiled_qc_list[5].draw('mpl')"
   ]
  },
  {
   "cell_type": "code",
   "execution_count": null,
   "metadata": {},
   "outputs": [],
   "source": [
    "plot_histogram([run_simulator(qc,shots = 1024 * 4).get_counts() for qc in transpiled_qc_list], \n",
    "               legend=[qc.name for qc in transpiled_qc_list], color=list(random.choices(list(mcolors.get_named_colors_mapping().values()), k = len(transpiled_qc_list))),\n",
    "               title=\"Result transpilers\")"
   ]
  },
  {
   "cell_type": "code",
   "execution_count": null,
   "metadata": {},
   "outputs": [],
   "source": [
    "num_list_num = 4\n",
    "data_arr = list(range(num_list_num))\n",
    "random.shuffle(data_arr)\n",
    "win = random.sample(data_arr, 1)\n",
    "\n",
    "print(f\"Data array: {data_arr} , the winner: {win}\")"
   ]
  },
  {
   "cell_type": "code",
   "execution_count": null,
   "metadata": {},
   "outputs": [],
   "source": [
    "st = timeit.default_timer()\n",
    "sol = []\n",
    "for i, val in enumerate(data_arr):\n",
    "    if val in win:\n",
    "        sol.append(i)\n",
    "        \n",
    "end = timeit.default_timer()\n",
    "print(f\"Time: {end - st} , solution : {sol}\")"
   ]
  },
  {
   "cell_type": "code",
   "execution_count": null,
   "metadata": {},
   "outputs": [],
   "source": [
    "grover_find_value_list = find_num_list()\n",
    "grover_find_value_list.build_iteration(win, block_diagram=block_diagram, num_array = data_arr)\n",
    "grover_find_value_list.create_grover(block_diagram=block_diagram, num_solutions=len(list(win)))\n",
    "experiments = grover_find_value_list.measure_qc\n",
    "print(experiments)\n",
    "experiments[0].draw('mpl')"
   ]
  },
  {
   "cell_type": "code",
   "execution_count": null,
   "metadata": {},
   "outputs": [],
   "source": [
    "x =  find_num_list()\n",
    "x.build_iteration(winner_list=[5],num_array = [0,5,3], block_diagram=False)\n",
    "x.create_grover(num_solutions=1,block_diagram=False)\n",
    "x.measure_qc[0].draw('mpl')\n"
   ]
  },
  {
   "cell_type": "code",
   "execution_count": null,
   "metadata": {},
   "outputs": [],
   "source": [
    "from Grover.transpiler import *\n",
    "\n",
    "qc = remove_barriar_gate(x.measure_qc[0])\n",
    "qc.draw('mpl')"
   ]
  },
  {
   "cell_type": "code",
   "execution_count": null,
   "metadata": {},
   "outputs": [],
   "source": [
    "qc, did_remove = remove_similiar_adjacent(qc)\n"
   ]
  },
  {
   "cell_type": "code",
   "execution_count": null,
   "metadata": {},
   "outputs": [],
   "source": [
    "qc.draw('mpl')"
   ]
  },
  {
   "cell_type": "code",
   "execution_count": null,
   "metadata": {},
   "outputs": [],
   "source": [
    "transpiled_qc_list = get_transpiled_circuits_of_circuit(experiments[0], ['Aer', fake_backed_name], \n",
    "                                                   [None, 'Full_Range'],\n",
    "                                                   optimization_level_list=[0,3])\n",
    "plot_histogram({\n",
    "    qc.name : qc.depth()\n",
    "    for qc in transpiled_qc_list\n",
    "})"
   ]
  },
  {
   "cell_type": "code",
   "execution_count": null,
   "metadata": {},
   "outputs": [],
   "source": [
    "qc_result = [run_simulator(qc, shots = 1024 * 4) for qc in transpiled_qc_list]"
   ]
  },
  {
   "cell_type": "code",
   "execution_count": null,
   "metadata": {},
   "outputs": [],
   "source": [
    "plot_histogram([qc.get_counts() for qc in qc_result], \n",
    "               legend=[qc.name for qc in transpiled_qc_list], color=list(random.choices(list(mcolors.get_named_colors_mapping().values()), k = len(transpiled_qc_list))),\n",
    "               title=\"Result transpilers\")"
   ]
  },
  {
   "cell_type": "code",
   "execution_count": null,
   "metadata": {},
   "outputs": [],
   "source": [
    "[{qc.name : result.time_taken} for result, qc in zip(qc_result, transpiled_qc_list)]"
   ]
  },
  {
   "cell_type": "code",
   "execution_count": null,
   "metadata": {},
   "outputs": [],
   "source": [
    "for qc in transpiled_qc_list:\n",
    "    print(qc.qubits)"
   ]
  },
  {
   "cell_type": "code",
   "execution_count": null,
   "metadata": {},
   "outputs": [],
   "source": [
    "transpiled_qc_list[1].draw('mpl')"
   ]
  },
  {
   "cell_type": "code",
   "execution_count": null,
   "metadata": {},
   "outputs": [],
   "source": [
    "transpiled_qc_list[6].draw('mpl')"
   ]
  },
  {
   "cell_type": "code",
   "execution_count": null,
   "metadata": {},
   "outputs": [],
   "source": [
    "transpiled_qc_list[1].draw('mpl')"
   ]
  },
  {
   "cell_type": "code",
   "execution_count": null,
   "metadata": {},
   "outputs": [],
   "source": [
    "for gate in transpiled_qc_list[1].data:\n",
    "    print(gate)"
   ]
  },
  {
   "cell_type": "code",
   "execution_count": null,
   "metadata": {},
   "outputs": [],
   "source": [
    "transpiled_qc_list[5].draw('mpl')"
   ]
  }
 ],
 "metadata": {
  "kernelspec": {
   "display_name": "base",
   "language": "python",
   "name": "python3"
  },
  "language_info": {
   "codemirror_mode": {
    "name": "ipython",
    "version": 3
   },
   "file_extension": ".py",
   "mimetype": "text/x-python",
   "name": "python",
   "nbconvert_exporter": "python",
   "pygments_lexer": "ipython3",
   "version": "3.11.9"
  }
 },
 "nbformat": 4,
 "nbformat_minor": 2
}
